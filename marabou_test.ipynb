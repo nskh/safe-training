{
 "cells": [
  {
   "cell_type": "markdown",
   "id": "afd7207c",
   "metadata": {},
   "source": [
    "## Imports"
   ]
  },
  {
   "cell_type": "code",
   "execution_count": null,
   "id": "e4d30ace",
   "metadata": {},
   "outputs": [],
   "source": [
    "%load_ext autoreload\n",
    "%autoreload 2\n",
    "\n",
    "import tensorflow as tf\n",
    "from tensorflow import keras\n",
    "from tensorflow.keras import layers\n",
    "\n",
    "# TODO get interactive plotting working in jupyterlab\n",
    "%matplotlib inline\n",
    "import matplotlib\n",
    "import matplotlib.pyplot as plt\n",
    "import numpy as np\n",
    "import scipy\n",
    "\n",
    "from interval import interval, inf, imath\n",
    "\n",
    "from safe_train import *\n",
    "from exploration_examples import safe_training_loop"
   ]
  },
  {
   "cell_type": "markdown",
   "id": "760695d5-3dd1-40f7-b95a-cf142cc1e259",
   "metadata": {},
   "source": [
    "# Using Marabou"
   ]
  },
  {
   "cell_type": "code",
   "execution_count": null,
   "id": "d3cb0e2d-38c8-4118-9908-4774b52d116f",
   "metadata": {
    "scrolled": true,
    "tags": []
   },
   "outputs": [],
   "source": [
    "x = np.linspace(0, 10, 100)\n",
    "y = x**2\n",
    "# plt.scatter(x, y)\n",
    "# plt.show()\n",
    "\n",
    "input_interval = interval[1, 2]\n",
    "desired_interval = interval[0.5, 4.5]\n",
    "\n",
    "model = safe_training_loop(input_interval, desired_interval, x, y, verbose=True)\n",
    "\n",
    "# history = regression_model.fit(\n",
    "#     x,\n",
    "#     y,\n",
    "#     epochs=100,\n",
    "#     # Suppress logging.\n",
    "#     verbose=0,\n",
    "#     # Calculate validation results on 10% of the training data.\n",
    "#     validation_split=0.1,\n",
    "# )\n",
    "\n",
    "y_predict = model.predict(x)\n",
    "\n",
    "output_interval, _ = propagate_interval(input_interval, model)\n",
    "print(f\"output_interval: {output_interval}\")\n",
    "plot_intervals(input_interval, output_interval, x, y, y_predict, \n",
    "               xlim=[0, 5], ylim=[0, 10], desired_interval=desired_interval)\n"
   ]
  },
  {
   "cell_type": "code",
   "execution_count": null,
   "id": "ca1b1b06-a67a-4dd6-921e-98e6ede69c65",
   "metadata": {},
   "outputs": [],
   "source": [
    "net = Marabou.read_tf(\"tmp\", modelType=\"savedModel_v2\")"
   ]
  },
  {
   "cell_type": "code",
   "execution_count": null,
   "id": "62a9debe-1c0e-48cf-9ec0-adeeea2b9428",
   "metadata": {},
   "outputs": [],
   "source": []
  },
  {
   "cell_type": "code",
   "execution_count": null,
   "id": "ee53fc9d-38cf-4df7-8a1f-b65802d432c9",
   "metadata": {},
   "outputs": [],
   "source": []
  },
  {
   "cell_type": "code",
   "execution_count": null,
   "id": "53051688-f7ea-4975-983a-18da0898838e",
   "metadata": {},
   "outputs": [],
   "source": []
  },
  {
   "cell_type": "code",
   "execution_count": null,
   "id": "8123e94b-3418-45bc-9ec8-244b3ae7f08f",
   "metadata": {},
   "outputs": [],
   "source": [
    "\n"
   ]
  }
 ],
 "metadata": {
  "kernelspec": {
   "display_name": "Python 3 (ipykernel)",
   "language": "python",
   "name": "python3"
  },
  "language_info": {
   "codemirror_mode": {
    "name": "ipython",
    "version": 3
   },
   "file_extension": ".py",
   "mimetype": "text/x-python",
   "name": "python",
   "nbconvert_exporter": "python",
   "pygments_lexer": "ipython3",
   "version": "3.10.9"
  }
 },
 "nbformat": 4,
 "nbformat_minor": 5
}
