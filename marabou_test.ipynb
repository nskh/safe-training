{
 "cells": [
  {
   "cell_type": "markdown",
   "id": "afd7207c",
   "metadata": {},
   "source": [
    "## Imports"
   ]
  },
  {
   "cell_type": "code",
   "execution_count": 1,
   "id": "e4d30ace",
   "metadata": {},
   "outputs": [
    {
     "name": "stdout",
     "output_type": "stream",
     "text": [
      "WARNING:tensorflow:From /Users/stevenschaefer/safe-training/env/lib/python3.11/site-packages/tensorflow/python/compat/v2_compat.py:107: disable_resource_variables (from tensorflow.python.ops.variable_scope) is deprecated and will be removed in a future version.\n",
      "Instructions for updating:\n",
      "non-resource variables are not supported in the long term\n"
     ]
    },
    {
     "name": "stderr",
     "output_type": "stream",
     "text": [
      "/Users/stevenschaefer/safe-training/marabou/maraboupy/Marabou.py:31: UserWarning: ONNX parser is unavailable because onnx or onnxruntime packages are not installed\n",
      "  warnings.warn(\"ONNX parser is unavailable because onnx or onnxruntime packages are not installed\")\n"
     ]
    }
   ],
   "source": [
    "%load_ext autoreload\n",
    "%autoreload 2\n",
    "\n",
    "import tensorflow as tf\n",
    "from tensorflow import keras\n",
    "from tensorflow.keras import layers\n",
    "\n",
    "# TODO get interactive plotting working in jupyterlab\n",
    "%matplotlib inline\n",
    "import matplotlib\n",
    "import matplotlib.pyplot as plt\n",
    "import numpy as np\n",
    "import scipy\n",
    "\n",
    "from interval import interval, inf, imath\n",
    "\n",
    "from safe_train import *"
   ]
  },
  {
   "cell_type": "markdown",
   "id": "760695d5-3dd1-40f7-b95a-cf142cc1e259",
   "metadata": {},
   "source": [
    "# Using Marabou"
   ]
  },
  {
   "cell_type": "code",
   "execution_count": 17,
   "id": "d3cb0e2d-38c8-4118-9908-4774b52d116f",
   "metadata": {
    "scrolled": true
   },
   "outputs": [
    {
     "name": "stderr",
     "output_type": "stream",
     "text": [
      "WARNING:absl:At this time, the v2.11+ optimizer `tf.keras.optimizers.Adam` runs slowly on M1/M2 Macs, please use the legacy Keras optimizer instead, located at `tf.keras.optimizers.legacy.Adam`.\n"
     ]
    },
    {
     "name": "stdout",
     "output_type": "stream",
     "text": [
      "********************\n",
      "\n",
      "Start of epoch 0\n",
      "interval([2.0, 3.0])\n",
      "[interval([1.7884757928550243, 2.681675475090742])]\n",
      "With Marabou:\n",
      "\n",
      "INFO:tensorflow:Assets written to: tmp/assets\n"
     ]
    },
    {
     "name": "stderr",
     "output_type": "stream",
     "text": [
      "INFO:tensorflow:Assets written to: tmp/assets\n"
     ]
    },
    {
     "name": "stdout",
     "output_type": "stream",
     "text": [
      "adding constraints\n",
      "0 > 2.0\n",
      "0 < 3.0\n",
      "1 > 1.0\n",
      "1 < 4.0\n",
      "ERROR\n",
      "vals are {}\n",
      "\n",
      "\n",
      "Without:\n",
      "\n",
      "safe region test passed, interval was interval([1.7884757928550243, 2.681675475090742])\n",
      "output interval interval([1.7884757928550243, 2.681675475090742])\n",
      "********************\n",
      "\n",
      "Start of epoch 1\n",
      "interval([2.0, 3.0])\n",
      "[interval([1.901494786143303, 2.8883815854787827])]\n",
      "With Marabou:\n",
      "\n",
      "INFO:tensorflow:Assets written to: tmp/assets\n"
     ]
    },
    {
     "name": "stderr",
     "output_type": "stream",
     "text": [
      "INFO:tensorflow:Assets written to: tmp/assets\n"
     ]
    },
    {
     "name": "stdout",
     "output_type": "stream",
     "text": [
      "adding constraints\n",
      "0 > 2.0\n",
      "0 < 3.0\n",
      "1 > 1.0\n",
      "1 < 4.0\n",
      "ERROR\n",
      "vals are {}\n",
      "\n",
      "\n",
      "Without:\n",
      "\n",
      "safe region test passed, interval was interval([1.901494786143303, 2.8883815854787827])\n",
      "output interval interval([1.901494786143303, 2.8883815854787827])\n",
      "********************\n",
      "\n",
      "Start of epoch 2\n",
      "interval([2.0, 3.0])\n",
      "[interval([2.1155025511980057, 3.178291991353035])]\n",
      "With Marabou:\n",
      "\n",
      "INFO:tensorflow:Assets written to: tmp/assets\n"
     ]
    },
    {
     "name": "stderr",
     "output_type": "stream",
     "text": [
      "INFO:tensorflow:Assets written to: tmp/assets\n"
     ]
    },
    {
     "name": "stdout",
     "output_type": "stream",
     "text": [
      "adding constraints\n",
      "0 > 2.0\n",
      "0 < 3.0\n",
      "1 > 1.0\n",
      "1 < 4.0\n",
      "ERROR\n",
      "vals are {}\n",
      "\n",
      "\n",
      "Without:\n",
      "\n",
      "safe region test passed, interval was interval([2.1155025511980057, 3.178291991353035])\n",
      "output interval interval([2.1155025511980057, 3.178291991353035])\n",
      "********************\n",
      "\n",
      "Start of epoch 3\n",
      "interval([2.0, 3.0])\n",
      "[interval([2.2637827806174755, 3.3714681081473827])]\n",
      "With Marabou:\n",
      "\n",
      "INFO:tensorflow:Assets written to: tmp/assets\n"
     ]
    },
    {
     "name": "stderr",
     "output_type": "stream",
     "text": [
      "INFO:tensorflow:Assets written to: tmp/assets\n"
     ]
    },
    {
     "name": "stdout",
     "output_type": "stream",
     "text": [
      "adding constraints\n",
      "0 > 2.0\n",
      "0 < 3.0\n",
      "1 > 1.0\n",
      "1 < 4.0\n",
      "ERROR\n",
      "vals are {}\n",
      "\n",
      "\n",
      "Without:\n",
      "\n",
      "safe region test passed, interval was interval([2.2637827806174755, 3.3714681081473827])\n",
      "output interval interval([2.2637827806174755, 3.3714681081473827])\n",
      "********************\n",
      "\n",
      "Start of epoch 4\n",
      "interval([2.0, 3.0])\n",
      "[interval([2.299588978290558, 3.419666349887848])]\n",
      "With Marabou:\n",
      "\n",
      "INFO:tensorflow:Assets written to: tmp/assets\n"
     ]
    },
    {
     "name": "stderr",
     "output_type": "stream",
     "text": [
      "INFO:tensorflow:Assets written to: tmp/assets\n"
     ]
    },
    {
     "name": "stdout",
     "output_type": "stream",
     "text": [
      "adding constraints\n",
      "0 > 2.0\n",
      "0 < 3.0\n",
      "1 > 1.0\n",
      "1 < 4.0\n",
      "ERROR\n",
      "vals are {}\n",
      "\n",
      "\n",
      "Without:\n",
      "\n",
      "safe region test passed, interval was interval([2.299588978290558, 3.419666349887848])\n",
      "output interval interval([2.299588978290558, 3.419666349887848])\n",
      "********************\n",
      "\n",
      "Start of epoch 5\n",
      "interval([2.0, 3.0])\n",
      "[interval([2.2542942985892296, 3.362463854253292])]\n",
      "With Marabou:\n",
      "\n",
      "INFO:tensorflow:Assets written to: tmp/assets\n"
     ]
    },
    {
     "name": "stderr",
     "output_type": "stream",
     "text": [
      "INFO:tensorflow:Assets written to: tmp/assets\n"
     ]
    },
    {
     "name": "stdout",
     "output_type": "stream",
     "text": [
      "adding constraints\n",
      "0 > 2.0\n",
      "0 < 3.0\n",
      "1 > 1.0\n",
      "1 < 4.0\n",
      "ERROR\n",
      "vals are {}\n",
      "\n",
      "\n",
      "Without:\n",
      "\n",
      "safe region test passed, interval was interval([2.2542942985892296, 3.362463854253292])\n",
      "output interval interval([2.2542942985892296, 3.362463854253292])\n",
      "********************\n",
      "\n",
      "Start of epoch 6\n",
      "interval([2.0, 3.0])\n",
      "[interval([2.1646222844719887, 3.245338059961796])]\n",
      "With Marabou:\n",
      "\n",
      "INFO:tensorflow:Assets written to: tmp/assets\n"
     ]
    },
    {
     "name": "stderr",
     "output_type": "stream",
     "text": [
      "INFO:tensorflow:Assets written to: tmp/assets\n"
     ]
    },
    {
     "name": "stdout",
     "output_type": "stream",
     "text": [
      "adding constraints\n",
      "0 > 2.0\n",
      "0 < 3.0\n",
      "1 > 1.0\n",
      "1 < 4.0\n",
      "ERROR\n",
      "vals are {}\n",
      "\n",
      "\n",
      "Without:\n",
      "\n",
      "safe region test passed, interval was interval([2.1646222844719887, 3.245338059961796])\n",
      "output interval interval([2.1646222844719887, 3.245338059961796])\n",
      "********************\n",
      "\n",
      "Start of epoch 7\n",
      "interval([2.0, 3.0])\n",
      "[interval([2.0606942512094975, 3.1054674722254276])]\n",
      "With Marabou:\n",
      "\n",
      "INFO:tensorflow:Assets written to: tmp/assets\n"
     ]
    },
    {
     "name": "stderr",
     "output_type": "stream",
     "text": [
      "INFO:tensorflow:Assets written to: tmp/assets\n"
     ]
    },
    {
     "name": "stdout",
     "output_type": "stream",
     "text": [
      "adding constraints\n",
      "0 > 2.0\n",
      "0 < 3.0\n",
      "1 > 1.0\n",
      "1 < 4.0\n",
      "ERROR\n",
      "vals are {}\n",
      "\n",
      "\n",
      "Without:\n",
      "\n",
      "safe region test passed, interval was interval([2.0606942512094975, 3.1054674722254276])\n",
      "output interval interval([2.0606942512094975, 3.1054674722254276])\n",
      "********************\n",
      "\n",
      "Start of epoch 8\n",
      "interval([2.0, 3.0])\n",
      "[interval([1.9685395397245884, 2.974927607923746])]\n",
      "With Marabou:\n",
      "\n",
      "INFO:tensorflow:Assets written to: tmp/assets\n"
     ]
    },
    {
     "name": "stderr",
     "output_type": "stream",
     "text": [
      "INFO:tensorflow:Assets written to: tmp/assets\n"
     ]
    },
    {
     "name": "stdout",
     "output_type": "stream",
     "text": [
      "adding constraints\n",
      "0 > 2.0\n",
      "0 < 3.0\n",
      "1 > 1.0\n",
      "1 < 4.0\n",
      "ERROR\n",
      "vals are {}\n",
      "\n",
      "\n",
      "Without:\n",
      "\n",
      "safe region test passed, interval was interval([1.9685395397245884, 2.974927607923746])\n",
      "output interval interval([1.9685395397245884, 2.974927607923746])\n",
      "********************\n",
      "\n",
      "Start of epoch 9\n",
      "interval([2.0, 3.0])\n",
      "[interval([1.9025701619684696, 2.8737469650804996])]\n",
      "With Marabou:\n",
      "\n",
      "INFO:tensorflow:Assets written to: tmp/assets\n"
     ]
    },
    {
     "name": "stderr",
     "output_type": "stream",
     "text": [
      "INFO:tensorflow:Assets written to: tmp/assets\n"
     ]
    },
    {
     "name": "stdout",
     "output_type": "stream",
     "text": [
      "adding constraints\n",
      "0 > 2.0\n",
      "0 < 3.0\n",
      "1 > 1.0\n",
      "1 < 4.0\n",
      "ERROR\n",
      "vals are {}\n",
      "\n",
      "\n",
      "Without:\n",
      "\n",
      "safe region test passed, interval was interval([1.9025701619684696, 2.8737469650804996])\n",
      "output interval interval([1.9025701619684696, 2.8737469650804996])\n",
      "4/4 [==============================] - 0s 460us/step\n",
      "output_interval: [interval([1.9025701619684696, 2.8737469650804996])]\n"
     ]
    },
    {
     "data": {
      "image/png": "[encoded data removed]",
      "text/plain": [
       "<Figure size 640x480 with 1 Axes>"
      ]
     },
     "metadata": {},
     "output_type": "display_data"
    }
   ],
   "source": [
    "x = np.linspace(-10, 10, 100)\n",
    "y = x\n",
    "# plt.scatter(x, y)\n",
    "# plt.show()\n",
    "\n",
    "input_interval = interval[2, 3]\n",
    "desired_interval = interval[1, 4]\n",
    "\n",
    "model = safe_training_loop(input_interval, desired_interval, x, y, verbose=True)\n",
    "\n",
    "# history = regression_model.fit(\n",
    "#     x,\n",
    "#     y,\n",
    "#     epochs=100,\n",
    "#     # Suppress logging.\n",
    "#     verbose=0,\n",
    "#     # Calculate validation results on 10% of the training data.\n",
    "#     validation_split=0.1,\n",
    "# )\n",
    "\n",
    "y_predict = model.predict(x)\n",
    "\n",
    "output_interval, _ = propagate_interval(input_interval, model)\n",
    "print(f\"output_interval: {output_interval}\")\n",
    "plot_intervals(input_interval, output_interval, x, y, y_predict, \n",
    "               xlim=[0, 5], ylim=[0, 10], desired_interval=desired_interval)\n"
   ]
  },
  {
   "cell_type": "code",
   "execution_count": 15,
   "id": "ca1b1b06-a67a-4dd6-921e-98e6ede69c65",
   "metadata": {},
   "outputs": [],
   "source": [
    "net = Marabou.read_tf(\"tmp\", modelType=\"savedModel_v2\")"
   ]
  },
  {
   "cell_type": "code",
   "execution_count": 7,
   "id": "62a9debe-1c0e-48cf-9ec0-adeeea2b9428",
   "metadata": {},
   "outputs": [
    {
     "ename": "NameError",
     "evalue": "name 'regression_model' is not defined",
     "output_type": "error",
     "traceback": [
      "\u001b[0;31m---------------------------------------------------------------------------\u001b[0m",
      "\u001b[0;31mNameError\u001b[0m                                 Traceback (most recent call last)",
      "Cell \u001b[0;32mIn[7], line 1\u001b[0m\n\u001b[0;32m----> 1\u001b[0m \u001b[43mregression_model\u001b[49m\u001b[38;5;241m.\u001b[39mpredict([\u001b[38;5;241m2.0\u001b[39m])\n",
      "\u001b[0;31mNameError\u001b[0m: name 'regression_model' is not defined"
     ]
    }
   ],
   "source": [
    "regression_model.predict([2.0])"
   ]
  },
  {
   "cell_type": "code",
   "execution_count": null,
   "id": "ee53fc9d-38cf-4df7-8a1f-b65802d432c9",
   "metadata": {},
   "outputs": [],
   "source": []
  },
  {
   "cell_type": "code",
   "execution_count": null,
   "id": "53051688-f7ea-4975-983a-18da0898838e",
   "metadata": {},
   "outputs": [],
   "source": []
  },
  {
   "cell_type": "code",
   "execution_count": null,
   "id": "8123e94b-3418-45bc-9ec8-244b3ae7f08f",
   "metadata": {},
   "outputs": [],
   "source": [
    "\n"
   ]
  }
 ],
 "metadata": {
  "kernelspec": {
   "display_name": "Python 3 (ipykernel)",
   "language": "python",
   "name": "python3"
  },
  "language_info": {
   "codemirror_mode": {
    "name": "ipython",
    "version": 3
   },
   "file_extension": ".py",
   "mimetype": "text/x-python",
   "name": "python",
   "nbconvert_exporter": "python",
   "pygments_lexer": "ipython3",
   "version": "3.11.4"
  }
 },
 "nbformat": 4,
 "nbformat_minor": 5
}
