{
 "cells": [
  {
   "cell_type": "code",
   "execution_count": null,
   "id": "cf371496-ef3f-4094-8752-ec872d389255",
   "metadata": {},
   "outputs": [],
   "source": [
    "%load_ext autoreload\n",
    "%autoreload 2\n",
    "\n",
    "import tensorflow as tf\n",
    "from tensorflow import keras\n",
    "from tensorflow.keras import layers\n",
    "\n",
    "%matplotlib widget\n",
    "import matplotlib\n",
    "import matplotlib.pyplot as plt\n",
    "import numpy as np\n",
    "import scipy\n",
    "import cvxpy as cp\n",
    "\n",
    "from interval import interval, inf, imath\n",
    "\n",
    "from safe_train import *\n",
    "from projection_examples import projection_training_loop"
   ]
  },
  {
   "cell_type": "markdown",
   "id": "fafcca51-9c28-488d-8978-5dcc603b0a8b",
   "metadata": {},
   "source": [
    "## Generate data"
   ]
  },
  {
   "cell_type": "code",
   "execution_count": null,
   "id": "d35b269a",
   "metadata": {},
   "outputs": [],
   "source": [
    "x = np.linspace(-10, 10, 100)\n",
    "y = np.linspace(-10, 10, 100)\n",
    "x, y = np.meshgrid(x,y)\n",
    "z = x**2 + y**2\n",
    "\n",
    "fig = plt.figure()\n",
    "ax = fig.add_subplot(projection='3d')\n",
    "\n",
    "# plt.scatter(x, y, z)\n",
    "ax.plot_surface(x, y, z)\n",
    "# ax.set_zlim(-1, 101)\n",
    "plt.show()"
   ]
  },
  {
   "cell_type": "code",
   "execution_count": null,
   "id": "f3ca2146-038f-42f1-a257-3d13416756ba",
   "metadata": {},
   "outputs": [],
   "source": [
    "x_array = x.reshape(-1, 1)\n",
    "y_array = y.reshape(-1, 1)\n",
    "z_array = z.reshape(-1, 1)\n",
    "nn_x = np.hstack([x_array, y_array])"
   ]
  },
  {
   "cell_type": "markdown",
   "id": "2924e55c-a460-4d30-bb14-0317c1500237",
   "metadata": {},
   "source": [
    "## Train network"
   ]
  },
  {
   "cell_type": "code",
   "execution_count": null,
   "id": "48a5517b-bcd4-4e60-9fa1-4d982560efb7",
   "metadata": {},
   "outputs": [],
   "source": [
    "normalizer = layers.Normalization(\n",
    "    input_shape=[\n",
    "        2,\n",
    "    ],\n",
    "    axis=-1,\n",
    ")\n",
    "normalizer.adapt(nn_x)\n",
    "regression_model = tf.keras.Sequential(\n",
    "    [\n",
    "        normalizer, \n",
    "        # layers.Dense(units=2, activation=\"linear\", input_shape=[2]),\n",
    "        layers.Dense(units=64, activation=\"relu\"),\n",
    "        layers.Dense(units=64, activation=\"relu\"),\n",
    "        layers.Dense(units=64, activation=\"relu\"),\n",
    "        layers.Dense(units=64, activation=\"relu\"),\n",
    "        layers.Dense(units=64, activation=\"relu\"),\n",
    "        # layers.Dense(units=10, activation=\"sigmoid\"),\n",
    "        layers.Dense(units=1, activation=\"linear\"),\n",
    "    ]\n",
    ")\n",
    "regression_model.compile(\n",
    "    optimizer=tf.keras.optimizers.Adam(learning_rate=0.1), loss=\"mean_squared_error\"\n",
    ")\n",
    "\n",
    "history = regression_model.fit(\n",
    "    nn_x,\n",
    "    z_array,\n",
    "    epochs=10,\n",
    "    # Suppress logging.\n",
    "    verbose=1,\n",
    "    # Calculate validation results on 10% of the training data.\n",
    "    validation_split=0.1,\n",
    ")"
   ]
  },
  {
   "cell_type": "code",
   "execution_count": null,
   "id": "a042f578-c6ba-4839-9f9e-0cd89f4e057a",
   "metadata": {},
   "outputs": [],
   "source": [
    "plot_loss(history)"
   ]
  },
  {
   "cell_type": "code",
   "execution_count": null,
   "id": "a7959176-90ba-4b33-9a65-eec8bf24724c",
   "metadata": {},
   "outputs": [],
   "source": [
    "z_predict = regression_model.predict(nn_x)\n",
    "z_predict_mesh = z_predict.reshape(100, 100)"
   ]
  },
  {
   "cell_type": "code",
   "execution_count": null,
   "id": "0a7b2a1f-fffb-417f-b8eb-1f673e901272",
   "metadata": {},
   "outputs": [],
   "source": [
    "fig = plt.figure()\n",
    "ax = fig.add_subplot(projection='3d')\n",
    "\n",
    "# plt.scatter(x, y, z)\n",
    "surf1 = ax.plot_surface(x, y, z_predict_mesh)\n",
    "\n",
    "surf1._edgecolors2d = surf1._edgecolor3d\n",
    "surf1._facecolors2d = surf1._facecolor3d\n",
    "\n",
    "plt.show()\n",
    "# plt.plot(x, y_predict, color=\"C1\")\n",
    "# plt.scatter(x, y, color=\"C2\")\n",
    "# plt.show()"
   ]
  },
  {
   "cell_type": "code",
   "execution_count": null,
   "id": "5fdbc7a3-4b98-4590-828e-c4c6b99ff117",
   "metadata": {},
   "outputs": [],
   "source": [
    "fig = plt.figure()\n",
    "ax = fig.add_subplot(projection='3d')\n",
    "\n",
    "# plt.scatter(x, y, z)\n",
    "surf1 = ax.scatter(x, y, z_predict_mesh)\n",
    "surf2 = ax.scatter(x, y, z)\n",
    "\n",
    "ax.legend([\"NN predictions\", \"Data\"])\n",
    "plt.show()\n",
    "# plt.plot(x, y_predict, color=\"C1\")\n",
    "# plt.scatter(x, y, color=\"C2\")\n",
    "# plt.show()"
   ]
  },
  {
   "cell_type": "markdown",
   "id": "edaf1fd6-5092-4d0f-821a-638b8e2e4b02",
   "metadata": {},
   "source": [
    "## Analyze safety with interval tool"
   ]
  },
  {
   "cell_type": "code",
   "execution_count": null,
   "id": "5660ad15-453d-4a50-9be6-e2c9012b1af0",
   "metadata": {},
   "outputs": [],
   "source": [
    "interval[-8, -5] ** 2 + interval[-8, -5] ** 2"
   ]
  },
  {
   "cell_type": "code",
   "execution_count": null,
   "id": "1119aeeb-19dc-405d-a0d1-a80ff5ebaef8",
   "metadata": {},
   "outputs": [],
   "source": [
    "regression_model.predict([-8, -8])"
   ]
  },
  {
   "cell_type": "code",
   "execution_count": null,
   "id": "c9edd784-7921-4aa8-b414-9be9d50bca8c",
   "metadata": {},
   "outputs": [],
   "source": [
    "regression_model.predict([-5, -5])"
   ]
  },
  {
   "cell_type": "code",
   "execution_count": null,
   "id": "597493eb-edf9-495b-af0a-071e2402cde9",
   "metadata": {},
   "outputs": [],
   "source": [
    "input_interval = [interval[-8, -5], interval[-8, -5]]\n",
    "output_interval, penultimate_interval = propagate_interval(input_interval, regression_model)\n",
    "output_interval"
   ]
  },
  {
   "cell_type": "code",
   "execution_count": null,
   "id": "474c929c-e0ac-45f3-b96c-f623dbd838b3",
   "metadata": {},
   "outputs": [],
   "source": [
    "x.reshape(-1).shape"
   ]
  },
  {
   "cell_type": "code",
   "execution_count": null,
   "id": "ace28a3d-8254-4204-b513-7cfaacae4b5a",
   "metadata": {},
   "outputs": [],
   "source": [
    "z_predict.shape"
   ]
  },
  {
   "cell_type": "code",
   "execution_count": null,
   "id": "9d6b9e37-67f9-4c9f-ac0d-31fa91bf417a",
   "metadata": {},
   "outputs": [],
   "source": [
    "plot_intervals(input_interval[0], output_interval, xlim = [-10, 10], ylim = [-10, 1000])"
   ]
  },
  {
   "cell_type": "code",
   "execution_count": null,
   "id": "dedbbb12-04d7-4193-8875-fa5213e5eaf7",
   "metadata": {},
   "outputs": [],
   "source": [
    "plot_intervals(input_interval[0], output_interval, xs = x_array, ys = z_array, xlim = [-10, 10], ylim = [-10, 1000])"
   ]
  },
  {
   "cell_type": "code",
   "execution_count": null,
   "id": "7a25d812-d2bb-40f2-9155-14814515da7b",
   "metadata": {},
   "outputs": [],
   "source": [
    "plot_intervals(input_interval[0], output_interval, xs = x_array, ys = z_array, y_predict = z_predict, xlim = [-10, 10], ylim = [-10, 1000])"
   ]
  },
  {
   "cell_type": "code",
   "execution_count": null,
   "id": "7a258360-a5e2-48de-965c-338a7d857ceb",
   "metadata": {},
   "outputs": [],
   "source": [
    "plot_intervals(input_interval[0], output_interval, xs=x.reshape(-1), y_predict=z_predict, xlim=[-10, 10], ylim=[-5, 105])"
   ]
  },
  {
   "cell_type": "markdown",
   "id": "eb578c65-bcdc-419d-a0c8-c5d46cbf1794",
   "metadata": {},
   "source": [
    "FAILS: needs to handle multiple inputs well"
   ]
  },
  {
   "cell_type": "code",
   "execution_count": null,
   "id": "2daeb273-2718-4c12-978d-f5803fca8f91",
   "metadata": {},
   "outputs": [],
   "source": [
    "model = regression_model"
   ]
  },
  {
   "cell_type": "code",
   "execution_count": null,
   "id": "ddf4ae77-2af2-4301-a285-6b375074bbd7",
   "metadata": {},
   "outputs": [],
   "source": [
    "model.layers[0].get_weights()"
   ]
  },
  {
   "cell_type": "code",
   "execution_count": null,
   "id": "ef409540-962b-42d4-a58b-7cb25eb50244",
   "metadata": {},
   "outputs": [],
   "source": [
    "norm_mean, norm_var, _ = model.layers[0].get_weights()\n",
    "norm_mean"
   ]
  },
  {
   "cell_type": "code",
   "execution_count": null,
   "id": "0e6b461f-89f3-454f-85cd-70c60ebb9415",
   "metadata": {},
   "outputs": [],
   "source": [
    "norm_var"
   ]
  },
  {
   "cell_type": "markdown",
   "id": "01419619-b137-45aa-a1f1-c0982461e03f",
   "metadata": {},
   "source": [
    "## Simpler problem to troubleshoot"
   ]
  },
  {
   "cell_type": "code",
   "execution_count": null,
   "id": "0ce41e3d-62e2-43a8-9665-71756ee294c6",
   "metadata": {},
   "outputs": [],
   "source": [
    "x = np.linspace(-10, 10, 100)\n",
    "y = np.linspace(-10, 10, 100)\n",
    "z_func = lambda x, y: 2*x + y - 4\n",
    "\n",
    "x, y = np.meshgrid(x,y)\n",
    "z_array = z_func(x, y)\n",
    "\n",
    "fig = plt.figure()\n",
    "ax = fig.add_subplot(projection='3d')\n",
    "\n",
    "# plt.scatter(x, y, z)\n",
    "ax.scatter(x, y, z_array)\n",
    "plt.show()"
   ]
  },
  {
   "cell_type": "code",
   "execution_count": null,
   "id": "d6e4c380-3bb4-40df-8953-c2ea88592dc3",
   "metadata": {},
   "outputs": [],
   "source": [
    "x_array = x.reshape(-1, 1)\n",
    "y_array = y.reshape(-1, 1)\n",
    "z_array_long = z_array.reshape(-1, 1)\n",
    "nn_x = np.hstack([x_array, y_array])"
   ]
  },
  {
   "cell_type": "code",
   "execution_count": null,
   "id": "519b723f-239f-4b9a-93f9-d6d00789bb3c",
   "metadata": {},
   "outputs": [],
   "source": [
    "normalizer = layers.Normalization(\n",
    "    input_shape=[\n",
    "        2,\n",
    "    ],\n",
    "    axis=-1,\n",
    ")\n",
    "normalizer.adapt(nn_x)\n",
    "regression_model = tf.keras.Sequential(\n",
    "    [\n",
    "        normalizer, \n",
    "        layers.Dense(units=2, activation=\"linear\", input_shape=[2]),\n",
    "        # layers.Dense(units=64, activation=\"relu\"),\n",
    "        # layers.Dense(units=64, activation=\"relu\"),\n",
    "        # layers.Dense(units=64, activation=\"relu\"),\n",
    "        # layers.Dense(units=64, activation=\"relu\"),\n",
    "        # layers.Dense(units=64, activation=\"relu\"),\n",
    "        layers.Dense(units=1, activation=\"linear\"),\n",
    "    ]\n",
    ")\n",
    "regression_model.compile(\n",
    "    optimizer=tf.keras.optimizers.Adam(learning_rate=0.1), loss=\"mean_squared_error\"\n",
    ")\n",
    "\n",
    "history = regression_model.fit(\n",
    "    nn_x,\n",
    "    z_array_long,\n",
    "    epochs=10,\n",
    "    # Suppress logging.\n",
    "    verbose=1,\n",
    "    # Calculate validation results on 10% of the training data.\n",
    "    validation_split=0.1,\n",
    ")"
   ]
  },
  {
   "cell_type": "code",
   "execution_count": null,
   "id": "5c27cd70-a64b-4a65-8659-d73b48b77c38",
   "metadata": {},
   "outputs": [],
   "source": [
    "regression_model.predict([-8, -8])"
   ]
  },
  {
   "cell_type": "code",
   "execution_count": null,
   "id": "be0656ed-c00e-414e-8b2d-d1ec15adb8a8",
   "metadata": {},
   "outputs": [],
   "source": [
    "z_func(*[-8, -8])"
   ]
  },
  {
   "cell_type": "code",
   "execution_count": null,
   "id": "a1a0fdd3-518d-48d3-86ac-a87988a1f4a7",
   "metadata": {},
   "outputs": [],
   "source": [
    "regression_model.predict([-5, -5])"
   ]
  },
  {
   "cell_type": "code",
   "execution_count": null,
   "id": "61059d47-edd6-41c7-bbea-9a84f2aaa44e",
   "metadata": {},
   "outputs": [],
   "source": [
    "z_func(*[-5, -5])"
   ]
  },
  {
   "cell_type": "code",
   "execution_count": null,
   "id": "65bc3d42-973d-4e36-83db-8ab93318f326",
   "metadata": {},
   "outputs": [],
   "source": [
    "z_func(*[-1, -1])"
   ]
  },
  {
   "cell_type": "code",
   "execution_count": null,
   "id": "9e82e5e3-4ee0-47af-b340-e4f23f6bfaa4",
   "metadata": {},
   "outputs": [],
   "source": [
    "z_func(*[0, 0])"
   ]
  },
  {
   "cell_type": "code",
   "execution_count": null,
   "id": "0165bfeb-148b-4518-96aa-afd2b46e1e8c",
   "metadata": {},
   "outputs": [],
   "source": [
    "input_interval = [interval[-8, -5], interval[-8, -5]]\n",
    "output_interval, penultimate_interval = propagate_interval(input_interval, regression_model)\n",
    "output_interval"
   ]
  },
  {
   "cell_type": "code",
   "execution_count": null,
   "id": "78486869-4ac1-4420-ab06-0ee1c39ced95",
   "metadata": {},
   "outputs": [],
   "source": [
    "input_interval = [interval[0, inf], interval[-8, -5]]\n",
    "output_interval, penultimate_interval = propagate_interval(input_interval, regression_model)\n",
    "output_interval"
   ]
  },
  {
   "cell_type": "code",
   "execution_count": null,
   "id": "f63dae58-6d57-4a54-9150-a72831ab29d3",
   "metadata": {},
   "outputs": [],
   "source": [
    "input_interval = [None, interval[-8, -5]]\n",
    "output_interval, penultimate_interval = propagate_interval(input_interval, regression_model)\n",
    "output_interval"
   ]
  },
  {
   "cell_type": "markdown",
   "id": "8af9f926-a4f9-4877-83fe-0147d55439e1",
   "metadata": {},
   "source": [
    "## Try with one empty interval"
   ]
  },
  {
   "cell_type": "code",
   "execution_count": null,
   "id": "ec08a202-9733-4a95-adc5-27b3071fb291",
   "metadata": {},
   "outputs": [],
   "source": []
  },
  {
   "cell_type": "markdown",
   "id": "6a8b4783-fbc4-422d-a7cc-8f051f90a43c",
   "metadata": {},
   "source": [
    "## Test training\n",
    "takeaway: make sure `shapes` match for `y, y_pred` passed to loss function. even `(100, 1)` and `(100,)` mismatch will lead to bad learning."
   ]
  },
  {
   "cell_type": "markdown",
   "id": "1a131a0c-983c-4c60-82de-9f7b5de393e8",
   "metadata": {},
   "source": [
    "### Multiple regression: x, y, z"
   ]
  },
  {
   "cell_type": "code",
   "execution_count": null,
   "id": "23ea24e1-cf00-4d42-a1f6-5a9489d857be",
   "metadata": {},
   "outputs": [],
   "source": [
    "x = np.linspace(-10, 10, 100)\n",
    "y = np.linspace(-10, 10, 100)\n",
    "x, y = np.meshgrid(x, y)\n",
    "z = x**2 + y**2\n",
    "\n",
    "x_array = x.reshape(-1, 1)\n",
    "y_array = y.reshape(-1, 1)\n",
    "z_array = z.reshape(-1, 1)\n",
    "nn_x = np.hstack([x_array, y_array])\n",
    "\n",
    "input_interval = [interval[-8, -5], interval[-8, -5]]\n",
    "desired_interval = interval[-28, -19]\n",
    "\n",
    "normalizer = layers.Normalization(\n",
    "    input_shape=[\n",
    "        2,\n",
    "    ],\n",
    "    axis=-1,\n",
    ")\n",
    "normalizer.adapt(nn_x)\n",
    "regression_model = tf.keras.Sequential(\n",
    "    [\n",
    "        normalizer,\n",
    "        # layers.Dense(units=2, activation=\"linear\", input_shape=[2]),\n",
    "        layers.Dense(units=64, activation=\"relu\"),\n",
    "        layers.Dense(units=64, activation=\"relu\"),\n",
    "        layers.Dense(units=64, activation=\"relu\"),\n",
    "        layers.Dense(units=64, activation=\"relu\"),\n",
    "        layers.Dense(units=64, activation=\"relu\"),\n",
    "        # layers.Dense(units=10, activation=\"sigmoid\"),\n",
    "        layers.Dense(units=1, activation=\"linear\"),\n",
    "    ]\n",
    ")\n",
    "\n",
    "optimizer = tf.keras.optimizers.Adam(learning_rate=0.1)\n",
    "loss_fn = tf.keras.losses.MeanSquaredError()\n",
    "\n",
    "# don't project every epoch\n",
    "EPOCH_TO_PROJECT = 5\n",
    "\n",
    "epochs = 40\n",
    "# epochs = 5\n",
    "for epoch in range(epochs):\n",
    "    print(f\"\\nStart of epoch {epoch}\")\n",
    "\n",
    "    with tf.GradientTape() as tape:\n",
    "        z_pred = regression_model(nn_x, training=True)  # Forward pass\n",
    "        # Compute the loss value\n",
    "        # (the loss function is configured in `compile()`)\n",
    "        loss = loss_fn(z_array, z_pred)\n",
    "\n",
    "    # Compute gradients\n",
    "    trainable_vars = regression_model.trainable_variables\n",
    "    gradients = tape.gradient(loss, trainable_vars)\n",
    "    # print(gradients)\n",
    "    # print(trainable_vars)\n",
    "    # Update weights\n",
    "    optimizer.apply_gradients(zip(gradients, trainable_vars))\n",
    "\n",
    "    output_interval, penultimate_interval = propagate_interval(\n",
    "        input_interval, regression_model, graph=False\n",
    "    )\n",
    "    if type(output_interval) is list:\n",
    "        if len(output_interval) == 1:\n",
    "            output_interval = output_interval[0]\n",
    "        else:\n",
    "            raise NotImplementedError(\"Output interval was interval of length > 1\")\n",
    "    if output_interval not in desired_interval:\n",
    "        print(f\"safe region test FAILED, interval was {output_interval}\")\n",
    "        print(regression_model.layers[-1].weights)\n",
    "        if epoch % EPOCH_TO_PROJECT == 0:\n",
    "            print(f\"\\nProjecting weights at epoch {epoch}.\")\n",
    "            weights = regression_model.layers[-1].weights\n",
    "            print(\n",
    "                f\"Old weights: {np.squeeze(np.array([weight.numpy() for weight in weights]))}\"\n",
    "            )\n",
    "            projected_weights = project_weights(\n",
    "                desired_interval,\n",
    "                penultimate_interval,\n",
    "                np.squeeze(np.array(weights)),\n",
    "            )\n",
    "            print(\n",
    "                f\"Projected weights: {projected_weights} yield new interval: \"\n",
    "                f\"{penultimate_interval * projected_weights[0] + projected_weights[1]}\"\n",
    "            )\n",
    "            proj_weight, proj_bias = projected_weights\n",
    "            regression_model.layers[-1].set_weights(\n",
    "                [np.array([[proj_weight]]), np.array([proj_bias])]\n",
    "            )\n",
    "            # NOTE: assume positive weights\n",
    "            # TODO: handle both signs of weights\n",
    "\n",
    "            # print(optimizer.get_weights())\n",
    "            # optimizer.set_weights(last_safe_weights)\n",
    "    else:\n",
    "        print(f\"safe region test passed, interval was {output_interval}\")\n",
    "\n",
    "    # Update metrics (includes the metric that tracks the loss)\n",
    "    regression_model.compiled_metrics.update_state(y, y_pred)\n",
    "    # Return a dict mapping metric names to current value"
   ]
  },
  {
   "cell_type": "code",
   "execution_count": null,
   "id": "e4e887e0-d699-4dce-a674-d386df9a7c00",
   "metadata": {},
   "outputs": [],
   "source": [
    "test_interval = [interval([0.17749245743887973, 40.715509778405405]), interval([1.3693407866030003, 39.00241526956424]), interval([0.0]), interval([0.0, 2.8528582891451904]), interval([0.0, 0.8297828604382264]), interval([0.0, 26.46248532465599]), interval([0.0]), interval([5.1643618056622325, 51.965985161668776]), interval([0.0, 4.449784483001119]), interval([0.0, 12.181961657602645]), interval([1.1487307343228501, 36.84628332367279]), interval([0.0]), interval([0.0, 10.67893006000102]), interval([0.0, 32.31041089071087]), interval([0.0, 4.428521101926773]), interval([0.0, 33.27413406123338]), interval([0.0, 1.173106527682179]), interval([0.0, 5.763051345125981]), interval([0.0]), interval([0.0, 0.0593642406942681]), interval([1.1042434945592472, 42.40602482858007]), interval([0.0, 48.153185864747876]), interval([0.0, 2.093169161648054]), interval([0.0, 1.5303758911667666]), interval([1.5546250524211334, 41.40633134363574]), interval([1.2690299589762726, 44.50031948515337]), interval([0.0, 8.2281692197887]), interval([0.0, 0.3814058534273029]), interval([0.0, 29.90513713529191]), interval([0.0, 33.562458829446015]), interval([0.0, 0.7613352551489034]), interval([0.0, 38.30264206972309]), interval([0.0]), interval([0.0, 6.324824304874891]), interval([2.4997606995947597, 37.87439927718122]), interval([2.5371649489848416, 42.506682277456136]), interval([0.002846090267297985, 42.09635439199396]), interval([0.0]), interval([0.0, 0.6057659663937741]), interval([0.0, 12.80103993487166]), interval([0.0, 19.2486105128124]), interval([0.0, 37.93811481829238]), interval([2.968866596288945, 45.56460879954275]), interval([4.537518103822291, 51.34208899504068]), interval([0.0, 10.83174511415565]), interval([0.0, 0.2774448181623927]), interval([0.0]), interval([0.0, 29.00540786959906]), interval([0.08301538662180619, 35.51933660793823]), interval([1.0847326840759233, 38.7511647446967]), interval([0.0, 39.20136368640528]), interval([0.0, 42.341402156523365]), interval([0.0, 34.25962623911843]), interval([0.0, 48.34615648698638]), interval([2.4355944472457822, 39.57223969649944]), interval([0.0, 13.039277868905055]), interval([0.0, 4.195586380412922]), interval([0.0]), interval([0.0, 3.050183749047207]), interval([0.0]), interval([0.0, 0.1519885564424282]), interval([0.6696018918771051, 34.230603299831806]), interval([0.0, 30.686249110719995]), interval([5.5374481194296585, 50.683586670818116])]\n",
    "len(test_interval)"
   ]
  },
  {
   "cell_type": "markdown",
   "id": "c5c54f03-4b80-402c-acf7-c4aefcc02295",
   "metadata": {},
   "source": [
    "### 2 dimensional"
   ]
  },
  {
   "cell_type": "code",
   "execution_count": null,
   "id": "f7b30b90-d8d4-417d-b273-f3c5e47aab9e",
   "metadata": {},
   "outputs": [],
   "source": [
    "x, y = generate_data(NOISE_STD=0.5, n=128)\n",
    "plt.figure()\n",
    "plt.scatter(x, y)\n",
    "plt.show()"
   ]
  },
  {
   "cell_type": "markdown",
   "id": "e0c01f31-c7c8-4ad3-9126-f1fa5112ff75",
   "metadata": {},
   "source": [
    "### With `model.fit`\n",
    "\n",
    "Works perfectly, as expected"
   ]
  },
  {
   "cell_type": "code",
   "execution_count": null,
   "id": "c0b8051d-b227-4fbb-9181-323e05c2e1e6",
   "metadata": {},
   "outputs": [],
   "source": [
    "normalizer = layers.Normalization(\n",
    "    input_shape=[\n",
    "        1,\n",
    "    ],\n",
    "    axis=None,\n",
    ")\n",
    "normalizer.adapt(x)\n",
    "regression_model = tf.keras.Sequential(\n",
    "    [\n",
    "        normalizer, \n",
    "        layers.Dense(units=1, activation=\"linear\", input_shape=[1]),\n",
    "        layers.Dense(units=64, activation=\"relu\"),\n",
    "        layers.Dense(units=64, activation=\"relu\"),\n",
    "        layers.Dense(units=64, activation=\"relu\"),\n",
    "        # layers.Dense(units=10, activation=\"sigmoid\"),\n",
    "        layers.Dense(units=1, activation=\"linear\"),\n",
    "    ]\n",
    ")\n",
    "regression_model.compile(\n",
    "    optimizer=tf.keras.optimizers.Adam(learning_rate=0.1), loss=\"mean_squared_error\"\n",
    ")\n",
    "history = regression_model.fit(\n",
    "    x,\n",
    "    y,\n",
    "    epochs=100,\n",
    "    # Suppress logging.\n",
    "    verbose=0,\n",
    "    # Calculate validation results on 10% of the training data.\n",
    "    validation_split=0.1,\n",
    ")\n",
    "\n",
    "plot_loss(history)\n",
    "\n",
    "y_pred = regression_model.predict(x)\n",
    "\n",
    "plt.figure()\n",
    "plt.scatter(x, y_pred)\n",
    "plt.scatter(x, y)\n",
    "plt.legend([\"nn\", \"data\"])\n",
    "plt.show()"
   ]
  },
  {
   "cell_type": "markdown",
   "id": "5bfb4281-a5b1-4428-aa1c-f0d17306d7b5",
   "metadata": {},
   "source": [
    "### Manual"
   ]
  },
  {
   "cell_type": "markdown",
   "id": "a161cffa-c472-4759-b061-755a10244986",
   "metadata": {},
   "source": [
    "#### Batching"
   ]
  },
  {
   "cell_type": "code",
   "execution_count": null,
   "id": "53a316b4-2358-4449-95e5-1d3c52957cd1",
   "metadata": {},
   "outputs": [],
   "source": [
    "## set up batches\n",
    "rng = np.random.default_rng()\n",
    "batch_size = 32\n",
    "\n",
    "train_dataset = np.vstack([x,y]).T\n",
    "train_dataset\n",
    "\n",
    "rng.shuffle(train_dataset)  # in-place\n",
    "\n",
    "x_shuffled = train_dataset[:, 0]\n",
    "y_shuffled = train_dataset[:, 1]\n",
    "\n",
    "x_batched = np.split(x_shuffled, np.arange(batch_size,len(x_shuffled),batch_size))\n",
    "y_batched = np.split(y_shuffled, np.arange(batch_size,len(y_shuffled),batch_size))\n",
    "\n",
    "dataset_batched = list(zip(x_batched, y_batched))"
   ]
  },
  {
   "cell_type": "markdown",
   "id": "546785a6-9341-449f-a133-1abea97d45a6",
   "metadata": {},
   "source": [
    "#### Train loop"
   ]
  },
  {
   "cell_type": "code",
   "execution_count": null,
   "id": "cdc562e3-ba7f-4517-b7cf-652e257af131",
   "metadata": {},
   "outputs": [],
   "source": [
    "normalizer = layers.Normalization(\n",
    "    input_shape=[\n",
    "        1,\n",
    "    ],\n",
    "    axis=None,\n",
    ")\n",
    "normalizer.adapt(x)\n",
    "regression_model = tf.keras.Sequential(\n",
    "    [\n",
    "        normalizer, \n",
    "        layers.Dense(units=1, activation=\"linear\", input_shape=[1]),\n",
    "        layers.Dense(units=64, activation=\"relu\"),\n",
    "        layers.Dense(units=64, activation=\"relu\"),\n",
    "        layers.Dense(units=64, activation=\"relu\"),\n",
    "        layers.Dense(units=4, activation=\"relu\"),\n",
    "        # layers.Dense(units=10, activation=\"sigmoid\"),\n",
    "        layers.Dense(units=1, activation=\"linear\"),\n",
    "    ]\n",
    ")\n",
    "\n",
    "optimizer = tf.keras.optimizers.Adam(learning_rate=0.1)\n",
    "loss_fn = tf.keras.losses.MeanSquaredError()\n",
    "\n",
    "# don't project every epoch\n",
    "EPOCH_TO_PROJECT = 5\n",
    "\n",
    "# epochs = 500\n",
    "epochs = 50\n",
    "epoch_fraction = 0.1\n",
    "report_every_epoch = int(epochs * epoch_fraction)\n",
    "for epoch in range(epochs):\n",
    "    # if epoch % report_every_epoch == 0:\n",
    "        # print(f\"on epoch {epoch}\")\n",
    "    for step, (x_batch_train, y_batch_train) in enumerate(dataset_batched):\n",
    "        with tf.GradientTape() as tape:\n",
    "            y_pred = regression_model(x_batch_train, training=True)  # Forward pass\n",
    "            # IMPORTANT: squeeze to match dimensions before passing to loss\n",
    "            y_pred = tf.squeeze(y_pred)\n",
    "            # Compute the loss value\n",
    "            # (the loss function is configured in `compile()`)\n",
    "            loss = loss_fn(y_batch_train, y_pred)\n",
    "\n",
    "        # Compute gradients\n",
    "        trainable_vars = regression_model.trainable_variables\n",
    "        gradients = tape.gradient(loss, trainable_vars)\n",
    "        # print(gradients)\n",
    "        # print(trainable_vars)\n",
    "        # Update weights\n",
    "        optimizer.apply_gradients(zip(gradients, trainable_vars))\n",
    "# print(f\"done training\")\n",
    "        \n",
    "y_pred = regression_model.predict(x)\n",
    "\n",
    "plt.figure()\n",
    "plt.scatter(x, y_pred)\n",
    "plt.scatter(x, y)\n",
    "plt.legend([\"nn\", \"data\"])\n",
    "plt.show()        "
   ]
  },
  {
   "cell_type": "code",
   "execution_count": null,
   "id": "4c06d0f7-fc13-4966-994e-fa18ad2f687f",
   "metadata": {},
   "outputs": [],
   "source": [
    "out, penum = propagate_interval([interval[10, 20]], regression_model)\n",
    "out"
   ]
  },
  {
   "cell_type": "code",
   "execution_count": null,
   "id": "2baf4808-8a19-4554-9372-76c3ceaefff4",
   "metadata": {},
   "outputs": [],
   "source": [
    "penum"
   ]
  },
  {
   "cell_type": "code",
   "execution_count": null,
   "id": "dfa57a33-1381-44e5-87a3-ae0fceef2267",
   "metadata": {},
   "outputs": [],
   "source": [
    "# true function\n",
    "interval[10, 20] * 0.5 + 5"
   ]
  },
  {
   "cell_type": "markdown",
   "id": "b8adf93e-48d2-4724-b214-57d271352018",
   "metadata": {},
   "source": [
    "## Projection with multiple final nodes"
   ]
  },
  {
   "cell_type": "code",
   "execution_count": null,
   "id": "3c9c761a-d51b-4412-9021-395773686dea",
   "metadata": {},
   "outputs": [],
   "source": [
    "input_intervals = penum\n",
    "input_intervals"
   ]
  },
  {
   "cell_type": "code",
   "execution_count": null,
   "id": "b7dcd528-39c3-482d-9e7b-164fb8f29ca9",
   "metadata": {},
   "outputs": [],
   "source": [
    "weights = regression_model.layers[-1].weights\n",
    "weights"
   ]
  },
  {
   "cell_type": "code",
   "execution_count": null,
   "id": "b757639f-a892-416b-9f9a-544b47f45dc5",
   "metadata": {},
   "outputs": [],
   "source": [
    "theta = np.squeeze(np.vstack([weight.numpy() for weight in weights]).flatten())\n",
    "theta"
   ]
  },
  {
   "cell_type": "code",
   "execution_count": null,
   "id": "fc8fff90-7b45-4a8c-af3a-0b48825c9d69",
   "metadata": {},
   "outputs": [],
   "source": [
    "goal_interval = interval[10, 15]\n",
    "goal_interval"
   ]
  },
  {
   "cell_type": "code",
   "execution_count": null,
   "id": "c6cd966c-bad0-4d72-a38b-c2c3ce5c4ff0",
   "metadata": {},
   "outputs": [],
   "source": [
    "proj = project_weights(goal_interval, input_intervals, theta, verbose=False)\n",
    "proj"
   ]
  },
  {
   "cell_type": "code",
   "execution_count": null,
   "id": "c268a12b-2dd0-44a0-8eb1-f38caa8efc3f",
   "metadata": {},
   "outputs": [],
   "source": [
    "proj_out = 0\n",
    "for i, weight in enumerate(proj[:-1]):\n",
    "    proj_out += input_intervals[i] * weight\n",
    "proj_out += proj[-1]\n",
    "proj_out"
   ]
  },
  {
   "cell_type": "code",
   "execution_count": null,
   "id": "754f2749-482b-4bf9-bf58-852ec193bb6c",
   "metadata": {},
   "outputs": [],
   "source": [
    "input_intervals = [interval[28.3, 49.1], interval[1, 3]]"
   ]
  },
  {
   "cell_type": "code",
   "execution_count": null,
   "id": "6a9625eb-9903-4276-8109-0556b555edf3",
   "metadata": {},
   "outputs": [],
   "source": [
    "# input_intervals = [interval[28.3, 49.1], interval[2, 5]]"
   ]
  },
  {
   "cell_type": "code",
   "execution_count": null,
   "id": "899f2a4b-8837-45c9-91d2-da5127042c28",
   "metadata": {},
   "outputs": [],
   "source": [
    "theta = np.array([0.148, 0.377, 1.79])"
   ]
  },
  {
   "cell_type": "code",
   "execution_count": null,
   "id": "fa82daee-ea71-4977-8d53-9f7d269a9a18",
   "metadata": {},
   "outputs": [],
   "source": [
    "input_intervals[0] * theta[0] + input_intervals[1]*theta[1] + theta[2]"
   ]
  },
  {
   "cell_type": "code",
   "execution_count": null,
   "id": "7282479b-1143-4f34-bc48-4fd7315fe3c3",
   "metadata": {},
   "outputs": [],
   "source": [
    "x = cp.Variable(theta.shape)\n",
    "x"
   ]
  },
  {
   "cell_type": "code",
   "execution_count": null,
   "id": "8da842dd-ce95-437a-b4ae-457514ca7fd4",
   "metadata": {},
   "outputs": [],
   "source": [
    "import itertools\n",
    "\n",
    "test = list(itertools.product(*[(elem[0]) for elem in input_intervals]))\n",
    "test"
   ]
  },
  {
   "cell_type": "code",
   "execution_count": null,
   "id": "eb541a89-89f2-4cd6-9739-167987ad75ef",
   "metadata": {},
   "outputs": [],
   "source": [
    "[np.hstack([elem, 1]) for elem in test]"
   ]
  },
  {
   "cell_type": "code",
   "execution_count": null,
   "id": "503c30a4-e650-4ff4-9f7a-14b3dd6a7b98",
   "metadata": {},
   "outputs": [],
   "source": [
    "goal_interval[0][0]"
   ]
  },
  {
   "cell_type": "code",
   "execution_count": null,
   "id": "18a76092-d704-492f-8560-492545b7238e",
   "metadata": {},
   "outputs": [],
   "source": [
    "goal_interval[0][1]"
   ]
  },
  {
   "cell_type": "code",
   "execution_count": null,
   "id": "552832e3-ef27-4a9d-b04f-158e238cd4bb",
   "metadata": {},
   "outputs": [],
   "source": [
    "def generate_constraints(input_intervals, goal_interval, x):\n",
    "    interval_combinations = list(itertools.product(\n",
    "        *[(elem[0]) for elem in input_intervals]))\n",
    "    constraint_vectors = [np.hstack([elem, 1]) for elem in interval_combinations]\n",
    "    constraints = []\n",
    "    print(\"Generating constraints:\")\n",
    "    for i, constraint_vector in enumerate(constraint_vectors):\n",
    "        print(f\"{constraint_vector} @ x >= {goal_interval[0][0]}\")\n",
    "        constraints.append(constraint_vector @ x >= goal_interval[0][0])\n",
    "        print(f\"{constraint_vector} @ x <= {goal_interval[0][1]}\")\n",
    "        constraints.append(constraint_vector @ x <= goal_interval[0][1])\n",
    "    return constraints"
   ]
  },
  {
   "cell_type": "code",
   "execution_count": null,
   "id": "4836dd28-f5f0-4820-84ea-6dcc3fc307d5",
   "metadata": {},
   "outputs": [],
   "source": [
    "input_intervals"
   ]
  },
  {
   "cell_type": "code",
   "execution_count": null,
   "id": "878660a8-124b-4b47-b891-c973f9b8d6d3",
   "metadata": {},
   "outputs": [],
   "source": [
    "x = cp.Variable((3,))\n",
    "constraints = generate_constraints(input_intervals, goal_interval, x)\n",
    "# constraints = [\n",
    "#     np.array([28.3, 1, 1]) @ x >= 10,\n",
    "#     np.array([49.1, 3, 1]) @ x <= 15,\n",
    "#     np.array([28.3, 3, 1]) @ x >= 10,\n",
    "#     np.array([49.1, 1, 1]) @ x <= 15,\n",
    "# ]\n",
    "\n",
    "obj = cp.Minimize(\n",
    "    cp.norm(x - np.array([0.158, 0.377, 1.79]))\n",
    ")\n",
    "# Form and solve problem.\n",
    "prob = cp.Problem(obj, constraints)\n",
    "import time\n",
    "tstart = time.time()\n",
    "prob.solve()  # Returns the optimal value.\n",
    "tfinish = time.time()\n",
    "print(\"status:\", prob.status)\n",
    "print(\"optimal value\", prob.value)\n",
    "print(f\"optimal variables are: {np.round(x.value, 5)}\")\n",
    "print(f\"took {tfinish - tstart} seconds\")"
   ]
  },
  {
   "cell_type": "code",
   "execution_count": null,
   "id": "1c959664-a28d-45c9-9ff4-531a9a39e4a7",
   "metadata": {},
   "outputs": [],
   "source": [
    "shift_lower = np.array(([0] * len(input_intervals)) + [goal_interval[0].inf])\n",
    "shift_lower"
   ]
  },
  {
   "cell_type": "code",
   "execution_count": null,
   "id": "cf3ff4b8-ee0f-4fb7-a44f-2989fb17d572",
   "metadata": {},
   "outputs": [],
   "source": [
    "direction_lower = np.array([1] + [-input_interval[0].inf for input_interval in input_intervals][::-1])\n",
    "direction_lower"
   ]
  },
  {
   "cell_type": "code",
   "execution_count": null,
   "id": "9ae6ce74-b678-43ee-a97d-4688f99c3cfb",
   "metadata": {},
   "outputs": [],
   "source": [
    "project_lower = (\n",
    "    (direction_lower @ (theta - shift_lower))\n",
    "    / (direction_lower @ direction_lower)\n",
    "    * direction_lower\n",
    ")\n",
    "project_lower"
   ]
  },
  {
   "cell_type": "code",
   "execution_count": null,
   "id": "bed8dfa2-65ad-404f-8592-6a039db0196f",
   "metadata": {},
   "outputs": [],
   "source": [
    "param_lower = project_lower + shift_lower\n",
    "param_lower"
   ]
  },
  {
   "cell_type": "code",
   "execution_count": null,
   "id": "2bbf5660-c01e-4db1-b673-7e0854d7502d",
   "metadata": {},
   "outputs": [],
   "source": [
    "shift_upper = np.array(([0] * len(input_intervals)) + [goal_interval[0].sup])\n",
    "shift_upper"
   ]
  },
  {
   "cell_type": "code",
   "execution_count": null,
   "id": "91536ce3-b7ea-4d48-8396-d4de3b7b7476",
   "metadata": {},
   "outputs": [],
   "source": [
    "# direction_upper = np.array([1] + [-input_interval[0].sup for input_interval in input_intervals])\n",
    "direction_upper = np.array([1] + [-input_interval[0].sup for input_interval in input_intervals][::-1])\n",
    "direction_upper"
   ]
  },
  {
   "cell_type": "code",
   "execution_count": null,
   "id": "d0e64665-b0b5-45c8-8c37-0ceceba59048",
   "metadata": {},
   "outputs": [],
   "source": [
    "project_upper = (\n",
    "    (direction_upper @ (theta - shift_upper))\n",
    "    / (direction_upper @ direction_upper)\n",
    "    * direction_upper\n",
    ")\n",
    "project_upper"
   ]
  },
  {
   "cell_type": "code",
   "execution_count": null,
   "id": "7a2d1d2d-5bfb-4c64-a6b3-00d7018f11fc",
   "metadata": {},
   "outputs": [],
   "source": [
    "param_upper = project_upper + shift_upper\n",
    "param_upper"
   ]
  },
  {
   "cell_type": "code",
   "execution_count": null,
   "id": "ab23b71f-a3be-4ee1-8b86-de2755c7c54d",
   "metadata": {},
   "outputs": [],
   "source": [
    "theta"
   ]
  },
  {
   "cell_type": "code",
   "execution_count": null,
   "id": "53478e0f-4241-4dc8-9966-5c541c473342",
   "metadata": {},
   "outputs": [],
   "source": [
    "best_params = min([param_upper, param_lower], key=lambda param: np.linalg.norm(theta - param))\n",
    "best_params"
   ]
  },
  {
   "cell_type": "code",
   "execution_count": null,
   "id": "413fabf0-3046-4511-accf-dce185e1769d",
   "metadata": {},
   "outputs": [],
   "source": [
    "input_intervals[0] * best_params[0] + input_intervals[1] * best_params[1] + best_params[2]"
   ]
  },
  {
   "cell_type": "code",
   "execution_count": null,
   "id": "ef865df0-0e8e-4253-bf4b-39530bbccbdb",
   "metadata": {},
   "outputs": [],
   "source": [
    "input_intervals = [interval[28.3, 49.1], interval[0]]\n",
    "input_intervals"
   ]
  },
  {
   "cell_type": "code",
   "execution_count": null,
   "id": "d5ec76a5-89dc-49f3-bae0-0e4a2cf38421",
   "metadata": {},
   "outputs": [],
   "source": [
    "best_params = [0.240385, 0.377, 3.19712]\n",
    "best_params"
   ]
  },
  {
   "cell_type": "code",
   "execution_count": null,
   "id": "276d5e37-bd5a-4a86-a409-561b5bad59e3",
   "metadata": {},
   "outputs": [],
   "source": [
    "input_intervals[0] * 0.158 + 1.79"
   ]
  },
  {
   "cell_type": "code",
   "execution_count": null,
   "id": "a09fea37-3761-4e65-9374-d16c96d9aa5f",
   "metadata": {},
   "outputs": [],
   "source": [
    "input_intervals[0] * best_params[0] + input_intervals[1] * best_params[1] + best_params[2]"
   ]
  },
  {
   "cell_type": "code",
   "execution_count": null,
   "id": "09abb392-d15f-4853-bfa5-f9e69fe96da6",
   "metadata": {},
   "outputs": [],
   "source": [
    "interval[28.3, 49.1] * 0.289699 + interval[1,3] * -0.512874 + 2.31438"
   ]
  },
  {
   "cell_type": "code",
   "execution_count": null,
   "id": "df03859b-5061-4e45-b7b3-705f72ea30f9",
   "metadata": {},
   "outputs": [],
   "source": [
    "interval[28.3, 49.1] * 0.240385 + interval[0] * .377 + 3.19712"
   ]
  },
  {
   "cell_type": "code",
   "execution_count": null,
   "id": "3161fa35-1a9c-4eca-9c53-81f2eeb8f3e2",
   "metadata": {},
   "outputs": [],
   "source": [
    "28.3 * 0.289699 + 1 * -0.512874 + 2.31438"
   ]
  },
  {
   "cell_type": "code",
   "execution_count": null,
   "id": "cb00a12f-3abb-4ca2-bd0c-5866d37f0f94",
   "metadata": {},
   "outputs": [],
   "source": [
    "49.1 * 0.289699 + 3 * -0.512874 + 2.31438"
   ]
  },
  {
   "cell_type": "code",
   "execution_count": null,
   "id": "ee0d57dd-6114-4c85-8989-158aa4f45b59",
   "metadata": {
    "scrolled": true,
    "tags": []
   },
   "outputs": [],
   "source": [
    "projection_training_loop()"
   ]
  },
  {
   "cell_type": "markdown",
   "id": "8db92a36-86ca-4670-a78d-0af04de61d66",
   "metadata": {},
   "source": [
    "## CVXpy"
   ]
  },
  {
   "cell_type": "markdown",
   "id": "502e3a7e-cd51-48d1-99d0-53e093c9492d",
   "metadata": {},
   "source": [
    "### individual variables"
   ]
  },
  {
   "cell_type": "code",
   "execution_count": null,
   "id": "99c9b94f-7e8f-4f3e-b054-cd2ab63c6428",
   "metadata": {},
   "outputs": [],
   "source": [
    "x = cp.Variable()\n",
    "y = cp.Variable()\n",
    "z = cp.Variable()\n",
    "\n",
    "constraints = [\n",
    "    28.3 * x + 1 * y + z >= 10,\n",
    "    49.1 * x + 3 * y + z <= 15,\n",
    "    # 28.3 * x + 3 * y + z >= 10,\n",
    "    # 49.1 * x + 1 * y + z <= 15\n",
    "]\n",
    "\n",
    "obj = cp.Minimize(\n",
    "    (x - 0.158)**2 + (y - .377)**2 + (z - 1.79)**2\n",
    ")\n",
    "# Form and solve problem.\n",
    "prob = cp.Problem(obj, constraints)\n",
    "import time\n",
    "tstart = time.time()\n",
    "prob.solve()  # Returns the optimal value.\n",
    "tfinish = time.time()\n",
    "print(\"status:\", prob.status)\n",
    "print(\"optimal value\", prob.value)\n",
    "print(f\"optimal variables are x: {np.round(x.value, 5)}, y: {np.round(y.value, 5)}, z: {np.round(z.value, 5)}\")\n",
    "print(f\"took {tfinish - tstart} seconds\")"
   ]
  },
  {
   "cell_type": "markdown",
   "id": "705b22a2-1be7-456a-b21c-680cd143d8e3",
   "metadata": {},
   "source": [
    "### vectorized version"
   ]
  },
  {
   "cell_type": "code",
   "execution_count": null,
   "id": "3f65effb-57c6-4e17-b85e-8c2d6946fc4e",
   "metadata": {},
   "outputs": [],
   "source": [
    "x = cp.Variable((3,))\n",
    "\n",
    "constraints = [\n",
    "    np.array([28.3, 1, 1]) @ x >= 10,\n",
    "    np.array([49.1, 3, 1]) @ x <= 15,\n",
    "    # 28.3 * x + 3 * y + z >= 10,\n",
    "    # 49.1 * x + 1 * y + z <= 15\n",
    "]\n",
    "\n",
    "obj = cp.Minimize(\n",
    "    cp.norm(x - np.array([0.158, 0.377, 1.79]))\n",
    ")\n",
    "# Form and solve problem.\n",
    "prob = cp.Problem(obj, constraints)\n",
    "import time\n",
    "tstart = time.time()\n",
    "prob.solve()  # Returns the optimal value.\n",
    "tfinish = time.time()\n",
    "print(\"status:\", prob.status)\n",
    "print(\"optimal value\", prob.value)\n",
    "print(f\"optimal values are: {np.round(x.value, 5)}\")\n",
    "print(f\"took {tfinish - tstart} seconds\")"
   ]
  },
  {
   "cell_type": "code",
   "execution_count": null,
   "id": "5053a758-0a8e-4d51-a8a0-30bceabb7b4b",
   "metadata": {},
   "outputs": [],
   "source": [
    "x = cp.Variable((3,))\n",
    "\n",
    "constraints = [\n",
    "    np.array([28.3, 1, 1]) @ x >= 10,\n",
    "    np.array([49.1, 3, 1]) @ x <= 15,\n",
    "    np.array([28.3, 3, 1]) @ x >= 10,\n",
    "    np.array([49.1, 1, 1]) @ x <= 15,\n",
    "]\n",
    "\n",
    "obj = cp.Minimize(\n",
    "    cp.norm(x - np.array([0.158, 0.377, 1.79]))\n",
    ")\n",
    "# Form and solve problem.\n",
    "prob = cp.Problem(obj, constraints)\n",
    "import time\n",
    "tstart = time.time()\n",
    "prob.solve()  # Returns the optimal value.\n",
    "tfinish = time.time()\n",
    "print(\"status:\", prob.status)\n",
    "print(\"optimal value\", prob.value)\n",
    "print(f\"optimal variables are x: {np.round(x.value, 5)}, y: {np.round(y.value, 5)}, z: {np.round(z.value, 5)}\")\n",
    "print(f\"took {tfinish - tstart} seconds\")"
   ]
  },
  {
   "cell_type": "code",
   "execution_count": null,
   "id": "33c1548d-2a28-498c-9bb3-c00657698e77",
   "metadata": {},
   "outputs": [],
   "source": [
    "interval[28.3, 49.1] * x.value + interval[1,3] * y.value + z.value"
   ]
  },
  {
   "cell_type": "code",
   "execution_count": null,
   "id": "76c59686-2c0a-491b-b415-769d3d7e4c41",
   "metadata": {},
   "outputs": [],
   "source": [
    "x = cp.Variable()\n",
    "y = cp.Variable()\n",
    "z = cp.Variable()\n",
    "\n",
    "constraints = [\n",
    "    28.3 * x + 1 * y + z >= 10,\n",
    "    49.1 * x + 3 * y + z <= 15,\n",
    "    28.3 * x + 3 * y + z >= 10,\n",
    "    49.1 * x + 1 * y + z <= 15\n",
    "]\n",
    "\n",
    "obj = cp.Minimize(\n",
    "    (x - 0.158)**2 + (y - .377)**2 + (z - 1.79)**2\n",
    ")\n",
    "# Form and solve problem.\n",
    "prob = cp.Problem(obj, constraints)\n",
    "import time\n",
    "tstart = time.time()\n",
    "prob.solve()  # Returns the optimal value.\n",
    "tfinish = time.time()\n",
    "print(\"status:\", prob.status)\n",
    "print(\"optimal value\", prob.value)\n",
    "print(f\"optimal variables are x: {np.round(x.value, 5)},\",\n",
    "       \"y: {np.round(y.value, 5)},\",\n",
    "       \"z: {np.round(z.value, 5)}\")\n",
    "print(f\"took {tfinish - tstart} seconds\")"
   ]
  },
  {
   "cell_type": "code",
   "execution_count": null,
   "id": "00f906f3-1e77-4bd4-b2e6-ecf705686c0c",
   "metadata": {},
   "outputs": [],
   "source": [
    "interval[28.3, 49.1] * x.value + interval[1,3] * y.value + z.value"
   ]
  },
  {
   "cell_type": "code",
   "execution_count": null,
   "id": "75188249-55fb-4442-81d6-b82ca71e7155",
   "metadata": {},
   "outputs": [],
   "source": []
  }
 ],
 "metadata": {
  "kernelspec": {
   "display_name": "Python 3 (ipykernel)",
   "language": "python",
   "name": "python3"
  },
  "language_info": {
   "codemirror_mode": {
    "name": "ipython",
    "version": 3
   },
   "file_extension": ".py",
   "mimetype": "text/x-python",
   "name": "python",
   "nbconvert_exporter": "python",
   "pygments_lexer": "ipython3",
   "version": "3.11.4"
  }
 },
 "nbformat": 4,
 "nbformat_minor": 5
}
