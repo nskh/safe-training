{
 "cells": [
  {
   "cell_type": "code",
   "execution_count": 7,
   "id": "6b21af07-1fb1-47e7-a701-d847cbd6b0d6",
   "metadata": {},
   "outputs": [
    {
     "name": "stdout",
     "output_type": "stream",
     "text": [
      "The autoreload extension is already loaded. To reload it, use:\n",
      "  %reload_ext autoreload\n"
     ]
    }
   ],
   "source": [
    "%load_ext autoreload\n",
    "%autoreload 2\n",
    "\n",
    "import tensorflow as tf\n",
    "from tensorflow import keras\n",
    "from tensorflow.keras import layers\n",
    "\n",
    "# TODO get interactive plotting working in jupyterlab\n",
    "%matplotlib inline\n",
    "import matplotlib\n",
    "import matplotlib.pyplot as plt\n",
    "import numpy as np\n",
    "import scipy\n",
    "import sympy as S \n",
    "\n",
    "from interval import interval, inf, imath\n",
    "\n",
    "from safe_train import *"
   ]
  },
  {
   "cell_type": "code",
   "execution_count": 11,
   "id": "b79d29e7-eb2f-4ba4-a4aa-ad2ca8bb492e",
   "metadata": {},
   "outputs": [
    {
     "name": "stderr",
     "output_type": "stream",
     "text": [
      "2023-06-20 12:58:23.970305: I tensorflow/core/grappler/optimizers/custom_graph_optimizer_registry.cc:114] Plugin optimizer for device_type GPU is enabled.\n",
      "2023-06-20 12:58:23.981827: I tensorflow/core/grappler/optimizers/custom_graph_optimizer_registry.cc:114] Plugin optimizer for device_type GPU is enabled.\n"
     ]
    },
    {
     "name": "stdout",
     "output_type": "stream",
     "text": [
      "\n",
      "Start of epoch 0\n",
      "[<tf.Tensor: shape=(1, 1), dtype=float32, numpy=array([[-179.58066]], dtype=float32)>, <tf.Tensor: shape=(1,), dtype=float32, numpy=array([-12.600288], dtype=float32)>]\n",
      "[<tf.Variable 'dense_7/kernel:0' shape=(1, 1) dtype=float32, numpy=array([[0.44550288]], dtype=float32)>, <tf.Variable 'dense_7/bias:0' shape=(1,) dtype=float32, numpy=array([0.], dtype=float32)>]\n",
      "safe region test passed, interval was interval([11.010058015584946, 21.920116037130356])\n",
      "\n",
      "Start of epoch 1\n",
      "[<tf.Tensor: shape=(1, 1), dtype=float32, numpy=array([[50.959656]], dtype=float32)>, <tf.Tensor: shape=(1,), dtype=float32, numpy=array([-6.4002867], dtype=float32)>]\n",
      "[<tf.Variable 'dense_7/kernel:0' shape=(1, 1) dtype=float32, numpy=array([[0.5455029]], dtype=float32)>, <tf.Variable 'dense_7/bias:0' shape=(1,) dtype=float32, numpy=array([0.09999999], dtype=float32)>]\n",
      "safe region test passed, interval was interval([11.986208885908127, 23.778968781232834])\n",
      "\n",
      "Start of epoch 2\n",
      "[<tf.Tensor: shape=(1, 1), dtype=float32, numpy=array([[155.66763]], dtype=float32)>, <tf.Tensor: shape=(1,), dtype=float32, numpy=array([-3.565283], dtype=float32)>]\n",
      "[<tf.Variable 'dense_7/kernel:0' shape=(1, 1) dtype=float32, numpy=array([[0.589638]], dtype=float32)>, <tf.Variable 'dense_7/bias:0' shape=(1,) dtype=float32, numpy=array([0.19344899], dtype=float32)>]\n",
      "safe region test passed, interval was interval([11.77698302268982, 23.274839401245117])\n",
      "\n",
      "Start of epoch 3\n",
      "[<tf.Tensor: shape=(1, 1), dtype=float32, numpy=array([[127.69945]], dtype=float32)>, <tf.Tensor: shape=(1,), dtype=float32, numpy=array([-4.278638], dtype=float32)>]\n",
      "[<tf.Variable 'dense_7/kernel:0' shape=(1, 1) dtype=float32, numpy=array([[0.5748928]], dtype=float32)>, <tf.Variable 'dense_7/bias:0' shape=(1,) dtype=float32, numpy=array([0.27912664], dtype=float32)>]\n",
      "safe region test passed, interval was interval([11.105887949466705, 21.848927795886993])\n",
      "\n",
      "Start of epoch 4\n",
      "[<tf.Tensor: shape=(1, 1), dtype=float32, numpy=array([[47.979378]], dtype=float32)>, <tf.Tensor: shape=(1,), dtype=float32, numpy=array([-6.3756456], dtype=float32)>]\n",
      "[<tf.Variable 'dense_7/kernel:0' shape=(1, 1) dtype=float32, numpy=array([[0.537152]], dtype=float32)>, <tf.Variable 'dense_7/bias:0' shape=(1,) dtype=float32, numpy=array([0.3628481], dtype=float32)>]\n",
      "safe region test passed, interval was interval([10.375775545835495, 20.302328318357468])\n",
      "\n",
      "Start of epoch 5\n",
      "[<tf.Tensor: shape=(1, 1), dtype=float32, numpy=array([[-38.505253]], dtype=float32)>, <tf.Tensor: shape=(1,), dtype=float32, numpy=array([-8.652357], dtype=float32)>]\n",
      "[<tf.Variable 'dense_7/kernel:0' shape=(1, 1) dtype=float32, numpy=array([[0.49632764]], dtype=float32)>, <tf.Variable 'dense_7/bias:0' shape=(1,) dtype=float32, numpy=array([0.44922277], dtype=float32)>]\n",
      "safe region test FAILED, interval was interval([9.912062406539917, 19.284708619117737])\n",
      "[<tf.Variable 'dense_7/kernel:0' shape=(1, 1) dtype=float32, numpy=array([[0.4686323]], dtype=float32)>, <tf.Variable 'dense_7/bias:0' shape=(1,) dtype=float32, numpy=array([0.5394162], dtype=float32)>]\n",
      "\n",
      "Projecting weights at epoch 5.\n",
      "Old weights: [0.468632310628891 0.5394161939620972]\n",
      "Projected weights: [0.47301823 0.53963549] yield new interval: interval([10.0, 19.460364510293612])\n",
      "\n",
      "Start of epoch 6\n",
      "[<tf.Tensor: shape=(1, 1), dtype=float32, numpy=array([[-85.419525]], dtype=float32)>, <tf.Tensor: shape=(1,), dtype=float32, numpy=array([-9.870098], dtype=float32)>]\n",
      "[<tf.Variable 'dense_7/kernel:0' shape=(1, 1) dtype=float32, numpy=array([[0.47301823]], dtype=float32)>, <tf.Variable 'dense_7/bias:0' shape=(1,) dtype=float32, numpy=array([0.5396355], dtype=float32)>]\n",
      "safe region test FAILED, interval was interval([9.925344228744507, 19.217734575271606])\n",
      "[<tf.Variable 'dense_7/kernel:0' shape=(1, 1) dtype=float32, numpy=array([[0.46461952]], dtype=float32)>, <tf.Variable 'dense_7/bias:0' shape=(1,) dtype=float32, numpy=array([0.6329539], dtype=float32)>]\n",
      "\n",
      "Start of epoch 7\n",
      "[<tf.Tensor: shape=(1, 1), dtype=float32, numpy=array([[-98.67888]], dtype=float32)>, <tf.Tensor: shape=(1,), dtype=float32, numpy=array([-10.187383], dtype=float32)>]\n",
      "[<tf.Variable 'dense_7/kernel:0' shape=(1, 1) dtype=float32, numpy=array([[0.46461952]], dtype=float32)>, <tf.Variable 'dense_7/bias:0' shape=(1,) dtype=float32, numpy=array([0.6329539], dtype=float32)>]\n",
      "safe region test passed, interval was interval([10.196821868419647, 19.665038764476776])\n",
      "\n",
      "Start of epoch 8\n",
      "[<tf.Tensor: shape=(1, 1), dtype=float32, numpy=array([[-73.19973]], dtype=float32)>, <tf.Tensor: shape=(1,), dtype=float32, numpy=array([-9.4686], dtype=float32)>]\n",
      "[<tf.Variable 'dense_7/kernel:0' shape=(1, 1) dtype=float32, numpy=array([[0.47341084]], dtype=float32)>, <tf.Variable 'dense_7/bias:0' shape=(1,) dtype=float32, numpy=array([0.728605], dtype=float32)>]\n",
      "safe region test passed, interval was interval([10.670894026756287, 20.51612639427185])\n",
      "\n",
      "Start of epoch 9\n",
      "[<tf.Tensor: shape=(1, 1), dtype=float32, numpy=array([[-25.04877]], dtype=float32)>, <tf.Tensor: shape=(1,), dtype=float32, numpy=array([-8.143441], dtype=float32)>]\n",
      "[<tf.Variable 'dense_7/kernel:0' shape=(1, 1) dtype=float32, numpy=array([[0.49226162]], dtype=float32)>, <tf.Variable 'dense_7/bias:0' shape=(1,) dtype=float32, numpy=array([0.82566166], dtype=float32)>]\n",
      "safe region test passed, interval was interval([11.179811775684357, 21.436637461185455])\n",
      "\n",
      "Start of epoch 10\n",
      "[<tf.Tensor: shape=(1, 1), dtype=float32, numpy=array([[27.000372]], dtype=float32)>, <tf.Tensor: shape=(1,), dtype=float32, numpy=array([-6.714011], dtype=float32)>]\n",
      "[<tf.Variable 'dense_7/kernel:0' shape=(1, 1) dtype=float32, numpy=array([[0.5128413]], dtype=float32)>, <tf.Variable 'dense_7/bias:0' shape=(1,) dtype=float32, numpy=array([0.9229861], dtype=float32)>]\n",
      "safe region test passed, interval was interval([11.562309741973877, 22.105231761932373])\n",
      "\n",
      "Start of epoch 11\n",
      "[<tf.Tensor: shape=(1, 1), dtype=float32, numpy=array([[64.904526]], dtype=float32)>, <tf.Tensor: shape=(1,), dtype=float32, numpy=array([-5.662919], dtype=float32)>]\n",
      "[<tf.Variable 'dense_7/kernel:0' shape=(1, 1) dtype=float32, numpy=array([[0.5271461]], dtype=float32)>, <tf.Variable 'dense_7/bias:0' shape=(1,) dtype=float32, numpy=array([1.0193877], dtype=float32)>]\n",
      "safe region test passed, interval was interval([11.717365503311157, 22.320688486099243])\n",
      "\n",
      "Start of epoch 12\n",
      "[<tf.Tensor: shape=(1, 1), dtype=float32, numpy=array([[77.365]], dtype=float32)>, <tf.Tensor: shape=(1,), dtype=float32, numpy=array([-5.292408], dtype=float32)>]\n",
      "[<tf.Variable 'dense_7/kernel:0' shape=(1, 1) dtype=float32, numpy=array([[0.53016615]], dtype=float32)>, <tf.Variable 'dense_7/bias:0' shape=(1,) dtype=float32, numpy=array([1.1140425], dtype=float32)>]\n",
      "safe region test passed, interval was interval([11.640493392944336, 22.074113607406616])\n",
      "\n",
      "Start of epoch 13\n",
      "[<tf.Tensor: shape=(1, 1), dtype=float32, numpy=array([[63.88229]], dtype=float32)>, <tf.Tensor: shape=(1,), dtype=float32, numpy=array([-5.6158543], dtype=float32)>]\n",
      "[<tf.Variable 'dense_7/kernel:0' shape=(1, 1) dtype=float32, numpy=array([[0.521681]], dtype=float32)>, <tf.Variable 'dense_7/bias:0' shape=(1,) dtype=float32, numpy=array([1.2068732], dtype=float32)>]\n",
      "safe region test passed, interval was interval([11.400266647338867, 21.50199270248413])\n",
      "\n",
      "Start of epoch 14\n",
      "[<tf.Tensor: shape=(1, 1), dtype=float32, numpy=array([[32.120537]], dtype=float32)>, <tf.Tensor: shape=(1,), dtype=float32, numpy=array([-6.4282026], dtype=float32)>]\n",
      "[<tf.Variable 'dense_7/kernel:0' shape=(1, 1) dtype=float32, numpy=array([[0.5050863]], dtype=float32)>, <tf.Variable 'dense_7/bias:0' shape=(1,) dtype=float32, numpy=array([1.2985406], dtype=float32)>]\n",
      "safe region test passed, interval was interval([11.101515173912048, 20.812951803207397])\n",
      "\n",
      "Start of epoch 15\n",
      "[<tf.Tensor: shape=(1, 1), dtype=float32, numpy=array([[-6.205009]], dtype=float32)>, <tf.Tensor: shape=(1,), dtype=float32, numpy=array([-7.4159946], dtype=float32)>]\n",
      "[<tf.Variable 'dense_7/kernel:0' shape=(1, 1) dtype=float32, numpy=array([[0.48557183]], dtype=float32)>, <tf.Variable 'dense_7/bias:0' shape=(1,) dtype=float32, numpy=array([1.3900785], dtype=float32)>]\n",
      "safe region test passed, interval was interval([10.857987642288208, 20.233530640602112])\n",
      "\n",
      "Start of epoch 16\n",
      "[<tf.Tensor: shape=(1, 1), dtype=float32, numpy=array([[-38.37385]], dtype=float32)>, <tf.Tensor: shape=(1,), dtype=float32, numpy=array([-8.238943], dtype=float32)>]\n",
      "[<tf.Variable 'dense_7/kernel:0' shape=(1, 1) dtype=float32, numpy=array([[0.46877715]], dtype=float32)>, <tf.Variable 'dense_7/bias:0' shape=(1,) dtype=float32, numpy=array([1.4824446], dtype=float32)>]\n",
      "safe region test passed, interval was interval([10.758863806724548, 19.94151782989502])\n",
      "\n",
      "Start of epoch 17\n",
      "[<tf.Tensor: shape=(1, 1), dtype=float32, numpy=array([[-54.403618]], dtype=float32)>, <tf.Tensor: shape=(1,), dtype=float32, numpy=array([-8.63008], dtype=float32)>]\n",
      "[<tf.Variable 'dense_7/kernel:0' shape=(1, 1) dtype=float32, numpy=array([[0.4591327]], dtype=float32)>, <tf.Variable 'dense_7/bias:0' shape=(1,) dtype=float32, numpy=array([1.5762098], dtype=float32)>]\n",
      "safe region test passed, interval was interval([10.83647358417511, 20.001484632492065])\n",
      "\n",
      "Start of epoch 18\n",
      "[<tf.Tensor: shape=(1, 1), dtype=float32, numpy=array([[-50.66922]], dtype=float32)>, <tf.Tensor: shape=(1,), dtype=float32, numpy=array([-8.492502], dtype=float32)>]\n",
      "[<tf.Variable 'dense_7/kernel:0' shape=(1, 1) dtype=float32, numpy=array([[0.45825055]], dtype=float32)>, <tf.Variable 'dense_7/bias:0' shape=(1,) dtype=float32, numpy=array([1.6714625], dtype=float32)>]\n",
      "safe region test passed, interval was interval([11.06161916255951, 20.35537028312683])\n",
      "\n",
      "Start of epoch 19\n",
      "[<tf.Tensor: shape=(1, 1), dtype=float32, numpy=array([[-30.43123]], dtype=float32)>, <tf.Tensor: shape=(1,), dtype=float32, numpy=array([-7.9134717], dtype=float32)>]\n",
      "[<tf.Variable 'dense_7/kernel:0' shape=(1, 1) dtype=float32, numpy=array([[0.46468756]], dtype=float32)>, <tf.Variable 'dense_7/bias:0' shape=(1,) dtype=float32, numpy=array([1.767868], dtype=float32)>]\n",
      "safe region test passed, interval was interval([11.362614393234253, 20.86043632030487])\n",
      "\n",
      "Start of epoch 20\n",
      "[<tf.Tensor: shape=(1, 1), dtype=float32, numpy=array([[-1.7047405]], dtype=float32)>, <tf.Tensor: shape=(1,), dtype=float32, numpy=array([-7.1074114], dtype=float32)>]\n",
      "[<tf.Variable 'dense_7/kernel:0' shape=(1, 1) dtype=float32, numpy=array([[0.4748911]], dtype=float32)>, <tf.Variable 'dense_7/bias:0' shape=(1,) dtype=float32, numpy=array([1.8647925], dtype=float32)>]\n",
      "safe region test passed, interval was interval([11.649917840957642, 21.33836555480957])\n",
      "\n",
      "Start of epoch 21\n",
      "[<tf.Tensor: shape=(1, 1), dtype=float32, numpy=array([[25.497498]], dtype=float32)>, <tf.Tensor: shape=(1,), dtype=float32, numpy=array([-6.3421783], dtype=float32)>]\n",
      "[<tf.Variable 'dense_7/kernel:0' shape=(1, 1) dtype=float32, numpy=array([[0.4844224]], dtype=float32)>, <tf.Variable 'dense_7/bias:0' shape=(1,) dtype=float32, numpy=array([1.9614701], dtype=float32)>]\n",
      "safe region test passed, interval was interval([11.844030141830444, 21.63083505630493])\n",
      "\n",
      "Start of epoch 22\n",
      "[<tf.Tensor: shape=(1, 1), dtype=float32, numpy=array([[42.2854]], dtype=float32)>, <tf.Tensor: shape=(1,), dtype=float32, numpy=array([-5.8555965], dtype=float32)>]\n",
      "[<tf.Variable 'dense_7/kernel:0' shape=(1, 1) dtype=float32, numpy=array([[0.48934025]], dtype=float32)>, <tf.Variable 'dense_7/bias:0' shape=(1,) dtype=float32, numpy=array([2.0572252], dtype=float32)>]\n",
      "safe region test passed, interval was interval([11.902977108955383, 21.6542546749115])\n",
      "\n",
      "Start of epoch 23\n",
      "[<tf.Tensor: shape=(1, 1), dtype=float32, numpy=array([[43.965187]], dtype=float32)>, <tf.Tensor: shape=(1,), dtype=float32, numpy=array([-5.7732296], dtype=float32)>]\n",
      "[<tf.Variable 'dense_7/kernel:0' shape=(1, 1) dtype=float32, numpy=array([[0.48756388]], dtype=float32)>, <tf.Variable 'dense_7/bias:0' shape=(1,) dtype=float32, numpy=array([2.1516995], dtype=float32)>]\n",
      "safe region test passed, interval was interval([11.834200501441956, 21.423423767089844])\n",
      "\n",
      "Start of epoch 24\n",
      "[<tf.Tensor: shape=(1, 1), dtype=float32, numpy=array([[31.368013]], dtype=float32)>, <tf.Tensor: shape=(1,), dtype=float32, numpy=array([-6.072837], dtype=float32)>]\n",
      "[<tf.Variable 'dense_7/kernel:0' shape=(1, 1) dtype=float32, numpy=array([[0.47946116]], dtype=float32)>, <tf.Variable 'dense_7/bias:0' shape=(1,) dtype=float32, numpy=array([2.2449772], dtype=float32)>]\n",
      "safe region test passed, interval was interval([11.68622624874115, 21.034923315048218])\n",
      "\n",
      "Start of epoch 25\n",
      "[<tf.Tensor: shape=(1, 1), dtype=float32, numpy=array([[9.91723]], dtype=float32)>, <tf.Tensor: shape=(1,), dtype=float32, numpy=array([-6.609311], dtype=float32)>]\n",
      "[<tf.Variable 'dense_7/kernel:0' shape=(1, 1) dtype=float32, numpy=array([[0.46743485]], dtype=float32)>, <tf.Variable 'dense_7/bias:0' shape=(1,) dtype=float32, numpy=array([2.3375292], dtype=float32)>]\n",
      "safe region test passed, interval was interval([11.529764771461487, 20.629520654678345])\n",
      "\n",
      "Start of epoch 26\n",
      "[<tf.Tensor: shape=(1, 1), dtype=float32, numpy=array([[-12.482663]], dtype=float32)>, <tf.Tensor: shape=(1,), dtype=float32, numpy=array([-7.171176], dtype=float32)>]\n",
      "[<tf.Variable 'dense_7/kernel:0' shape=(1, 1) dtype=float32, numpy=array([[0.4549878]], dtype=float32)>, <tf.Variable 'dense_7/bias:0' shape=(1,) dtype=float32, numpy=array([2.430009], dtype=float32)>]\n",
      "safe region test passed, interval was interval([11.434165477752686, 20.34533166885376])\n",
      "\n",
      "Start of epoch 27\n",
      "[<tf.Tensor: shape=(1, 1), dtype=float32, numpy=array([[-28.076237]], dtype=float32)>, <tf.Tensor: shape=(1,), dtype=float32, numpy=array([-7.5509644], dtype=float32)>]\n",
      "[<tf.Variable 'dense_7/kernel:0' shape=(1, 1) dtype=float32, numpy=array([[0.4455583]], dtype=float32)>, <tf.Variable 'dense_7/bias:0' shape=(1,) dtype=float32, numpy=array([2.5229993], dtype=float32)>]\n",
      "safe region test passed, interval was interval([11.44312036037445, 20.269423246383667])\n",
      "\n",
      "Start of epoch 28\n",
      "[<tf.Tensor: shape=(1, 1), dtype=float32, numpy=array([[-31.974747]], dtype=float32)>, <tf.Tensor: shape=(1,), dtype=float32, numpy=array([-7.6179185], dtype=float32)>]\n",
      "[<tf.Variable 'dense_7/kernel:0' shape=(1, 1) dtype=float32, numpy=array([[0.44131514]], dtype=float32)>, <tf.Variable 'dense_7/bias:0' shape=(1,) dtype=float32, numpy=array([2.6168175], dtype=float32)>]\n",
      "safe region test passed, interval was interval([11.559989929199219, 20.408546209335327])\n",
      "\n",
      "Start of epoch 29\n",
      "[<tf.Tensor: shape=(1, 1), dtype=float32, numpy=array([[-23.799389]], dtype=float32)>, <tf.Tensor: shape=(1,), dtype=float32, numpy=array([-7.3619256], dtype=float32)>]\n",
      "[<tf.Variable 'dense_7/kernel:0' shape=(1, 1) dtype=float32, numpy=array([[0.4424278]], dtype=float32)>, <tf.Variable 'dense_7/bias:0' shape=(1,) dtype=float32, numpy=array([2.7114336], dtype=float32)>]\n",
      "safe region test passed, interval was interval([11.749937891960144, 20.693366289138794])\n",
      "\n",
      "Start of epoch 30\n",
      "[<tf.Tensor: shape=(1, 1), dtype=float32, numpy=array([[-7.4435444]], dtype=float32)>, <tf.Tensor: shape=(1,), dtype=float32, numpy=array([-6.887158], dtype=float32)>]\n",
      "[<tf.Variable 'dense_7/kernel:0' shape=(1, 1) dtype=float32, numpy=array([[0.44717142]], dtype=float32)>, <tf.Variable 'dense_7/bias:0' shape=(1,) dtype=float32, numpy=array([2.8065095], dtype=float32)>]\n",
      "safe region test passed, interval was interval([11.954998135566711, 21.00847101211548])\n",
      "\n",
      "Start of epoch 31\n",
      "[<tf.Tensor: shape=(1, 1), dtype=float32, numpy=array([[10.612133]], dtype=float32)>, <tf.Tensor: shape=(1,), dtype=float32, numpy=array([-6.366992], dtype=float32)>]\n",
      "[<tf.Variable 'dense_7/kernel:0' shape=(1, 1) dtype=float32, numpy=array([[0.45267364]], dtype=float32)>, <tf.Variable 'dense_7/bias:0' shape=(1,) dtype=float32, numpy=array([2.9015253], dtype=float32)>]\n",
      "safe region test passed, interval was interval([12.115560293197632, 21.23516035079956])\n",
      "\n",
      "Start of epoch 32\n",
      "[<tf.Tensor: shape=(1, 1), dtype=float32, numpy=array([[23.702335]], dtype=float32)>, <tf.Tensor: shape=(1,), dtype=float32, numpy=array([-5.9797406], dtype=float32)>]\n",
      "[<tf.Variable 'dense_7/kernel:0' shape=(1, 1) dtype=float32, numpy=array([[0.45598]], dtype=float32)>, <tf.Variable 'dense_7/bias:0' shape=(1,) dtype=float32, numpy=array([2.9959602], dtype=float32)>]\n",
      "safe region test passed, interval was interval([12.192302703857422, 21.295127630233765])\n",
      "\n",
      "Start of epoch 33\n",
      "[<tf.Tensor: shape=(1, 1), dtype=float32, numpy=array([[27.430023]], dtype=float32)>, <tf.Tensor: shape=(1,), dtype=float32, numpy=array([-5.8430314], dtype=float32)>]\n",
      "[<tf.Variable 'dense_7/kernel:0' shape=(1, 1) dtype=float32, numpy=array([[0.45514125]], dtype=float32)>, <tf.Variable 'dense_7/bias:0' shape=(1,) dtype=float32, numpy=array([3.0894778], dtype=float32)>]\n",
      "safe region test passed, interval was interval([12.179839611053467, 21.17763638496399])\n",
      "\n",
      "Start of epoch 34\n",
      "[<tf.Tensor: shape=(1, 1), dtype=float32, numpy=array([[21.192425]], dtype=float32)>, <tf.Tensor: shape=(1,), dtype=float32, numpy=array([-5.972985], dtype=float32)>]\n",
      "[<tf.Variable 'dense_7/kernel:0' shape=(1, 1) dtype=float32, numpy=array([[0.44988984]], dtype=float32)>, <tf.Variable 'dense_7/bias:0' shape=(1,) dtype=float32, numpy=array([3.1820428], dtype=float32)>]\n",
      "safe region test passed, interval was interval([12.106137871742249, 20.93835711479187])\n",
      "\n",
      "Start of epoch 35\n",
      "[<tf.Tensor: shape=(1, 1), dtype=float32, numpy=array([[8.11553]], dtype=float32)>, <tf.Tensor: shape=(1,), dtype=float32, numpy=array([-6.285967], dtype=float32)>]\n",
      "[<tf.Variable 'dense_7/kernel:0' shape=(1, 1) dtype=float32, numpy=array([[0.44161096]], dtype=float32)>, <tf.Variable 'dense_7/bias:0' shape=(1,) dtype=float32, numpy=array([3.2739186], dtype=float32)>]\n",
      "safe region test passed, interval was interval([12.019865274429321, 20.674187898635864])\n",
      "\n",
      "Start of epoch 36\n",
      "[<tf.Tensor: shape=(1, 1), dtype=float32, numpy=array([[-6.3594484]], dtype=float32)>, <tf.Tensor: shape=(1,), dtype=float32, numpy=array([-6.6364074], dtype=float32)>]\n",
      "[<tf.Variable 'dense_7/kernel:0' shape=(1, 1) dtype=float32, numpy=array([[0.43271613]], dtype=float32)>, <tf.Variable 'dense_7/bias:0' shape=(1,) dtype=float32, numpy=array([3.3655427], dtype=float32)>]\n",
      "safe region test passed, interval was interval([11.971227526664734, 20.48511266708374])\n",
      "\n",
      "Start of epoch 37\n",
      "[<tf.Tensor: shape=(1, 1), dtype=float32, numpy=array([[-16.618439]], dtype=float32)>, <tf.Tensor: shape=(1,), dtype=float32, numpy=array([-6.8741217], dtype=float32)>]\n",
      "[<tf.Variable 'dense_7/kernel:0' shape=(1, 1) dtype=float32, numpy=array([[0.42569426]], dtype=float32)>, <tf.Variable 'dense_7/bias:0' shape=(1,) dtype=float32, numpy=array([3.4573424], dtype=float32)>]\n",
      "safe region test passed, interval was interval([11.992560744285583, 20.435550928115845])\n",
      "\n",
      "Start of epoch 38\n",
      "[<tf.Tensor: shape=(1, 1), dtype=float32, numpy=array([[-19.044142]], dtype=float32)>, <tf.Tensor: shape=(1,), dtype=float32, numpy=array([-6.9023504], dtype=float32)>]\n",
      "[<tf.Variable 'dense_7/kernel:0' shape=(1, 1) dtype=float32, numpy=array([[0.4221495]], dtype=float32)>, <tf.Variable 'dense_7/bias:0' shape=(1,) dtype=float32, numpy=array([3.5495706], dtype=float32)>]\n",
      "safe region test passed, interval was interval([12.086544156074524, 20.530867099761963])\n",
      "\n",
      "Start of epoch 39\n",
      "[<tf.Tensor: shape=(1, 1), dtype=float32, numpy=array([[-13.335441]], dtype=float32)>, <tf.Tensor: shape=(1,), dtype=float32, numpy=array([-6.71305], dtype=float32)>]\n",
      "[<tf.Variable 'dense_7/kernel:0' shape=(1, 1) dtype=float32, numpy=array([[0.42221615]], dtype=float32)>, <tf.Variable 'dense_7/bias:0' shape=(1,) dtype=float32, numpy=array([3.6422212], dtype=float32)>]\n",
      "safe region test passed, interval was interval([12.227136969566345, 20.719223499298096])\n"
     ]
    },
    {
     "data": {
      "text/plain": [
       "<keras.engine.functional.Functional at 0x2807d49d0>"
      ]
     },
     "execution_count": 11,
     "metadata": {},
     "output_type": "execute_result"
    }
   ],
   "source": [
    "projection_training_loop()"
   ]
  },
  {
   "cell_type": "code",
   "execution_count": null,
   "id": "eb538430-aeb3-4d16-b2d8-607a71ce3e02",
   "metadata": {},
   "outputs": [],
   "source": [
    "projection_training_loop()"
   ]
  },
  {
   "cell_type": "code",
   "execution_count": 68,
   "id": "942a1c74-0235-4d85-b48c-06c7ea6762ef",
   "metadata": {},
   "outputs": [],
   "source": [
    "# output_interval = interval[9.711857616901398, 19.23788982629776]\n",
    "weight = 0.4763016\n",
    "bias = 0.18582541\n",
    "input_interval = interval[20, 40]\n",
    "input_interval * weight + bias\n",
    "\n",
    "# goal interval: [10, 30]\n",
    "goal_interval = interval[10, 30]"
   ]
  },
  {
   "cell_type": "code",
   "execution_count": 69,
   "id": "ae19cb10-be22-474c-89dd-4980b3148c35",
   "metadata": {},
   "outputs": [
    {
     "data": {
      "text/plain": [
       "interval([10.000013, 19.813292999999998])"
      ]
     },
     "execution_count": 69,
     "metadata": {},
     "output_type": "execute_result"
    }
   ],
   "source": [
    "# output_interval = interval[9.711857616901398, 19.23788982629776]\n",
    "# from wolfram alpha!\n",
    "new_weight = 0.490664\n",
    "new_bias = 0.186733\n",
    "input_interval * new_weight + new_bias"
   ]
  },
  {
   "cell_type": "code",
   "execution_count": 46,
   "id": "64800fbc-e76f-4919-8901-884986ed7133",
   "metadata": {},
   "outputs": [
    {
     "data": {
      "text/plain": [
       "array([0.4763016 , 0.18582541])"
      ]
     },
     "execution_count": 46,
     "metadata": {},
     "output_type": "execute_result"
    }
   ],
   "source": [
    "theta = np.array([weight, bias])\n",
    "theta"
   ]
  },
  {
   "cell_type": "markdown",
   "id": "b2f679bf-4c47-474e-99c2-a49603b6d6a3",
   "metadata": {},
   "source": [
    "**insight**: `input_interval` COULD be anything, from the penultimate layer output - for single-node, it's the actual input"
   ]
  },
  {
   "cell_type": "code",
   "execution_count": 13,
   "id": "3d89591f-4afb-4e2d-9858-9c27465dfcd9",
   "metadata": {},
   "outputs": [],
   "source": [
    "w, b = S.symbols(\"w b\")"
   ]
  },
  {
   "cell_type": "code",
   "execution_count": 23,
   "id": "cd741dc5-d582-4431-b557-c96269944f3d",
   "metadata": {},
   "outputs": [
    {
     "data": {
      "text/plain": [
       "20.0"
      ]
     },
     "execution_count": 23,
     "metadata": {},
     "output_type": "execute_result"
    }
   ],
   "source": [
    "input_interval[0].inf"
   ]
  },
  {
   "cell_type": "code",
   "execution_count": 24,
   "id": "7da2f725-9784-4843-a50a-eedd35a6c5b9",
   "metadata": {},
   "outputs": [
    {
     "data": {
      "text/plain": [
       "40.0"
      ]
     },
     "execution_count": 24,
     "metadata": {},
     "output_type": "execute_result"
    }
   ],
   "source": [
    "input_interval[0].sup"
   ]
  },
  {
   "cell_type": "code",
   "execution_count": 25,
   "id": "997eda68-2346-4eac-9af0-8203c61bc53a",
   "metadata": {},
   "outputs": [],
   "source": [
    "# symbolic interval"
   ]
  },
  {
   "cell_type": "code",
   "execution_count": 28,
   "id": "fd7448f9-a1fd-4f15-8e0f-56e84ec1a7ba",
   "metadata": {},
   "outputs": [
    {
     "data": {
      "text/latex": [
       "$\\displaystyle b + 20.0 w$"
      ],
      "text/plain": [
       "b + 20.0*w"
      ]
     },
     "execution_count": 28,
     "metadata": {},
     "output_type": "execute_result"
    }
   ],
   "source": [
    "lower = input_interval[0].inf * w + b\n",
    "lower"
   ]
  },
  {
   "cell_type": "code",
   "execution_count": 30,
   "id": "af1bfa5d-6fed-4d73-974d-d1219778a454",
   "metadata": {},
   "outputs": [
    {
     "data": {
      "text/latex": [
       "$\\displaystyle b + 40.0 w$"
      ],
      "text/plain": [
       "b + 40.0*w"
      ]
     },
     "execution_count": 30,
     "metadata": {},
     "output_type": "execute_result"
    }
   ],
   "source": [
    "upper = input_interval[0].sup * w + b\n",
    "upper"
   ]
  },
  {
   "cell_type": "code",
   "execution_count": 50,
   "id": "e14a8d56-6940-4817-aa44-5c59e6fbfac8",
   "metadata": {},
   "outputs": [
    {
     "data": {
      "text/plain": [
       "-20"
      ]
     },
     "execution_count": 50,
     "metadata": {},
     "output_type": "execute_result"
    }
   ],
   "source": [
    "-input_interval[0].inf"
   ]
  },
  {
   "cell_type": "code",
   "execution_count": null,
   "id": "4f8053b5-df15-45b4-921a-527595a223ba",
   "metadata": {},
   "outputs": [],
   "source": [
    "shift_lower = np.array([0, goal_interval[0].inf])\n",
    "direction_lower = np.array([1, -input_interval[0].inf])\n",
    "project_lower = (direction_lower @ (theta - shift_lower)) / (direction_lower @ direction_lower) * direction_lower\n",
    "param_lower = project_lower + shift_lower\n",
    "\n",
    "shift_upper = np.array([0, goal_interval[0].sup])\n",
    "direction_upper = np.array([1, -input_interval[0].sup])\n",
    "project_upper = (direction_upper @ (theta - shift_upper)) / (direction_upper @ direction_upper) * direction_upper\n",
    "param_upper = project_upper + shift_upper\n",
    "\n",
    "best_param = min([param_upper, param_lower], key = lambda param: np.linalg.norm(theta - param))"
   ]
  },
  {
   "cell_type": "code",
   "execution_count": 56,
   "id": "19063387-c187-43fd-a255-ab502385651d",
   "metadata": {},
   "outputs": [
    {
     "data": {
      "text/plain": [
       "array([ 0., 10.])"
      ]
     },
     "execution_count": 56,
     "metadata": {},
     "output_type": "execute_result"
    }
   ],
   "source": [
    "shift_lower = np.array([0, goal_interval[0].inf])\n",
    "shift_lower"
   ]
  },
  {
   "cell_type": "code",
   "execution_count": 57,
   "id": "d8193b34-ed40-4530-bde4-ed33edeaf412",
   "metadata": {},
   "outputs": [
    {
     "data": {
      "text/plain": [
       "array([  1., -20.])"
      ]
     },
     "execution_count": 57,
     "metadata": {},
     "output_type": "execute_result"
    }
   ],
   "source": [
    "direction_lower = np.array([1, -input_interval[0].inf])\n",
    "direction_lower"
   ]
  },
  {
   "cell_type": "code",
   "execution_count": 73,
   "id": "7d12b841-390f-4097-9ddc-dcbea1869667",
   "metadata": {},
   "outputs": [
    {
     "data": {
      "text/plain": [
       "array([ 0.4906728 , -9.81345603])"
      ]
     },
     "execution_count": 73,
     "metadata": {},
     "output_type": "execute_result"
    }
   ],
   "source": [
    "project_lower = (direction_lower @ (theta - shift_lower)) / (direction_lower @ direction_lower) * direction_lower\n",
    "project_lower"
   ]
  },
  {
   "cell_type": "code",
   "execution_count": 75,
   "id": "b7c760bc-76d7-42d1-b059-9192721a1963",
   "metadata": {},
   "outputs": [
    {
     "data": {
      "text/plain": [
       "array([0.4906728 , 0.18654397])"
      ]
     },
     "execution_count": 75,
     "metadata": {},
     "output_type": "execute_result"
    }
   ],
   "source": [
    "param_lower = project_lower + shift_lower\n",
    "param_lower"
   ]
  },
  {
   "cell_type": "code",
   "execution_count": 62,
   "id": "f304e5c5-c694-4b48-89c8-7df2b20005d2",
   "metadata": {},
   "outputs": [
    {
     "data": {
      "text/plain": [
       "array([ 0., 30.])"
      ]
     },
     "execution_count": 62,
     "metadata": {},
     "output_type": "execute_result"
    }
   ],
   "source": [
    "shift_upper = np.array([0, goal_interval[0].sup])\n",
    "shift_upper"
   ]
  },
  {
   "cell_type": "code",
   "execution_count": 63,
   "id": "f3b6f5a8-87f9-4604-8e9e-4342bd567151",
   "metadata": {},
   "outputs": [
    {
     "data": {
      "text/plain": [
       "array([  1., -40.])"
      ]
     },
     "execution_count": 63,
     "metadata": {},
     "output_type": "execute_result"
    }
   ],
   "source": [
    "direction_upper = np.array([1, -input_interval[0].sup])\n",
    "direction_upper"
   ]
  },
  {
   "cell_type": "code",
   "execution_count": 71,
   "id": "ddabe552-6875-4f70-b0f4-ea6171ed4df7",
   "metadata": {},
   "outputs": [
    {
     "data": {
      "text/plain": [
       "array([  0.74518631, -29.80745247])"
      ]
     },
     "execution_count": 71,
     "metadata": {},
     "output_type": "execute_result"
    }
   ],
   "source": [
    "project_upper = (direction_upper @ (theta - shift_upper)) / (direction_upper @ direction_upper) * direction_upper\n",
    "project_upper"
   ]
  },
  {
   "cell_type": "code",
   "execution_count": 76,
   "id": "266a547b-5cfc-4618-8429-cfc3bb28e09e",
   "metadata": {},
   "outputs": [
    {
     "data": {
      "text/plain": [
       "array([0.74518631, 0.19254753])"
      ]
     },
     "execution_count": 76,
     "metadata": {},
     "output_type": "execute_result"
    }
   ],
   "source": [
    "param_upper = project_upper + shift_upper\n",
    "param_upper"
   ]
  },
  {
   "cell_type": "code",
   "execution_count": 77,
   "id": "d352e09c-0dd5-4326-a8e4-b43f7ea77374",
   "metadata": {},
   "outputs": [
    {
     "data": {
      "text/plain": [
       "0.2689687251525259"
      ]
     },
     "execution_count": 77,
     "metadata": {},
     "output_type": "execute_result"
    }
   ],
   "source": [
    "np.linalg.norm(theta - param_upper)"
   ]
  },
  {
   "cell_type": "code",
   "execution_count": 78,
   "id": "ac95820c-1ff3-4ac8-a776-58a92ad9defd",
   "metadata": {},
   "outputs": [
    {
     "data": {
      "text/plain": [
       "0.014389154284640958"
      ]
     },
     "execution_count": 78,
     "metadata": {},
     "output_type": "execute_result"
    }
   ],
   "source": [
    "np.linalg.norm(theta - param_lower)"
   ]
  },
  {
   "cell_type": "code",
   "execution_count": 91,
   "id": "2abef670-be11-417a-9185-10a61f02ccb8",
   "metadata": {},
   "outputs": [
    {
     "data": {
      "text/plain": [
       "array([0.4906728 , 0.18654397])"
      ]
     },
     "execution_count": 91,
     "metadata": {},
     "output_type": "execute_result"
    }
   ],
   "source": [
    "min([param_upper, param_lower], key = lambda param: np.linalg.norm(theta - param))"
   ]
  },
  {
   "cell_type": "code",
   "execution_count": 80,
   "id": "31584d87-9c1d-4b6a-8701-bfb1a4f1512a",
   "metadata": {},
   "outputs": [
    {
     "data": {
      "text/plain": [
       "(0.49067280149625936, 0.18654397007481194)"
      ]
     },
     "execution_count": 80,
     "metadata": {},
     "output_type": "execute_result"
    }
   ],
   "source": [
    "w, b = param_lower\n",
    "w, b"
   ]
  },
  {
   "cell_type": "code",
   "execution_count": 81,
   "id": "9d245d52-32db-4943-ba04-6306481561d2",
   "metadata": {},
   "outputs": [
    {
     "data": {
      "text/plain": [
       "interval([10.0, 19.813456029925188])"
      ]
     },
     "execution_count": 81,
     "metadata": {},
     "output_type": "execute_result"
    }
   ],
   "source": [
    "input_interval * w + b"
   ]
  }
 ],
 "metadata": {
  "kernelspec": {
   "display_name": "Python 3 (ipykernel)",
   "language": "python",
   "name": "python3"
  },
  "language_info": {
   "codemirror_mode": {
    "name": "ipython",
    "version": 3
   },
   "file_extension": ".py",
   "mimetype": "text/x-python",
   "name": "python",
   "nbconvert_exporter": "python",
   "pygments_lexer": "ipython3",
   "version": "3.10.9"
  }
 },
 "nbformat": 4,
 "nbformat_minor": 5
}
