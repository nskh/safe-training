{
 "cells": [
  {
   "cell_type": "markdown",
   "id": "afd7207c",
   "metadata": {},
   "source": [
    "## Imports"
   ]
  },
  {
   "cell_type": "code",
   "execution_count": 3,
   "id": "e4d30ace",
   "metadata": {},
   "outputs": [],
   "source": [
    "%load_ext autoreload\n",
    "%autoreload 2\n",
    "\n",
    "import tensorflow as tf\n",
    "from tensorflow import keras\n",
    "from tensorflow.keras import layers\n",
    "\n",
    "# TODO get interactive plotting working in jupyterlab\n",
    "%matplotlib inline\n",
    "import matplotlib\n",
    "import matplotlib.pyplot as plt\n",
    "import numpy as np\n",
    "import scipy\n",
    "\n",
    "from interval import interval, inf, imath\n",
    "\n",
    "from safe_train import *"
   ]
  },
  {
   "cell_type": "markdown",
   "id": "efff1136",
   "metadata": {},
   "source": [
    "## CIFAR example"
   ]
  },
  {
   "cell_type": "code",
   "execution_count": 3,
   "id": "7f9c03fb",
   "metadata": {},
   "outputs": [],
   "source": [
    "# cifar = tf.keras.datasets.cifar100\n",
    "# (x_train, y_train), (x_test, y_test) = cifar.load_data()\n",
    "# model = tf.keras.applications.ResNet50(\n",
    "#     include_top=True,\n",
    "#     weights=None,\n",
    "#     input_shape=(32, 32, 3),\n",
    "#     classes=100,)"
   ]
  },
  {
   "cell_type": "code",
   "execution_count": 101,
   "id": "c1c082e3",
   "metadata": {},
   "outputs": [],
   "source": [
    "# loss_fn = tf.keras.losses.SparseCategoricalCrossentropy(from_logits=True)\n",
    "# model.compile(optimizer=\"adam\", loss=loss_fn, metrics=[\"accuracy\"])\n",
    "# model.fit(x_train, y_train, epochs=5, batch_size=64)"
   ]
  },
  {
   "cell_type": "code",
   "execution_count": 102,
   "id": "42a9228d",
   "metadata": {},
   "outputs": [],
   "source": [
    "# model.name"
   ]
  },
  {
   "cell_type": "markdown",
   "id": "219338da",
   "metadata": {},
   "source": [
    "## OLS example"
   ]
  },
  {
   "cell_type": "code",
   "execution_count": 433,
   "id": "5190085d-a2b2-4832-87c4-50fd0534411d",
   "metadata": {},
   "outputs": [
    {
     "data": {
      "image/png": "[encoded data removed]",
      "text/plain": [
       "<Figure size 640x480 with 1 Axes>"
      ]
     },
     "metadata": {},
     "output_type": "display_data"
    }
   ],
   "source": [
    "x, y = generate_data()\n",
    "plt.figure()\n",
    "plt.scatter(x,y)\n",
    "plt.xlabel(\"x\")\n",
    "plt.ylabel(\"y\")\n",
    "plt.show()"
   ]
  },
  {
   "cell_type": "code",
   "execution_count": null,
   "id": "312e4a80-c704-4883-bb7e-26c24914bfa3",
   "metadata": {},
   "outputs": [],
   "source": []
  },
  {
   "cell_type": "code",
   "execution_count": 360,
   "id": "9dce05b7",
   "metadata": {},
   "outputs": [],
   "source": [
    "# # TODO add more datapoints\n",
    "\n",
    "# # x = np.array([5, 15, 25, 35, 45, 55])\n",
    "# NOISE_STD = 2\n",
    "# M = 0.5\n",
    "# B = 5\n",
    "# x = np.linspace(5, 55, 30)\n",
    "# y_func = lambda x: M * x + B \n",
    "# y_noisy = lambda x: y_func(x) + np.random.normal(0, NOISE_STD, np.shape(x))\n",
    "# # y = np.array([5, 20, 14, 32, 22, 38])\n",
    "# y = y_noisy(x)\n",
    "\n",
    "# plt.figure()\n",
    "# plt.scatter(x,y)\n",
    "# plt.xlabel(\"x\")\n",
    "# plt.ylabel(\"y\")\n",
    "# plt.show()"
   ]
  },
  {
   "cell_type": "code",
   "execution_count": 434,
   "id": "06491109",
   "metadata": {},
   "outputs": [
    {
     "name": "stderr",
     "output_type": "stream",
     "text": [
      "2023-04-06 23:25:53.879045: I tensorflow/core/grappler/optimizers/custom_graph_optimizer_registry.cc:114] Plugin optimizer for device_type GPU is enabled.\n",
      "2023-04-06 23:25:53.892119: I tensorflow/core/grappler/optimizers/custom_graph_optimizer_registry.cc:114] Plugin optimizer for device_type GPU is enabled.\n"
     ]
    }
   ],
   "source": [
    "normalizer = tf.keras.layers.Normalization(input_shape=[1,], axis=None)\n",
    "normalizer.adapt(x)"
   ]
  },
  {
   "cell_type": "code",
   "execution_count": 435,
   "id": "c989b515",
   "metadata": {},
   "outputs": [
    {
     "data": {
      "text/plain": [
       "array([30.000002], dtype=float32)"
      ]
     },
     "execution_count": 435,
     "metadata": {},
     "output_type": "execute_result"
    }
   ],
   "source": [
    "normalizer.mean.numpy()"
   ]
  },
  {
   "cell_type": "code",
   "execution_count": 436,
   "id": "6dcec120",
   "metadata": {},
   "outputs": [
    {
     "data": {
      "text/plain": [
       "array([222.70117], dtype=float32)"
      ]
     },
     "execution_count": 436,
     "metadata": {},
     "output_type": "execute_result"
    }
   ],
   "source": [
    "normalizer.variance.numpy()"
   ]
  },
  {
   "cell_type": "code",
   "execution_count": 364,
   "id": "b7ca5ed4",
   "metadata": {},
   "outputs": [],
   "source": [
    "regression_model = tf.keras.Sequential([\n",
    "    normalizer,\n",
    "    layers.Dense(units=1),\n",
    "    layers.Dense(units=10),\n",
    "    layers.Dense(units=1),\n",
    "])"
   ]
  },
  {
   "cell_type": "code",
   "execution_count": 365,
   "id": "005d4877",
   "metadata": {},
   "outputs": [
    {
     "name": "stdout",
     "output_type": "stream",
     "text": [
      "Model: \"sequential_7\"\n",
      "_________________________________________________________________\n",
      " Layer (type)                Output Shape              Param #   \n",
      "=================================================================\n",
      " normalization_6 (Normalizat  (None, 1)                3         \n",
      " ion)                                                            \n",
      "                                                                 \n",
      " dense_11 (Dense)            (None, 1)                 2         \n",
      "                                                                 \n",
      " dense_12 (Dense)            (None, 10)                20        \n",
      "                                                                 \n",
      " dense_13 (Dense)            (None, 1)                 11        \n",
      "                                                                 \n",
      "=================================================================\n",
      "Total params: 36\n",
      "Trainable params: 33\n",
      "Non-trainable params: 3\n",
      "_________________________________________________________________\n"
     ]
    }
   ],
   "source": [
    "regression_model.summary()"
   ]
  },
  {
   "cell_type": "code",
   "execution_count": 366,
   "id": "e9e89b77",
   "metadata": {},
   "outputs": [
    {
     "name": "stdout",
     "output_type": "stream",
     "text": [
      "1/1 [==============================] - 0s 168ms/step\n"
     ]
    },
    {
     "name": "stderr",
     "output_type": "stream",
     "text": [
      "2023-04-06 14:27:52.683600: I tensorflow/core/grappler/optimizers/custom_graph_optimizer_registry.cc:114] Plugin optimizer for device_type GPU is enabled.\n"
     ]
    },
    {
     "data": {
      "text/plain": [
       "array([[-1.1011231 ],\n",
       "       [-1.0251833 ],\n",
       "       [-0.949244  ],\n",
       "       [-0.8733043 ],\n",
       "       [-0.797365  ],\n",
       "       [-0.7214254 ],\n",
       "       [-0.6454859 ],\n",
       "       [-0.5695464 ],\n",
       "       [-0.4936068 ],\n",
       "       [-0.41766745],\n",
       "       [-0.34172788],\n",
       "       [-0.26578838],\n",
       "       [-0.18984884],\n",
       "       [-0.11390933],\n",
       "       [-0.03796981],\n",
       "       [ 0.03796963],\n",
       "       [ 0.11390925],\n",
       "       [ 0.18984869],\n",
       "       [ 0.2657881 ],\n",
       "       [ 0.34172767],\n",
       "       [ 0.41766715],\n",
       "       [ 0.49360675],\n",
       "       [ 0.5695462 ],\n",
       "       [ 0.6454858 ],\n",
       "       [ 0.7214253 ],\n",
       "       [ 0.79736465],\n",
       "       [ 0.8733043 ],\n",
       "       [ 0.9492437 ],\n",
       "       [ 1.0251833 ],\n",
       "       [ 1.1011229 ]], dtype=float32)"
      ]
     },
     "execution_count": 366,
     "metadata": {},
     "output_type": "execute_result"
    }
   ],
   "source": [
    "regression_model.predict(x)"
   ]
  },
  {
   "cell_type": "markdown",
   "id": "e40d0b2c",
   "metadata": {},
   "source": [
    "### Training"
   ]
  },
  {
   "cell_type": "code",
   "execution_count": 367,
   "id": "dc1495ed",
   "metadata": {},
   "outputs": [],
   "source": [
    "regression_model.compile(\n",
    "    optimizer=tf.keras.optimizers.Adam(learning_rate=0.1),\n",
    "    loss='mean_squared_error'\n",
    ")"
   ]
  },
  {
   "cell_type": "code",
   "execution_count": 37,
   "id": "e260d9cf",
   "metadata": {},
   "outputs": [
    {
     "name": "stderr",
     "output_type": "stream",
     "text": [
      "2023-05-09 14:29:42.443500: I tensorflow/core/grappler/optimizers/custom_graph_optimizer_registry.cc:114] Plugin optimizer for device_type GPU is enabled.\n",
      "2023-05-09 14:29:42.661194: I tensorflow/core/grappler/optimizers/custom_graph_optimizer_registry.cc:114] Plugin optimizer for device_type GPU is enabled.\n",
      "\n",
      "KeyboardInterrupt\n",
      "\n"
     ]
    }
   ],
   "source": [
    "%%time\n",
    "history = regression_model.fit(\n",
    "    x,\n",
    "    y,\n",
    "    epochs=1000,\n",
    "    # Suppress logging.\n",
    "    verbose=0,\n",
    "    # Calculate validation results on 20% of the training data.\n",
    "    validation_split = 0.2)"
   ]
  },
  {
   "cell_type": "code",
   "execution_count": 369,
   "id": "2700dbbc",
   "metadata": {},
   "outputs": [
    {
     "data": {
      "image/png": "[encoded data removed]",
      "text/plain": [
       "<Figure size 640x480 with 1 Axes>"
      ]
     },
     "metadata": {},
     "output_type": "display_data"
    }
   ],
   "source": [
    "def plot_loss(history):\n",
    "    plt.figure()\n",
    "    plt.plot(history.history['loss'], label='loss')\n",
    "    plt.plot(history.history['val_loss'], label='val_loss')\n",
    "    plt.xlabel('Epoch')\n",
    "    plt.ylabel('Error')\n",
    "    plt.legend()\n",
    "    plt.grid(True)\n",
    "    plt.show()\n",
    "\n",
    "plot_loss(history)"
   ]
  },
  {
   "cell_type": "code",
   "execution_count": 370,
   "id": "0997fd33",
   "metadata": {},
   "outputs": [
    {
     "name": "stdout",
     "output_type": "stream",
     "text": [
      "1/1 [==============================] - 0s 55ms/step\n"
     ]
    },
    {
     "name": "stderr",
     "output_type": "stream",
     "text": [
      "2023-04-06 14:28:35.511757: I tensorflow/core/grappler/optimizers/custom_graph_optimizer_registry.cc:114] Plugin optimizer for device_type GPU is enabled.\n"
     ]
    },
    {
     "data": {
      "text/plain": [
       "array([[ 6.353011 ],\n",
       "       [ 7.3323555],\n",
       "       [ 8.311697 ],\n",
       "       [ 9.29104  ],\n",
       "       [10.270383 ],\n",
       "       [11.249725 ],\n",
       "       [12.229069 ],\n",
       "       [13.208411 ],\n",
       "       [14.187755 ],\n",
       "       [15.167096 ],\n",
       "       [16.146439 ],\n",
       "       [17.125782 ],\n",
       "       [18.105127 ],\n",
       "       [19.084469 ],\n",
       "       [20.063812 ],\n",
       "       [21.043156 ],\n",
       "       [22.0225   ],\n",
       "       [23.00184  ],\n",
       "       [23.981186 ],\n",
       "       [24.960526 ],\n",
       "       [25.939869 ],\n",
       "       [26.919214 ],\n",
       "       [27.898558 ],\n",
       "       [28.877901 ],\n",
       "       [29.857243 ],\n",
       "       [30.836582 ],\n",
       "       [31.815928 ],\n",
       "       [32.79527  ],\n",
       "       [33.774612 ],\n",
       "       [34.753956 ]], dtype=float32)"
      ]
     },
     "execution_count": 370,
     "metadata": {},
     "output_type": "execute_result"
    }
   ],
   "source": [
    "ys = regression_model.predict(x)\n",
    "ys"
   ]
  },
  {
   "cell_type": "code",
   "execution_count": 371,
   "id": "0f070937",
   "metadata": {},
   "outputs": [
    {
     "data": {
      "image/png": "[encoded data removed]",
      "text/plain": [
       "<Figure size 640x480 with 1 Axes>"
      ]
     },
     "metadata": {},
     "output_type": "display_data"
    }
   ],
   "source": [
    "plt.figure()\n",
    "plt.plot(x, ys)\n",
    "plt.scatter(x, y, color=\"C1\")\n",
    "plt.legend([\"predictions\", \"data\"])\n",
    "plt.show()"
   ]
  },
  {
   "cell_type": "code",
   "execution_count": 372,
   "id": "0b5e6a85",
   "metadata": {},
   "outputs": [
    {
     "data": {
      "text/plain": [
       "array([3.86520803, 0.54816637])"
      ]
     },
     "execution_count": 372,
     "metadata": {},
     "output_type": "execute_result"
    }
   ],
   "source": [
    "popt, pcov = scipy.optimize.curve_fit(lambda x, b0, b1: b0 + b1*x, x, y)\n",
    "popt"
   ]
  },
  {
   "cell_type": "code",
   "execution_count": 373,
   "id": "e63cce15",
   "metadata": {},
   "outputs": [
    {
     "data": {
      "image/png": "[encoded data removed]",
      "text/plain": [
       "<Figure size 640x480 with 1 Axes>"
      ]
     },
     "metadata": {},
     "output_type": "display_data"
    }
   ],
   "source": [
    "y_scipy = x * popt[1] + popt[0]\n",
    "plt.figure()\n",
    "plt.plot(x, ys)\n",
    "plt.scatter(x, y, color=\"C1\")\n",
    "plt.plot(x, y_scipy, color=\"C2\")\n",
    "plt.legend([\"predictions\", \"data\", \"scipy\"])\n",
    "plt.show()"
   ]
  },
  {
   "cell_type": "markdown",
   "id": "b36e44e2-cc92-4d04-8424-1004f920090f",
   "metadata": {},
   "source": [
    "## With functions:"
   ]
  },
  {
   "cell_type": "code",
   "execution_count": 2,
   "id": "cf7982a2-fd2a-49a0-adc4-f12ecb18628a",
   "metadata": {},
   "outputs": [
    {
     "data": {
      "image/png": "[encoded data removed]",
      "text/plain": [
       "<Figure size 640x480 with 1 Axes>"
      ]
     },
     "metadata": {},
     "output_type": "display_data"
    }
   ],
   "source": [
    "x, y = generate_data()\n",
    "plt.figure()\n",
    "plt.scatter(x, y)\n",
    "plt.show()"
   ]
  },
  {
   "cell_type": "code",
   "execution_count": 26,
   "id": "4e1a1ccf-6600-4d5a-9e83-e1cfc9ff46f2",
   "metadata": {},
   "outputs": [
    {
     "name": "stderr",
     "output_type": "stream",
     "text": [
      "2023-05-18 21:10:43.622803: I tensorflow/core/grappler/optimizers/custom_graph_optimizer_registry.cc:114] Plugin optimizer for device_type GPU is enabled.\n",
      "2023-05-18 21:10:43.635889: I tensorflow/core/grappler/optimizers/custom_graph_optimizer_registry.cc:114] Plugin optimizer for device_type GPU is enabled.\n",
      "2023-05-18 21:10:43.804124: I tensorflow/core/grappler/optimizers/custom_graph_optimizer_registry.cc:114] Plugin optimizer for device_type GPU is enabled.\n",
      "2023-05-18 21:10:43.921210: I tensorflow/core/grappler/optimizers/custom_graph_optimizer_registry.cc:114] Plugin optimizer for device_type GPU is enabled.\n"
     ]
    },
    {
     "data": {
      "image/png": "[encoded data removed]",
      "text/plain": [
       "<Figure size 640x480 with 1 Axes>"
      ]
     },
     "metadata": {},
     "output_type": "display_data"
    }
   ],
   "source": [
    "model, history = train_single_node_nn(x, y)\n",
    "plot_loss(history)"
   ]
  },
  {
   "cell_type": "code",
   "execution_count": 4,
   "id": "b5f38a54-5b50-43db-b6af-ed7a7bb1e4ec",
   "metadata": {},
   "outputs": [
    {
     "name": "stdout",
     "output_type": "stream",
     "text": [
      "1/1 [==============================] - 0s 44ms/step\n"
     ]
    },
    {
     "name": "stderr",
     "output_type": "stream",
     "text": [
      "2023-05-18 20:49:56.840886: I tensorflow/core/grappler/optimizers/custom_graph_optimizer_registry.cc:114] Plugin optimizer for device_type GPU is enabled.\n"
     ]
    },
    {
     "data": {
      "image/png": "[encoded data removed]",
      "text/plain": [
       "<Figure size 640x480 with 1 Axes>"
      ]
     },
     "metadata": {},
     "output_type": "display_data"
    }
   ],
   "source": [
    "plot_predictions(model, x, y, [0, 60], [0, 60])"
   ]
  },
  {
   "cell_type": "code",
   "execution_count": 5,
   "id": "ab603f79-43e8-49f6-9444-137d3a05c816",
   "metadata": {},
   "outputs": [
    {
     "name": "stdout",
     "output_type": "stream",
     "text": [
      "1/1 [==============================] - 0s 10ms/step\n"
     ]
    }
   ],
   "source": [
    "# neural network values\n",
    "y_predict = model.predict(x)\n",
    "# scipy values\n",
    "popt, _ = scipy.optimize.curve_fit(lambda x, b0, b1: b0 + b1 * x, x, y)\n",
    "y_scipy = x * popt[1] + popt[0]"
   ]
  },
  {
   "cell_type": "code",
   "execution_count": 6,
   "id": "3cd51d44-089b-4bca-a124-4274bf242814",
   "metadata": {},
   "outputs": [
    {
     "data": {
      "image/png": "[encoded data removed]",
      "text/plain": [
       "<Figure size 640x480 with 1 Axes>"
      ]
     },
     "metadata": {},
     "output_type": "display_data"
    }
   ],
   "source": [
    "input_interval = interval[20, 40]\n",
    "output_interval, _ = propagate_interval(input_interval, model)\n",
    "plot_intervals(input_interval, output_interval, x, y, y_predict, y_scipy)"
   ]
  },
  {
   "cell_type": "code",
   "execution_count": 7,
   "id": "15a2ac1a-2bf9-4e82-9384-cde99674b82d",
   "metadata": {},
   "outputs": [
    {
     "data": {
      "text/plain": [
       "24.145246078318806"
      ]
     },
     "execution_count": 7,
     "metadata": {},
     "output_type": "execute_result"
    }
   ],
   "source": [
    "output_interval[0][0].sup"
   ]
  },
  {
   "cell_type": "markdown",
   "id": "73af56ab-5579-460e-9370-653e7a87fd20",
   "metadata": {},
   "source": [
    "## Safe version"
   ]
  },
  {
   "cell_type": "code",
   "execution_count": 71,
   "id": "f6efc439-bafe-4f45-b56c-74413066190c",
   "metadata": {},
   "outputs": [
    {
     "name": "stderr",
     "output_type": "stream",
     "text": [
      "2023-05-18 21:31:44.746698: I tensorflow/core/grappler/optimizers/custom_graph_optimizer_registry.cc:114] Plugin optimizer for device_type GPU is enabled.\n",
      "2023-05-18 21:31:44.759099: I tensorflow/core/grappler/optimizers/custom_graph_optimizer_registry.cc:114] Plugin optimizer for device_type GPU is enabled.\n"
     ]
    },
    {
     "name": "stdout",
     "output_type": "stream",
     "text": [
      "safe region test FAILED, interval was interval([25.499147810041904, 51.09829846769571])\n",
      "[<tf.Variable 'dense_39/kernel:0' shape=(1, 1) dtype=float32, numpy=array([[1.2799575]], dtype=float32)>, <tf.Variable 'dense_39/bias:0' shape=(1,) dtype=float32, numpy=array([-0.10000285], dtype=float32)>]\n",
      "safe region test FAILED, interval was interval([23.413094848394394, 47.02547964453697])\n",
      "[<tf.Variable 'dense_39/kernel:0' shape=(1, 1) dtype=float32, numpy=array([[1.1806192]], dtype=float32)>, <tf.Variable 'dense_39/bias:0' shape=(1,) dtype=float32, numpy=array([-0.19928995], dtype=float32)>]\n",
      "safe region test FAILED, interval was interval([21.354153513908386, 43.00548589229584])\n",
      "[<tf.Variable 'dense_39/kernel:0' shape=(1, 1) dtype=float32, numpy=array([[1.0825666]], dtype=float32)>, <tf.Variable 'dense_39/bias:0' shape=(1,) dtype=float32, numpy=array([-0.29717886], dtype=float32)>]\n",
      "safe region test FAILED, interval was interval([19.339232712984085, 39.07124188542366])\n",
      "[<tf.Variable 'dense_39/kernel:0' shape=(1, 1) dtype=float32, numpy=array([[0.98660046]], dtype=float32)>, <tf.Variable 'dense_39/bias:0' shape=(1,) dtype=float32, numpy=array([-0.39277646], dtype=float32)>]\n",
      "safe region test FAILED, interval was interval([17.389596194028854, 35.26413628458977])\n",
      "[<tf.Variable 'dense_39/kernel:0' shape=(1, 1) dtype=float32, numpy=array([[0.893727]], dtype=float32)>, <tf.Variable 'dense_39/bias:0' shape=(1,) dtype=float32, numpy=array([-0.4849439], dtype=float32)>]\n",
      "safe region test FAILED, interval was interval([15.531263947486877, 31.6347998380661])\n",
      "[<tf.Variable 'dense_39/kernel:0' shape=(1, 1) dtype=float32, numpy=array([[0.8051768]], dtype=float32)>, <tf.Variable 'dense_39/bias:0' shape=(1,) dtype=float32, numpy=array([-0.57227194], dtype=float32)>]\n",
      "safe region test passed, interval was interval([13.794630408287048, 28.242363572120667])\n",
      "safe region test passed, interval was interval([12.212985396385193, 25.151592135429382])\n",
      "safe region test passed, interval was interval([10.819585978984833, 22.427209079265594])\n",
      "safe region test FAILED, interval was interval([9.64358913898468, 20.126010060310364])\n",
      "[<tf.Variable 'dense_39/kernel:0' shape=(1, 1) dtype=float32, numpy=array([[0.52412105]], dtype=float32)>, <tf.Variable 'dense_39/bias:0' shape=(1,) dtype=float32, numpy=array([-0.8388318], dtype=float32)>]\n",
      "safe region test FAILED, interval was interval([8.70585423707962, 18.288709342479706])\n",
      "[<tf.Variable 'dense_39/kernel:0' shape=(1, 1) dtype=float32, numpy=array([[0.47914276]], dtype=float32)>, <tf.Variable 'dense_39/bias:0' shape=(1,) dtype=float32, numpy=array([-0.87700087], dtype=float32)>]\n",
      "safe region test FAILED, interval was interval([8.016036808490753, 16.93427151441574])\n",
      "[<tf.Variable 'dense_39/kernel:0' shape=(1, 1) dtype=float32, numpy=array([[0.44591174]], dtype=float32)>, <tf.Variable 'dense_39/bias:0' shape=(1,) dtype=float32, numpy=array([-0.9021979], dtype=float32)>]\n",
      "safe region test FAILED, interval was interval([7.571895897388458, 16.05852383375168])\n",
      "[<tf.Variable 'dense_39/kernel:0' shape=(1, 1) dtype=float32, numpy=array([[0.4243314]], dtype=float32)>, <tf.Variable 'dense_39/bias:0' shape=(1,) dtype=float32, numpy=array([-0.91473204], dtype=float32)>]\n",
      "safe region test FAILED, interval was interval([7.360756993293762, 15.636957287788391])\n",
      "[<tf.Variable 'dense_39/kernel:0' shape=(1, 1) dtype=float32, numpy=array([[0.41381]], dtype=float32)>, <tf.Variable 'dense_39/bias:0' shape=(1,) dtype=float32, numpy=array([-0.9154433], dtype=float32)>]\n",
      "safe region test FAILED, interval was interval([7.362184822559357, 15.629895627498627])\n",
      "[<tf.Variable 'dense_39/kernel:0' shape=(1, 1) dtype=float32, numpy=array([[0.41338554]], dtype=float32)>, <tf.Variable 'dense_39/bias:0' shape=(1,) dtype=float32, numpy=array([-0.905526], dtype=float32)>]\n",
      "safe region test FAILED, interval was interval([7.550817370414734, 15.987999677658081])\n",
      "[<tf.Variable 'dense_39/kernel:0' shape=(1, 1) dtype=float32, numpy=array([[0.42185912]], dtype=float32)>, <tf.Variable 'dense_39/bias:0' shape=(1,) dtype=float32, numpy=array([-0.88636494], dtype=float32)>]\n",
      "safe region test FAILED, interval was interval([7.898674428462982, 16.65676575899124])\n",
      "[<tf.Variable 'dense_39/kernel:0' shape=(1, 1) dtype=float32, numpy=array([[0.43790457]], dtype=float32)>, <tf.Variable 'dense_39/bias:0' shape=(1,) dtype=float32, numpy=array([-0.8594169], dtype=float32)>]\n",
      "safe region test FAILED, interval was interval([8.376728892326355, 17.579597234725952])\n",
      "[<tf.Variable 'dense_39/kernel:0' shape=(1, 1) dtype=float32, numpy=array([[0.46014342]], dtype=float32)>, <tf.Variable 'dense_39/bias:0' shape=(1,) dtype=float32, numpy=array([-0.82613945], dtype=float32)>]\n",
      "safe region test FAILED, interval was interval([8.955837726593018, 18.699631929397583])\n",
      "[<tf.Variable 'dense_39/kernel:0' shape=(1, 1) dtype=float32, numpy=array([[0.4871897]], dtype=float32)>, <tf.Variable 'dense_39/bias:0' shape=(1,) dtype=float32, numpy=array([-0.7879565], dtype=float32)>]\n",
      "safe region test FAILED, interval was interval([9.607245564460754, 19.96073567867279])\n",
      "[<tf.Variable 'dense_39/kernel:0' shape=(1, 1) dtype=float32, numpy=array([[0.5176745]], dtype=float32)>, <tf.Variable 'dense_39/bias:0' shape=(1,) dtype=float32, numpy=array([-0.74624455], dtype=float32)>]\n",
      "safe region test passed, interval was interval([10.302877306938171, 21.308083415031433])\n",
      "safe region test passed, interval was interval([11.015597403049469, 22.688673555850983])\n",
      "safe region test passed, interval was interval([11.719552397727966, 24.052003741264343])\n",
      "safe region test passed, interval was interval([12.390654563903809, 25.351020574569702])\n",
      "safe region test passed, interval was interval([13.007201611995697, 26.543334186077118])\n",
      "safe region test passed, interval was interval([13.550578594207764, 27.592591285705566])\n",
      "safe region test passed, interval was interval([14.005932450294495, 28.469793438911438])\n",
      "safe region test passed, interval was interval([14.362711101770401, 29.154348760843277])\n",
      "safe region test passed, interval was interval([14.61496514081955, 29.63465851545334])\n",
      "safe region test passed, interval was interval([14.761372596025467, 29.908162146806717])\n",
      "safe region test passed, interval was interval([14.804981499910355, 29.9808306992054])\n",
      "safe region test passed, interval was interval([14.7527437210083, 29.86625361442566])\n",
      "safe region test passed, interval was interval([14.614902764558792, 29.58444121479988])\n",
      "safe region test passed, interval was interval([14.404311448335648, 29.16049149632454])\n",
      "safe region test passed, interval was interval([14.13573083281517, 28.62322148680687])\n",
      "safe region test passed, interval was interval([13.825141698122025, 28.00382426381111])\n",
      "safe region test passed, interval was interval([13.4890718460083, 27.33455729484558])\n",
      "safe region test passed, interval was interval([13.143946796655655, 26.647476822137833])\n",
      "safe region test passed, interval was interval([12.805464118719101, 25.97321853041649])\n",
      "safe region test passed, interval was interval([12.488001883029938, 25.339844524860382])\n",
      "safe region test passed, interval was interval([12.204080373048782, 24.771793633699417])\n",
      "safe region test passed, interval was interval([11.963909357786179, 24.2889983355999])\n",
      "safe region test passed, interval was interval([11.775046557188034, 23.9062177836895])\n",
      "safe region test passed, interval was interval([11.642194330692291, 23.632640182971954])\n",
      "safe region test passed, interval was interval([11.567148387432098, 23.47178143262863])\n",
      "safe region test passed, interval was interval([11.548894464969635, 23.42167240381241])\n",
      "safe region test passed, interval was interval([11.583844870328903, 23.47531959414482])\n",
      "safe region test passed, interval was interval([11.66617900133133, 23.62136870622635])\n",
      "safe region test passed, interval was interval([11.78827315568924, 23.844943344593048])\n",
      "safe region test passed, interval was interval([11.94118033349514, 24.128581389784813])\n",
      "safe region test passed, interval was interval([12.115143045783043, 24.45323656499386])\n",
      "safe region test passed, interval was interval([12.300105139613152, 24.79927782714367])\n",
      "safe region test passed, interval was interval([12.486217811703682, 25.1474781781435])\n",
      "safe region test passed, interval was interval([12.664303585886955, 25.479920908808708])\n",
      "safe region test passed, interval was interval([12.826267585158348, 25.780803069472313])\n",
      "safe region test passed, interval was interval([12.965435206890106, 26.03709501028061])\n",
      "safe region test passed, interval was interval([13.076798722147942, 26.239021822810173])\n",
      "safe region test passed, interval was interval([13.157171107828617, 26.380363799631596])\n",
      "safe region test passed, interval was interval([13.205225300043821, 26.458532642573118])\n",
      "safe region test passed, interval was interval([13.221440467983484, 26.47446647658944])\n",
      "safe region test passed, interval was interval([13.207950759679079, 26.43233435228467])\n",
      "safe region test passed, interval was interval([13.168312817346305, 26.33908203197643])\n",
      "safe region test passed, interval was interval([13.107216503471136, 26.203867342323065])\n",
      "safe region test passed, interval was interval([13.030151898041368, 26.037410074844956])\n",
      "safe region test passed, interval was interval([12.943054866045713, 25.851300191134214])\n",
      "safe region test passed, interval was interval([12.851948961615562, 25.657298788428307])\n",
      "safe region test passed, interval was interval([12.762609627097845, 25.466682817786932])\n",
      "safe region test passed, interval was interval([12.680258706212044, 25.289648726582527])\n",
      "safe region test passed, interval was interval([12.60931146889925, 25.13481868058443])\n",
      "safe region test passed, interval was interval([12.553185053169727, 25.008866615593433])\n",
      "safe region test passed, interval was interval([12.514172278344631, 24.916271649301052])\n",
      "safe region test passed, interval was interval([12.493392869830132, 24.859222814440727])\n",
      "safe region test passed, interval was interval([12.490816116333008, 24.837663173675537])\n",
      "safe region test passed, interval was interval([12.505343779921532, 24.849451407790184])\n",
      "safe region test passed, interval was interval([12.534956619143486, 24.890647813677788])\n",
      "safe region test passed, interval was interval([12.576900973916054, 24.955878511071205])\n",
      "safe region test passed, interval was interval([12.627911433577538, 25.03877030313015])\n",
      "safe region test passed, interval was interval([12.684441342949867, 25.132400527596474])\n",
      "safe region test passed, interval was interval([12.742898046970367, 25.22975641489029])\n",
      "safe region test passed, interval was interval([12.799867868423462, 25.324174642562866])\n",
      "safe region test passed, interval was interval([12.852307856082916, 25.409715473651886])\n",
      "safe region test passed, interval was interval([12.897708237171173, 25.481480181217194])\n",
      "safe region test passed, interval was interval([12.934206336736679, 25.535833448171616])\n",
      "safe region test passed, interval was interval([12.960654109716415, 25.570535272359848])\n",
      "safe region test passed, interval was interval([12.976634472608566, 25.584772795438766])\n",
      "safe region test passed, interval was interval([12.982431292533875, 25.57910168170929])\n",
      "safe region test passed, interval was interval([12.978956758975983, 25.55530434846878])\n",
      "safe region test passed, interval was interval([12.967646181583405, 25.516184628009796])\n",
      "safe region test passed, interval was interval([12.950321614742279, 25.46530145406723])\n",
      "safe region test passed, interval was interval([12.92904543876648, 25.40668296813965])\n",
      "safe region test passed, interval was interval([12.905966341495514, 25.34452587366104])\n",
      "safe region test passed, interval was interval([12.883171617984772, 25.2829070687294])\n",
      "safe region test passed, interval was interval([12.862553268671036, 25.225522190332413])\n",
      "safe region test passed, interval was interval([12.845697939395905, 25.175470650196075])\n",
      "safe region test passed, interval was interval([12.83380663394928, 25.135099053382874])\n",
      "safe region test passed, interval was interval([12.82764357328415, 25.105901181697845])\n",
      "safe region test passed, interval was interval([12.82751876115799, 25.08848387002945])\n",
      "safe region test passed, interval was interval([12.833304107189178, 25.082598626613617])\n",
      "safe region test passed, interval was interval([12.844476163387299, 25.087224900722504])\n",
      "safe region test passed, interval was interval([12.860186040401459, 25.10070675611496])\n"
     ]
    },
    {
     "data": {
      "image/png": "[encoded data removed]",
      "text/plain": [
       "<Figure size 640x480 with 1 Axes>"
      ]
     },
     "metadata": {},
     "output_type": "display_data"
    }
   ],
   "source": [
    "model, history = train_safe_single_node_nn(x, y)\n",
    "plot_loss(history)"
   ]
  },
  {
   "cell_type": "code",
   "execution_count": 70,
   "id": "0df905dc-82da-4698-a7ee-96cf5b4c5a0d",
   "metadata": {},
   "outputs": [
    {
     "data": {
      "text/plain": [
       "['input_18', 'normalization_19', 'dense_38', 'dense_37']"
      ]
     },
     "execution_count": 70,
     "metadata": {},
     "output_type": "execute_result"
    }
   ],
   "source": [
    "[layer.get_config()[\"name\"] for layer in model.layers]"
   ]
  },
  {
   "cell_type": "code",
   "execution_count": 53,
   "id": "23ced55d-baa7-4fad-aad7-304b20f7745f",
   "metadata": {},
   "outputs": [
    {
     "data": {
      "text/plain": [
       "(30,)"
      ]
     },
     "execution_count": 58,
     "metadata": {},
     "output_type": "execute_result"
    }
   ],
   "source": [
    "x.shape"
   ]
  },
  {
   "cell_type": "code",
   "execution_count": 61,
   "id": "4d948a06-e32c-4b6b-a156-d59ae7295801",
   "metadata": {},
   "outputs": [
    {
     "name": "stdout",
     "output_type": "stream",
     "text": [
      "1/1 [==============================] - 0s 11ms/step\n"
     ]
    },
    {
     "data": {
      "text/plain": [
       "array([[ 6.509815 ],\n",
       "       [ 7.3775177],\n",
       "       [ 8.245217 ],\n",
       "       [ 9.11292  ],\n",
       "       [ 9.98062  ],\n",
       "       [10.848322 ],\n",
       "       [11.716023 ],\n",
       "       [12.583725 ],\n",
       "       [13.4514265],\n",
       "       [14.319126 ],\n",
       "       [15.186828 ],\n",
       "       [16.05453  ],\n",
       "       [16.922232 ],\n",
       "       [17.789932 ],\n",
       "       [18.657633 ],\n",
       "       [19.525333 ],\n",
       "       [20.393034 ],\n",
       "       [21.260736 ],\n",
       "       [22.128435 ],\n",
       "       [22.996138 ],\n",
       "       [23.86384  ],\n",
       "       [24.73154  ],\n",
       "       [25.599241 ],\n",
       "       [26.466944 ],\n",
       "       [27.334644 ],\n",
       "       [28.202343 ],\n",
       "       [29.070047 ],\n",
       "       [29.937746 ],\n",
       "       [30.80545  ],\n",
       "       [31.673151 ]], dtype=float32)"
      ]
     },
     "execution_count": 61,
     "metadata": {},
     "output_type": "execute_result"
    }
   ],
   "source": [
    "model.predict(x)"
   ]
  },
  {
   "cell_type": "code",
   "execution_count": 62,
   "id": "54ddf040-81b6-48be-b140-9b20a8d46fa4",
   "metadata": {},
   "outputs": [
    {
     "name": "stdout",
     "output_type": "stream",
     "text": [
      "1/1 [==============================] - 0s 12ms/step\n"
     ]
    },
    {
     "data": {
      "image/png": "[encoded data removed]",
      "text/plain": [
       "<Figure size 640x480 with 1 Axes>"
      ]
     },
     "metadata": {},
     "output_type": "display_data"
    }
   ],
   "source": [
    "plot_predictions(model, x, y, [0, 60], [0, 60])"
   ]
  },
  {
   "cell_type": "code",
   "execution_count": 63,
   "id": "859bea77-ce16-4a4e-bbcb-56630f8e6c88",
   "metadata": {},
   "outputs": [
    {
     "name": "stdout",
     "output_type": "stream",
     "text": [
      "1/1 [==============================] - 0s 11ms/step\n"
     ]
    },
    {
     "data": {
      "image/png": "[encoded data removed]",
      "text/plain": [
       "<Figure size 640x480 with 1 Axes>"
      ]
     },
     "metadata": {},
     "output_type": "display_data"
    }
   ],
   "source": [
    "# neural network values\n",
    "y_predict = model.predict(x)\n",
    "# scipy values\n",
    "popt, _ = scipy.optimize.curve_fit(lambda x, b0, b1: b0 + b1 * x, x, y)\n",
    "y_scipy = x * popt[1] + popt[0]\n",
    "\n",
    "input_interval = interval[20, 40]\n",
    "output_interval, _ = propagate_interval(input_interval, model)\n",
    "plot_intervals(input_interval, output_interval, x, y, y_predict, y_scipy)"
   ]
  },
  {
   "cell_type": "code",
   "execution_count": 64,
   "id": "05397b43-d3de-4d37-ac74-829e3654898e",
   "metadata": {},
   "outputs": [
    {
     "data": {
      "text/plain": [
       "True"
      ]
     },
     "execution_count": 64,
     "metadata": {},
     "output_type": "execute_result"
    }
   ],
   "source": [
    "output_interval[0] in interval[10, 30]"
   ]
  },
  {
   "cell_type": "code",
   "execution_count": 65,
   "id": "6829d8bc-0ff2-4c81-8b22-d38444c569b9",
   "metadata": {},
   "outputs": [
    {
     "data": {
      "text/plain": [
       "interval([15.0, 25.0])"
      ]
     },
     "execution_count": 65,
     "metadata": {},
     "output_type": "execute_result"
    }
   ],
   "source": [
    "input_interval * 0.5 + 5"
   ]
  },
  {
   "cell_type": "markdown",
   "id": "ee8fe04a-4939-4926-ba70-63e121bfc5a1",
   "metadata": {},
   "source": [
    "## Projection experiments"
   ]
  },
  {
   "cell_type": "code",
   "execution_count": 119,
   "id": "236ddb3c-00f9-4af3-a544-4c6b97efd72a",
   "metadata": {},
   "outputs": [
    {
     "data": {
      "text/plain": [
       "interval([9.71185741, 19.23788941])"
      ]
     },
     "execution_count": 119,
     "metadata": {},
     "output_type": "execute_result"
    }
   ],
   "source": [
    "# output_interval = interval[9.711857616901398, 19.23788982629776]\n",
    "weight = 0.4763016\n",
    "bias= 0.18582541\n",
    "input_interval = interval[20, 40]\n",
    "input_interval * weight + bias\n",
    "\n",
    "# goal interval: [10, 30]"
   ]
  },
  {
   "cell_type": "markdown",
   "id": "8ba778d7-b2c1-46db-aa5c-0c82edc792eb",
   "metadata": {},
   "source": [
    "## Custom loop: tiny network"
   ]
  },
  {
   "cell_type": "code",
   "execution_count": 7,
   "id": "6610eb18-2ff8-4240-8ab1-565faea1f760",
   "metadata": {},
   "outputs": [
    {
     "name": "stderr",
     "output_type": "stream",
     "text": [
      "2023-06-22 14:53:05.975525: I tensorflow/core/grappler/optimizers/custom_graph_optimizer_registry.cc:114] Plugin optimizer for device_type GPU is enabled.\n",
      "2023-06-22 14:53:05.989623: I tensorflow/core/grappler/optimizers/custom_graph_optimizer_registry.cc:114] Plugin optimizer for device_type GPU is enabled.\n"
     ]
    },
    {
     "name": "stdout",
     "output_type": "stream",
     "text": [
      "\n",
      "Start of epoch 0\n",
      "safe region test FAILED, interval was interval([18.33298436552286, 36.76596871763468])\n",
      "[<tf.Variable 'dense_5/kernel:0' shape=(1, 1) dtype=float32, numpy=array([[0.9216492]], dtype=float32)>, <tf.Variable 'dense_5/bias:0' shape=(1,) dtype=float32, numpy=array([-0.09999999], dtype=float32)>]\n",
      "\n",
      "Start of epoch 1\n",
      "safe region test FAILED, interval was interval([16.261545941233635, 32.720745131373405])\n",
      "[<tf.Variable 'dense_5/kernel:0' shape=(1, 1) dtype=float32, numpy=array([[0.82295996]], dtype=float32)>, <tf.Variable 'dense_5/bias:0' shape=(1,) dtype=float32, numpy=array([-0.19765325], dtype=float32)>]\n",
      "\n",
      "Start of epoch 2\n",
      "safe region test passed, interval was interval([14.251788258552551, 28.79323422908783])\n",
      "\n",
      "Start of epoch 3\n",
      "safe region test passed, interval was interval([12.352274239063263, 25.07511216402054])\n",
      "\n",
      "Start of epoch 4\n",
      "safe region test passed, interval was interval([10.628067910671234, 21.689092576503754])\n",
      "\n",
      "Start of epoch 5\n",
      "safe region test FAILED, interval was interval([9.15331318974495, 18.77671256661415])\n",
      "[<tf.Variable 'dense_5/kernel:0' shape=(1, 1) dtype=float32, numpy=array([[0.48116997]], dtype=float32)>, <tf.Variable 'dense_5/bias:0' shape=(1,) dtype=float32, numpy=array([-0.4700862], dtype=float32)>]\n",
      "\n",
      "Start of epoch 6\n",
      "safe region test FAILED, interval was interval([7.993286460638046, 16.46634003520012])\n",
      "[<tf.Variable 'dense_5/kernel:0' shape=(1, 1) dtype=float32, numpy=array([[0.42365268]], dtype=float32)>, <tf.Variable 'dense_5/bias:0' shape=(1,) dtype=float32, numpy=array([-0.4797671], dtype=float32)>]\n",
      "\n",
      "Start of epoch 7\n",
      "safe region test FAILED, interval was interval([7.185308337211609, 14.83551800251007])\n",
      "[<tf.Variable 'dense_5/kernel:0' shape=(1, 1) dtype=float32, numpy=array([[0.38251048]], dtype=float32)>, <tf.Variable 'dense_5/bias:0' shape=(1,) dtype=float32, numpy=array([-0.46490133], dtype=float32)>]\n",
      "\n",
      "Start of epoch 8\n",
      "safe region test FAILED, interval was interval([6.730720162391663, 13.891980409622192])\n",
      "[<tf.Variable 'dense_5/kernel:0' shape=(1, 1) dtype=float32, numpy=array([[0.358063]], dtype=float32)>, <tf.Variable 'dense_5/bias:0' shape=(1,) dtype=float32, numpy=array([-0.43054008], dtype=float32)>]\n",
      "\n",
      "Start of epoch 9\n",
      "safe region test FAILED, interval was interval([6.600793749094009, 13.58304277062416])\n",
      "[<tf.Variable 'dense_5/kernel:0' shape=(1, 1) dtype=float32, numpy=array([[0.34911245]], dtype=float32)>, <tf.Variable 'dense_5/bias:0' shape=(1,) dtype=float32, numpy=array([-0.38145527], dtype=float32)>]\n",
      "\n",
      "Start of epoch 10\n",
      "safe region test FAILED, interval was interval([6.7494620978832245, 13.820326536893845])\n",
      "[<tf.Variable 'dense_5/kernel:0' shape=(1, 1) dtype=float32, numpy=array([[0.35354322]], dtype=float32)>, <tf.Variable 'dense_5/bias:0' shape=(1,) dtype=float32, numpy=array([-0.32140234], dtype=float32)>]\n",
      "\n",
      "Start of epoch 11\n",
      "safe region test FAILED, interval was interval([7.124429285526276, 14.502079427242279])\n",
      "[<tf.Variable 'dense_5/kernel:0' shape=(1, 1) dtype=float32, numpy=array([[0.3688825]], dtype=float32)>, <tf.Variable 'dense_5/bias:0' shape=(1,) dtype=float32, numpy=array([-0.25322086], dtype=float32)>]\n",
      "\n",
      "Start of epoch 12\n",
      "safe region test FAILED, interval was interval([7.673378810286522, 15.525871142745018])\n",
      "[<tf.Variable 'dense_5/kernel:0' shape=(1, 1) dtype=float32, numpy=array([[0.39262462]], dtype=float32)>, <tf.Variable 'dense_5/bias:0' shape=(1,) dtype=float32, numpy=array([-0.17911352], dtype=float32)>]\n",
      "\n",
      "Start of epoch 13\n",
      "safe region test FAILED, interval was interval([8.346196874976158, 16.793277129530907])\n",
      "[<tf.Variable 'dense_5/kernel:0' shape=(1, 1) dtype=float32, numpy=array([[0.422354]], dtype=float32)>, <tf.Variable 'dense_5/bias:0' shape=(1,) dtype=float32, numpy=array([-0.10088338], dtype=float32)>]\n",
      "\n",
      "Start of epoch 14\n",
      "safe region test FAILED, interval was interval([9.09515168517828, 18.210400603711605])\n",
      "[<tf.Variable 'dense_5/kernel:0' shape=(1, 1) dtype=float32, numpy=array([[0.45576245]], dtype=float32)>, <tf.Variable 'dense_5/bias:0' shape=(1,) dtype=float32, numpy=array([-0.02009723], dtype=float32)>]\n",
      "Restarting training from last known safe set of weights, as unsafe epoch tolerance 10 was reached. Weights are [array([[0.55305123]], dtype=float32), array([-0.43295676], dtype=float32)]\n",
      "\n",
      "Start of epoch 15\n",
      "safe region test passed, interval was interval([11.30842512845993, 22.97078913450241])\n",
      "\n",
      "Start of epoch 16\n",
      "safe region test passed, interval was interval([11.888161718845367, 24.054053843021393])\n",
      "\n",
      "Start of epoch 17\n",
      "safe region test passed, interval was interval([12.343116730451584, 24.891395300626755])\n",
      "\n",
      "Start of epoch 18\n",
      "safe region test passed, interval was interval([12.658605694770813, 25.454003930091858])\n",
      "\n",
      "Start of epoch 19\n",
      "safe region test passed, interval was interval([12.829971641302109, 25.732809633016586])\n",
      "\n",
      "Start of epoch 20\n",
      "safe region test passed, interval was interval([12.861976813524961, 25.737250041216612])\n",
      "\n",
      "Start of epoch 21\n",
      "safe region test passed, interval was interval([12.767348818480968, 25.492379002273083])\n",
      "\n",
      "Start of epoch 22\n",
      "safe region test passed, interval was interval([12.564978584647179, 25.035306200385094])\n",
      "\n",
      "Start of epoch 23\n",
      "safe region test passed, interval was interval([12.278129428625107, 24.411677688360214])\n",
      "\n",
      "Start of epoch 24\n",
      "safe region test passed, interval was interval([11.932839035987854, 23.672553181648254])\n",
      "\n",
      "Start of epoch 25\n",
      "safe region test passed, interval was interval([11.556469291448593, 22.871584981679916])\n",
      "\n",
      "Start of epoch 26\n",
      "safe region test passed, interval was interval([11.176324337720871, 22.062334269285202])\n",
      "\n",
      "Start of epoch 27\n",
      "safe region test passed, interval was interval([10.818236351013184, 21.295518159866333])\n",
      "\n",
      "Start of epoch 28\n",
      "safe region test passed, interval was interval([10.505131602287292, 20.61620604991913])\n",
      "\n",
      "Start of epoch 29\n",
      "safe region test passed, interval was interval([10.255680799484253, 20.061166405677795])\n",
      "\n",
      "Start of epoch 30\n",
      "safe region test passed, interval was interval([10.083197116851807, 19.656685948371887])\n",
      "\n",
      "Start of epoch 31\n",
      "safe region test FAILED, interval was interval([9.994963526725769, 19.417224049568176])\n",
      "[<tf.Variable 'dense_5/kernel:0' shape=(1, 1) dtype=float32, numpy=array([[0.47111303]], dtype=float32)>, <tf.Variable 'dense_5/bias:0' shape=(1,) dtype=float32, numpy=array([0.572703], dtype=float32)>]\n",
      "\n",
      "Start of epoch 32\n",
      "safe region test FAILED, interval was interval([9.992076575756073, 19.34508067369461])\n",
      "[<tf.Variable 'dense_5/kernel:0' shape=(1, 1) dtype=float32, numpy=array([[0.4676502]], dtype=float32)>, <tf.Variable 'dense_5/bias:0' shape=(1,) dtype=float32, numpy=array([0.6390725], dtype=float32)>]\n",
      "\n",
      "Start of epoch 33\n",
      "safe region test passed, interval was interval([10.069799184799194, 19.43107044696808])\n",
      "\n",
      "Start of epoch 34\n",
      "safe region test passed, interval was interval([10.218322098255157, 19.65600711107254])\n",
      "\n",
      "Start of epoch 35\n",
      "safe region test passed, interval was interval([10.423799872398376, 19.992736101150513])\n",
      "\n",
      "Start of epoch 36\n",
      "safe region test passed, interval was interval([10.669549822807312, 20.408493399620056])\n",
      "\n",
      "Start of epoch 37\n",
      "safe region test passed, interval was interval([10.937327980995178, 20.867420077323914])\n",
      "\n",
      "Start of epoch 38\n",
      "safe region test passed, interval was interval([11.208630084991455, 21.33312749862671])\n",
      "\n",
      "Start of epoch 39\n",
      "safe region test passed, interval was interval([11.465964555740356, 21.7712082862854])\n"
     ]
    }
   ],
   "source": [
    "model = safe_training_loop()"
   ]
  },
  {
   "cell_type": "code",
   "execution_count": 8,
   "id": "0b005ff5-99cd-4d8d-995e-e23caee52b22",
   "metadata": {},
   "outputs": [
    {
     "data": {
      "text/plain": [
       "[array([[0.5152622]], dtype=float32), array([1.1607208], dtype=float32)]"
      ]
     },
     "execution_count": 8,
     "metadata": {},
     "output_type": "execute_result"
    }
   ],
   "source": [
    "model.get_weights()"
   ]
  },
  {
   "cell_type": "markdown",
   "id": "9e0eb5a0-1775-46b0-9a79-cdd429f553ee",
   "metadata": {},
   "source": [
    "## Custom loop: quadratic, 64x3 nn"
   ]
  },
  {
   "cell_type": "code",
   "execution_count": 118,
   "id": "7863a22b-a4d8-4bc2-9e37-d75649438f03",
   "metadata": {},
   "outputs": [
    {
     "name": "stderr",
     "output_type": "stream",
     "text": [
      "2023-06-06 14:50:08.176829: I tensorflow/core/grappler/optimizers/custom_graph_optimizer_registry.cc:114] Plugin optimizer for device_type GPU is enabled.\n",
      "2023-06-06 14:50:08.188923: I tensorflow/core/grappler/optimizers/custom_graph_optimizer_registry.cc:114] Plugin optimizer for device_type GPU is enabled.\n"
     ]
    },
    {
     "name": "stdout",
     "output_type": "stream",
     "text": [
      "\n",
      "Start of epoch 0\n",
      "safe region test FAILED, interval was interval([3.507748066559332, 8.229931463254735])\n",
      "\n",
      "Start of epoch 1\n",
      "safe region test passed, interval was interval([33.09032688319947, 51.833776216988824])\n",
      "\n",
      "Start of epoch 2\n",
      "safe region test passed, interval was interval([44.23737606142403, 63.10064879586718])\n",
      "\n",
      "Start of epoch 3\n",
      "safe region test passed, interval was interval([16.639538404760735, 22.99917466618561])\n",
      "\n",
      "Start of epoch 4\n",
      "safe region test FAILED, interval was interval([9.08461638015407, 12.477438214469528])\n",
      "\n",
      "Start of epoch 5\n",
      "safe region test FAILED, interval was interval([7.088237916310565, 9.884547252235594])\n",
      "\n",
      "Start of epoch 6\n",
      "safe region test FAILED, interval was interval([7.357895064764641, 10.003559805863542])\n",
      "\n",
      "Start of epoch 7\n",
      "safe region test FAILED, interval was interval([9.06728367288229, 12.036206916117031])\n",
      "\n",
      "Start of epoch 8\n",
      "safe region test FAILED, interval was interval([12.680077987353748, 16.557488958806413])\n",
      "\n",
      "Start of epoch 9\n",
      "safe region test passed, interval was interval([19.744588383638096, 25.089676513098595])\n",
      "\n",
      "Start of epoch 10\n",
      "safe region test passed, interval was interval([31.961256916303434, 40.2122383662928])\n",
      "\n",
      "Start of epoch 11\n",
      "safe region test passed, interval was interval([49.79329745154298, 61.32641292148989])\n",
      "\n",
      "Start of epoch 12\n",
      "safe region test passed, interval was interval([56.16523849878995, 67.93456983279931])\n",
      "\n",
      "Start of epoch 13\n",
      "safe region test passed, interval was interval([44.799969715183394, 52.78601645336614])\n",
      "\n",
      "Start of epoch 14\n",
      "safe region test passed, interval was interval([33.21376303934844, 38.616481573532724])\n",
      "\n",
      "Start of epoch 15\n",
      "safe region test passed, interval was interval([26.32377330614944, 31.27999657847688])\n",
      "\n",
      "Start of epoch 16\n",
      "safe region test passed, interval was interval([24.309364765003014, 29.099872797836564])\n",
      "\n",
      "Start of epoch 17\n",
      "safe region test passed, interval was interval([25.606682363521745, 30.67949462071788])\n",
      "\n",
      "Start of epoch 18\n",
      "safe region test passed, interval was interval([29.130550968106352, 34.60619956222111])\n",
      "\n",
      "Start of epoch 19\n",
      "safe region test passed, interval was interval([31.705448544510645, 37.78104007700444])\n",
      "\n",
      "Start of epoch 20\n",
      "safe region test passed, interval was interval([29.736164174996055, 36.16022386391476])\n",
      "\n",
      "Start of epoch 21\n",
      "safe region test passed, interval was interval([25.82428334016899, 32.10471067048353])\n",
      "\n",
      "Start of epoch 22\n",
      "safe region test passed, interval was interval([23.07115703482593, 29.285474793996315])\n",
      "\n",
      "Start of epoch 23\n",
      "safe region test passed, interval was interval([22.980664969018456, 29.626453534794535])\n",
      "\n",
      "Start of epoch 24\n",
      "safe region test passed, interval was interval([26.256020615729078, 33.61490696642057])\n",
      "\n",
      "Start of epoch 25\n",
      "safe region test passed, interval was interval([31.926804081221306, 40.415419099658784])\n",
      "\n",
      "Start of epoch 26\n",
      "safe region test passed, interval was interval([35.989206678329204, 45.23641959265197])\n",
      "\n",
      "Start of epoch 27\n",
      "safe region test passed, interval was interval([34.162777532157, 42.939496645788985])\n",
      "\n",
      "Start of epoch 28\n",
      "safe region test passed, interval was interval([29.829166779024703, 37.658188270757975])\n",
      "\n",
      "Start of epoch 29\n",
      "safe region test passed, interval was interval([27.432708036139548, 34.75010810718948])\n",
      "\n",
      "Start of epoch 30\n",
      "safe region test passed, interval was interval([28.590445025770798, 35.999397994550336])\n",
      "\n",
      "Start of epoch 31\n",
      "safe region test passed, interval was interval([32.25153609764038, 40.152176063855975])\n",
      "\n",
      "Start of epoch 32\n",
      "safe region test passed, interval was interval([35.061292752821714, 43.342538950960204])\n",
      "\n",
      "Start of epoch 33\n",
      "safe region test passed, interval was interval([33.930622739068234, 41.89820748106273])\n",
      "\n",
      "Start of epoch 34\n",
      "safe region test passed, interval was interval([30.377359926312376, 37.676403561590064])\n",
      "\n",
      "Start of epoch 35\n",
      "safe region test passed, interval was interval([27.92670119284807, 34.78099729068268])\n",
      "\n",
      "Start of epoch 36\n",
      "safe region test passed, interval was interval([28.203555513415676, 35.04156105073623])\n",
      "\n",
      "Start of epoch 37\n",
      "safe region test passed, interval was interval([30.523147268904957, 37.65908672160255])\n",
      "\n",
      "Start of epoch 38\n",
      "safe region test passed, interval was interval([32.54015613718082, 39.92624022194103])\n",
      "\n",
      "Start of epoch 39\n",
      "safe region test passed, interval was interval([32.03628235483844, 39.28472878220944])\n"
     ]
    },
    {
     "data": {
      "text/plain": [
       "<keras.engine.functional.Functional at 0x513080850>"
      ]
     },
     "execution_count": 118,
     "metadata": {},
     "output_type": "execute_result"
    }
   ],
   "source": [
    "safe_training_loop_large_network()"
   ]
  },
  {
   "cell_type": "markdown",
   "id": "9acd15f5",
   "metadata": {},
   "source": [
    "## Viewing weights"
   ]
  },
  {
   "cell_type": "code",
   "execution_count": 199,
   "id": "a8e2f643",
   "metadata": {},
   "outputs": [
    {
     "name": "stdout",
     "output_type": "stream",
     "text": [
      "{'name': 'normalization_5', 'trainable': True, 'batch_input_shape': (None, 1), 'dtype': 'float32', 'axis': (), 'mean': None, 'variance': None}\n",
      "[30.000002, 222.70117, 30]\n",
      "{'name': 'dense_8', 'trainable': True, 'dtype': 'float32', 'units': 1, 'activation': 'linear', 'use_bias': True, 'kernel_initializer': {'class_name': 'GlorotUniform', 'config': {'seed': None}}, 'bias_initializer': {'class_name': 'Zeros', 'config': {}}, 'kernel_regularizer': None, 'bias_regularizer': None, 'activity_regularizer': None, 'kernel_constraint': None, 'bias_constraint': None}\n",
      "[array([[1.3976517]], dtype=float32), array([1.6543617], dtype=float32)]\n",
      "{'name': 'dense_9', 'trainable': True, 'dtype': 'float32', 'units': 2, 'activation': 'linear', 'use_bias': True, 'kernel_initializer': {'class_name': 'GlorotUniform', 'config': {'seed': None}}, 'bias_initializer': {'class_name': 'Zeros', 'config': {}}, 'kernel_regularizer': None, 'bias_regularizer': None, 'activity_regularizer': None, 'kernel_constraint': None, 'bias_constraint': None}\n",
      "[array([[-0.20082377,  2.231667  ]], dtype=float32), array([-2.0730622,  2.1335998], dtype=float32)]\n",
      "{'name': 'dense_10', 'trainable': True, 'dtype': 'float32', 'units': 1, 'activation': 'linear', 'use_bias': True, 'kernel_initializer': {'class_name': 'GlorotUniform', 'config': {'seed': None}}, 'bias_initializer': {'class_name': 'Zeros', 'config': {}}, 'kernel_regularizer': None, 'bias_regularizer': None, 'activity_regularizer': None, 'kernel_constraint': None, 'bias_constraint': None}\n",
      "[array([[-1.7784145],\n",
      "       [ 2.2886565]], dtype=float32), array([2.1636846], dtype=float32)]\n"
     ]
    }
   ],
   "source": [
    "for layer in regression_model.layers: print(layer.get_config()); print(layer.get_weights())"
   ]
  },
  {
   "cell_type": "markdown",
   "id": "9a71299d",
   "metadata": {},
   "source": [
    "## Interval arithmetic"
   ]
  },
  {
   "cell_type": "code",
   "execution_count": 261,
   "id": "22bf7340",
   "metadata": {},
   "outputs": [
    {
     "data": {
      "text/plain": [
       "interval([10.0, 40.0])"
      ]
     },
     "execution_count": 261,
     "metadata": {},
     "output_type": "execute_result"
    }
   ],
   "source": [
    "input_interval = interval[10, 40]\n",
    "input_interval"
   ]
  },
  {
   "cell_type": "code",
   "execution_count": 279,
   "id": "5213080e-7bf6-4fb4-86fd-ddef32f77d7f",
   "metadata": {},
   "outputs": [
    {
     "data": {
      "text/plain": [
       "interval([-1.3401974324779955, 0.6700985245222355])"
      ]
     },
     "execution_count": 279,
     "metadata": {},
     "output_type": "execute_result"
    }
   ],
   "source": [
    "norm_interval = (input_interval - norm_mean) / norm_std\n",
    "norm_interval"
   ]
  },
  {
   "cell_type": "code",
   "execution_count": 288,
   "id": "760ae8d3-0c09-4861-adc6-067df895abff",
   "metadata": {},
   "outputs": [
    {
     "data": {
      "text/plain": [
       "array([[1.2399263 , 5.45611963]])"
      ]
     },
     "execution_count": 288,
     "metadata": {},
     "output_type": "execute_result"
    }
   ],
   "source": [
    "weight, bias = model.layers[1].get_weights()\n",
    "output_interval = weight[0, 0] * norm_interval + bias[0]\n",
    "output_interval"
   ]
  },
  {
   "cell_type": "code",
   "execution_count": 266,
   "id": "c6f51f17-bcec-4412-aa63-0f995fedbb29",
   "metadata": {},
   "outputs": [],
   "source": [
    "weight2, bias2 = model.layers[2].get_weights()\n",
    "output_interval *= weight2\n",
    "output_interval += bias2"
   ]
  },
  {
   "cell_type": "code",
   "execution_count": 130,
   "id": "b360e76f-dd8a-453f-880f-2d215184b000",
   "metadata": {},
   "outputs": [
    {
     "data": {
      "image/png": "[encoded data removed]",
      "text/plain": [
       "<Figure size 640x480 with 1 Axes>"
      ]
     },
     "metadata": {},
     "output_type": "display_data"
    }
   ],
   "source": [
    "fig = plt.figure()\n",
    "ax = fig.gca()\n",
    "\n",
    "input_width = input_interval[0].sup - input_interval[0].inf\n",
    "output_width = output_interval[0][1] - output_interval[0][0]\n",
    "interval_rect = matplotlib.patches.Rectangle((input_interval[0].inf, output_interval[0][0]), input_width, output_width)\n",
    "ax.add_collection(matplotlib.collections.PatchCollection([interval_rect], facecolor='k', alpha=0.1, edgecolor='k'))\n",
    "ax.set_xlim([0, 50])\n",
    "ax.set_ylim([0, 50])\n",
    "\n",
    "plt.plot(x, ys)\n",
    "plt.plot(x, y_scipy, color=\"C1\")\n",
    "plt.scatter(x, y, color=\"C2\")\n",
    "plt.legend([\"NN\", \"OLS\", \"data\"])\n",
    "plt.show()"
   ]
  },
  {
   "cell_type": "code",
   "execution_count": null,
   "id": "86b42240-77f6-4b24-850a-7717e6a3b19a",
   "metadata": {},
   "outputs": [],
   "source": []
  },
  {
   "cell_type": "code",
   "execution_count": 97,
   "id": "1e84ad4e-35e8-4d66-8259-50daeca89ccc",
   "metadata": {},
   "outputs": [
    {
     "name": "stdout",
     "output_type": "stream",
     "text": [
      "Epoch 1/5\n"
     ]
    },
    {
     "name": "stderr",
     "output_type": "stream",
     "text": [
      "2023-04-02 19:15:13.930749: I tensorflow/core/grappler/optimizers/custom_graph_optimizer_registry.cc:114] Plugin optimizer for device_type GPU is enabled.\n"
     ]
    },
    {
     "name": "stdout",
     "output_type": "stream",
     "text": [
      "782/782 [==============================] - 69s 83ms/step - loss: 4.8316 - accuracy: 0.0631\n",
      "Epoch 2/5\n",
      "782/782 [==============================] - 62s 79ms/step - loss: 4.2200 - accuracy: 0.1010\n",
      "Epoch 3/5\n",
      "782/782 [==============================] - 62s 79ms/step - loss: 3.9156 - accuracy: 0.1314\n",
      "Epoch 4/5\n",
      "782/782 [==============================] - 62s 79ms/step - loss: 3.5639 - accuracy: 0.1886\n",
      "Epoch 5/5\n",
      "782/782 [==============================] - 63s 80ms/step - loss: 3.6209 - accuracy: 0.1895\n"
     ]
    },
    {
     "data": {
      "text/plain": [
       "<keras.callbacks.History at 0x30f9e7b20>"
      ]
     },
     "execution_count": 97,
     "metadata": {},
     "output_type": "execute_result"
    }
   ],
   "source": [
    "# import tensorflow as tf\n",
    "# from tensorflow.keras.optimizers.legacy import Adam\n",
    "\n",
    "# cifar = tf.keras.datasets.cifar100\n",
    "# (x_train, y_train), (x_test, y_test) = cifar.load_data()\n",
    "# model = tf.keras.applications.ResNet50(\n",
    "#     include_top=True,\n",
    "#     weights=None,\n",
    "#     input_shape=(32, 32, 3),\n",
    "#     classes=100,)\n",
    "\n",
    "# loss_fn = tf.keras.losses.SparseCategoricalCrossentropy(from_logits=True)\n",
    "# # Instantiate legacy Adam optimizer\n",
    "# model.compile(optimizer=Adam(), loss=loss_fn, metrics=[\"accuracy\"])\n",
    "# model.fit(x_train, y_train, epochs=5, batch_size=64)\n"
   ]
  },
  {
   "cell_type": "markdown",
   "id": "fa18aeff-a464-4ba3-a8f5-88222eca376b",
   "metadata": {},
   "source": [
    "## Multi-node"
   ]
  },
  {
   "cell_type": "code",
   "execution_count": 374,
   "id": "5b606edf-023c-44f1-b13c-d2a9c2f79939",
   "metadata": {},
   "outputs": [
    {
     "data": {
      "text/plain": [
       "interval([10.0, 40.0])"
      ]
     },
     "execution_count": 374,
     "metadata": {},
     "output_type": "execute_result"
    }
   ],
   "source": [
    "input_interval = interval[10, 40]\n",
    "input_interval"
   ]
  },
  {
   "cell_type": "code",
   "execution_count": 375,
   "id": "328dea3b-40ff-4fca-a275-be96564b6646",
   "metadata": {},
   "outputs": [
    {
     "data": {
      "text/plain": [
       "[interval([6.005117461103091, 29.421660062525902])]"
      ]
     },
     "execution_count": 375,
     "metadata": {},
     "output_type": "execute_result"
    }
   ],
   "source": [
    "# testing with utility\n",
    "propagate_interval(input_interval, regression_model)"
   ]
  },
  {
   "cell_type": "code",
   "execution_count": 376,
   "id": "347a4ceb-009b-406a-979d-cd8082f33674",
   "metadata": {},
   "outputs": [],
   "source": [
    "norm_mean, norm_var, norm_n = regression_model.layers[0].get_weights()\n",
    "norm_std = np.sqrt(norm_var)"
   ]
  },
  {
   "cell_type": "code",
   "execution_count": 377,
   "id": "bdf26c4c-22cf-4920-b92d-c8fdc95fc4c8",
   "metadata": {},
   "outputs": [
    {
     "data": {
      "text/plain": [
       "interval([-1.3401974324779955, 0.6700985245222355])"
      ]
     },
     "execution_count": 377,
     "metadata": {},
     "output_type": "execute_result"
    }
   ],
   "source": [
    "norm_interval = (input_interval - norm_mean) / norm_std\n",
    "norm_interval"
   ]
  },
  {
   "cell_type": "code",
   "execution_count": 378,
   "id": "da633f5c-5700-49e0-bf99-e27c4eeefd83",
   "metadata": {},
   "outputs": [
    {
     "data": {
      "text/plain": [
       "array([[2.6016767]], dtype=float32)"
      ]
     },
     "execution_count": 378,
     "metadata": {},
     "output_type": "execute_result"
    }
   ],
   "source": [
    "weight1, bias1 = regression_model.layers[1].get_weights()\n",
    "weight1"
   ]
  },
  {
   "cell_type": "code",
   "execution_count": 379,
   "id": "40c27be2-b5e5-4f91-b8e5-b560e233bfb9",
   "metadata": {},
   "outputs": [
    {
     "data": {
      "text/plain": [
       "(1, 1)"
      ]
     },
     "execution_count": 379,
     "metadata": {},
     "output_type": "execute_result"
    }
   ],
   "source": [
    "weight1.shape"
   ]
  },
  {
   "cell_type": "code",
   "execution_count": 380,
   "id": "4f386b48-9ccc-4b58-b642-4f5a6febc029",
   "metadata": {},
   "outputs": [
    {
     "data": {
      "text/plain": [
       "array([-0.24839507], dtype=float32)"
      ]
     },
     "execution_count": 380,
     "metadata": {},
     "output_type": "execute_result"
    }
   ],
   "source": [
    "bias1"
   ]
  },
  {
   "cell_type": "code",
   "execution_count": 381,
   "id": "e5f823d5-8d9d-4c09-8afe-efb990851d3e",
   "metadata": {},
   "outputs": [
    {
     "data": {
      "text/plain": [
       "array([[-3.73515551,  1.49498465]])"
      ]
     },
     "execution_count": 381,
     "metadata": {},
     "output_type": "execute_result"
    }
   ],
   "source": [
    "interval1 = weight1[0,0] * norm_interval + bias1[0]\n",
    "interval1"
   ]
  },
  {
   "cell_type": "code",
   "execution_count": 382,
   "id": "d7af2b45-394a-498e-a95a-8515da2f977f",
   "metadata": {},
   "outputs": [
    {
     "data": {
      "text/plain": [
       "interval([-3.7351555072611164, 1.4949846491950993])"
      ]
     },
     "execution_count": 382,
     "metadata": {},
     "output_type": "execute_result"
    }
   ],
   "source": [
    "interval1 = float(weight1) * norm_interval + float(bias1)\n",
    "interval1"
   ]
  },
  {
   "cell_type": "code",
   "execution_count": null,
   "id": "7cb876d4-b712-4e4f-afbc-527f455379bb",
   "metadata": {},
   "outputs": [],
   "source": []
  },
  {
   "cell_type": "code",
   "execution_count": null,
   "id": "5332483e-fa10-4ab2-84b0-da6a28296be9",
   "metadata": {},
   "outputs": [],
   "source": []
  },
  {
   "cell_type": "code",
   "execution_count": 383,
   "id": "58cbaf24-a30c-492c-92f7-670c25ed2a49",
   "metadata": {},
   "outputs": [
    {
     "data": {
      "text/plain": [
       "array([[ 0.16121994,  0.8129365 , -0.01987398,  0.02010121,  0.38604748,\n",
       "         0.53929716, -0.33083647, -0.14903614,  0.35253435, -0.5190458 ]],\n",
       "      dtype=float32)"
      ]
     },
     "execution_count": 383,
     "metadata": {},
     "output_type": "execute_result"
    }
   ],
   "source": [
    "weight2, bias2 = regression_model.layers[2].get_weights()\n",
    "weight2"
   ]
  },
  {
   "cell_type": "code",
   "execution_count": 384,
   "id": "5eb31b28-6b38-4d32-abb9-0e142a5e223d",
   "metadata": {},
   "outputs": [
    {
     "data": {
      "text/plain": [
       "array([ 1.3726412,  1.3830839, -1.4682345, -1.4515332,  1.1157389,\n",
       "        1.4429001,  1.496465 , -1.3949412,  1.380997 , -1.4535339],\n",
       "      dtype=float32)"
      ]
     },
     "execution_count": 384,
     "metadata": {},
     "output_type": "execute_result"
    }
   ],
   "source": [
    "bias2"
   ]
  },
  {
   "cell_type": "code",
   "execution_count": 385,
   "id": "f4d80df9-e181-41b4-8973-c825fb504dd3",
   "metadata": {},
   "outputs": [
    {
     "data": {
      "text/plain": [
       "(1, 10)"
      ]
     },
     "execution_count": 385,
     "metadata": {},
     "output_type": "execute_result"
    }
   ],
   "source": [
    "# unpack weight2 to propagate to two different intervals\n",
    "weight2.shape"
   ]
  },
  {
   "cell_type": "code",
   "execution_count": 389,
   "id": "aff0e793-8a14-471d-b2cb-436b7b27b7df",
   "metadata": {},
   "outputs": [
    {
     "data": {
      "text/plain": [
       "interval([0.7704596605496317, 1.613662540618123])"
      ]
     },
     "execution_count": 389,
     "metadata": {},
     "output_type": "execute_result"
    }
   ],
   "source": [
    "interval2_0 = interval1 * weight2[0, 0] + bias2[0]\n",
    "interval2_0"
   ]
  },
  {
   "cell_type": "code",
   "execution_count": 390,
   "id": "035c165f-9526-4cdc-b082-68321d526ec1",
   "metadata": {},
   "outputs": [
    {
     "data": {
      "text/plain": [
       "interval([-1.6533602487530406, 2.5984115051193992])"
      ]
     },
     "execution_count": 390,
     "metadata": {},
     "output_type": "execute_result"
    }
   ],
   "source": [
    "interval2_1 = interval1 * weight2[0, 1] + bias2[1]\n",
    "interval2_1"
   ]
  },
  {
   "cell_type": "code",
   "execution_count": 391,
   "id": "ad6073c7-f5c3-4ebf-a164-7b4de7ed941d",
   "metadata": {},
   "outputs": [
    {
     "data": {
      "text/plain": [
       "array([[ 1.2797909],\n",
       "       [ 1.2696681],\n",
       "       [-1.59171  ],\n",
       "       [-1.525649 ],\n",
       "       [ 0.9253794],\n",
       "       [ 1.4764364],\n",
       "       [ 1.7497294],\n",
       "       [-1.3376071],\n",
       "       [ 1.2899771],\n",
       "       [-1.5219781]], dtype=float32)"
      ]
     },
     "execution_count": 391,
     "metadata": {},
     "output_type": "execute_result"
    }
   ],
   "source": [
    "weight3, bias3 = regression_model.layers[3].get_weights()\n",
    "weight3"
   ]
  },
  {
   "cell_type": "code",
   "execution_count": 392,
   "id": "4c2a89e5-9907-48ee-889f-978f9f2c93c5",
   "metadata": {},
   "outputs": [
    {
     "data": {
      "text/plain": [
       "array([1.6576817], dtype=float32)"
      ]
     },
     "execution_count": 392,
     "metadata": {},
     "output_type": "execute_result"
    }
   ],
   "source": [
    "bias3"
   ]
  },
  {
   "cell_type": "code",
   "execution_count": 393,
   "id": "eec4479d-f7b0-4e89-9952-70a57f46c686",
   "metadata": {},
   "outputs": [
    {
     "data": {
      "text/plain": [
       "(10, 1)"
      ]
     },
     "execution_count": 393,
     "metadata": {},
     "output_type": "execute_result"
    }
   ],
   "source": [
    "# combine two intervals with weight3\n",
    "weight3.shape"
   ]
  },
  {
   "cell_type": "code",
   "execution_count": 394,
   "id": "467f028a-7fe0-4da0-bb8e-8d0050a53ac1",
   "metadata": {},
   "outputs": [
    {
     "data": {
      "text/plain": [
       "1.2797909"
      ]
     },
     "execution_count": 394,
     "metadata": {},
     "output_type": "execute_result"
    }
   ],
   "source": [
    "weight3[0, 0]"
   ]
  },
  {
   "cell_type": "code",
   "execution_count": 395,
   "id": "7f83a386-9d58-409f-9759-4a0536a85843",
   "metadata": {},
   "outputs": [
    {
     "data": {
      "text/plain": [
       "1.2696681"
      ]
     },
     "execution_count": 395,
     "metadata": {},
     "output_type": "execute_result"
    }
   ],
   "source": [
    "weight3[1, 0]"
   ]
  },
  {
   "cell_type": "code",
   "execution_count": 396,
   "id": "a46311ee-91f9-4fa7-ab41-a047e6bdce28",
   "metadata": {},
   "outputs": [
    {
     "data": {
      "text/plain": [
       "interval([0.5444901798402015, 7.021952508305306])"
      ]
     },
     "execution_count": 396,
     "metadata": {},
     "output_type": "execute_result"
    }
   ],
   "source": [
    "interval3 = 0\n",
    "interval3 += interval2_0 * weight3[0, 0] + interval2_1 * weight3[1, 0] + bias3\n",
    "interval3"
   ]
  },
  {
   "cell_type": "markdown",
   "id": "ddb77f3d-2c53-44b7-8245-45811c477ab5",
   "metadata": {},
   "source": [
    "## Curved paths"
   ]
  },
  {
   "cell_type": "code",
   "execution_count": 9,
   "id": "df7a64e7-dc91-472a-8510-8d139b15c56c",
   "metadata": {},
   "outputs": [
    {
     "data": {
      "text/plain": [
       "<matplotlib.collections.PathCollection at 0x168b86c20>"
      ]
     },
     "execution_count": 9,
     "metadata": {},
     "output_type": "execute_result"
    },
    {
     "data": {
      "image/png": "[encoded data removed]",
      "text/plain": [
       "<Figure size 640x480 with 1 Axes>"
      ]
     },
     "metadata": {},
     "output_type": "display_data"
    }
   ],
   "source": [
    "x = np.linspace(5, 15, 100)\n",
    "y = 0.5 * x ** 3 - 9 * x ** 2 + 5*x\n",
    "NOISE_STD = 3\n",
    "plt.scatter(x, y)"
   ]
  },
  {
   "cell_type": "code",
   "execution_count": 10,
   "id": "1e69ce0b-af78-4488-ab96-d7b4351deb1c",
   "metadata": {},
   "outputs": [],
   "source": [
    "# x = np.linspace(-10, 10, 100)\n",
    "# y = x**2\n",
    "# plt.scatter(x, y)"
   ]
  },
  {
   "cell_type": "code",
   "execution_count": 11,
   "id": "bcd619de-3bb2-473e-a73c-b17dcee4d220",
   "metadata": {},
   "outputs": [
    {
     "data": {
      "text/plain": [
       "<matplotlib.collections.PathCollection at 0x168c04eb0>"
      ]
     },
     "execution_count": 11,
     "metadata": {},
     "output_type": "execute_result"
    },
    {
     "data": {
      "image/png": "[encoded data removed]",
      "text/plain": [
       "<Figure size 640x480 with 1 Axes>"
      ]
     },
     "metadata": {},
     "output_type": "display_data"
    }
   ],
   "source": [
    "y_noisy = y + np.random.randn(*x.shape) * NOISE_STD\n",
    "plt.scatter(x, y_noisy)"
   ]
  },
  {
   "cell_type": "code",
   "execution_count": 19,
   "id": "d78fdd80-0b2e-4f5b-8a9e-df6c5824b4ed",
   "metadata": {},
   "outputs": [
    {
     "name": "stdout",
     "output_type": "stream",
     "text": [
      "WARNING:tensorflow:5 out of the last 14 calls to <function PreprocessingLayer.make_adapt_function.<locals>.adapt_step at 0x286c2d630> triggered tf.function retracing. Tracing is expensive and the excessive number of tracings could be due to (1) creating @tf.function repeatedly in a loop, (2) passing tensors with different shapes, (3) passing Python objects instead of tensors. For (1), please define your @tf.function outside of the loop. For (2), @tf.function has reduce_retracing=True option that can avoid unnecessary retracing. For (3), please refer to https://www.tensorflow.org/guide/function#controlling_retracing and https://www.tensorflow.org/api_docs/python/tf/function for  more details.\n"
     ]
    },
    {
     "name": "stderr",
     "output_type": "stream",
     "text": [
      "2023-06-23 17:06:04.983711: I tensorflow/core/grappler/optimizers/custom_graph_optimizer_registry.cc:114] Plugin optimizer for device_type GPU is enabled.\n",
      "2023-06-23 17:06:04.994922: I tensorflow/core/grappler/optimizers/custom_graph_optimizer_registry.cc:114] Plugin optimizer for device_type GPU is enabled.\n"
     ]
    },
    {
     "data": {
      "text/plain": [
       "{'name': 'normalization_4',\n",
       " 'trainable': True,\n",
       " 'batch_input_shape': (None, 1),\n",
       " 'dtype': 'float32',\n",
       " 'axis': (),\n",
       " 'mean': None,\n",
       " 'variance': None}"
      ]
     },
     "execution_count": 19,
     "metadata": {},
     "output_type": "execute_result"
    }
   ],
   "source": [
    "normalizer = layers.Normalization(\n",
    "    input_shape=[\n",
    "        1,\n",
    "    ],\n",
    "    axis=None,\n",
    ")\n",
    "normalizer.adapt(x)\n",
    "normalizer.get_config()"
   ]
  },
  {
   "cell_type": "code",
   "execution_count": 20,
   "id": "78c9425e-5418-4d8f-ab66-ef8f30223f86",
   "metadata": {},
   "outputs": [
    {
     "data": {
      "text/plain": [
       "<tf.Tensor: shape=(1,), dtype=float32, numpy=array([10.], dtype=float32)>"
      ]
     },
     "execution_count": 20,
     "metadata": {},
     "output_type": "execute_result"
    }
   ],
   "source": [
    "normalizer.mean"
   ]
  },
  {
   "cell_type": "code",
   "execution_count": 21,
   "id": "d0309f35-5d87-4d34-bf2c-528d6820b0da",
   "metadata": {},
   "outputs": [
    {
     "data": {
      "text/plain": [
       "<tf.Tensor: shape=(1,), dtype=float32, numpy=array([8.501682], dtype=float32)>"
      ]
     },
     "execution_count": 21,
     "metadata": {},
     "output_type": "execute_result"
    }
   ],
   "source": [
    "normalizer.variance"
   ]
  },
  {
   "cell_type": "code",
   "execution_count": 22,
   "id": "2c5d4a72-5ae3-446b-a380-9f115500e100",
   "metadata": {},
   "outputs": [
    {
     "name": "stderr",
     "output_type": "stream",
     "text": [
      "2023-06-23 17:06:05.755351: I tensorflow/core/grappler/optimizers/custom_graph_optimizer_registry.cc:114] Plugin optimizer for device_type GPU is enabled.\n",
      "2023-06-23 17:06:05.767197: I tensorflow/core/grappler/optimizers/custom_graph_optimizer_registry.cc:114] Plugin optimizer for device_type GPU is enabled.\n"
     ]
    }
   ],
   "source": [
    "normalizer = layers.Normalization(\n",
    "    input_shape=[\n",
    "        1,\n",
    "    ],\n",
    "    axis=None,\n",
    ")\n",
    "normalizer.adapt(x)\n",
    "regression_model = tf.keras.Sequential(\n",
    "    [\n",
    "        normalizer, \n",
    "        layers.Dense(units=1, activation=\"linear\", input_shape=[1]),\n",
    "        layers.Dense(units=64, activation=\"relu\"),\n",
    "        layers.Dense(units=64, activation=\"relu\"),\n",
    "        layers.Dense(units=64, activation=\"relu\"),\n",
    "        # layers.Dense(units=10, activation=\"sigmoid\"),\n",
    "        layers.Dense(units=1, activation=\"linear\"),\n",
    "    ]\n",
    ")\n",
    "regression_model.compile(\n",
    "    optimizer=tf.keras.optimizers.Adam(learning_rate=0.1), loss=\"mean_squared_error\"\n",
    ")"
   ]
  },
  {
   "cell_type": "code",
   "execution_count": 23,
   "id": "8965185a-5bc5-4240-bebb-44160fc5d8a6",
   "metadata": {},
   "outputs": [
    {
     "name": "stderr",
     "output_type": "stream",
     "text": [
      "2023-06-23 17:06:06.842421: I tensorflow/core/grappler/optimizers/custom_graph_optimizer_registry.cc:114] Plugin optimizer for device_type GPU is enabled.\n",
      "2023-06-23 17:06:07.076699: I tensorflow/core/grappler/optimizers/custom_graph_optimizer_registry.cc:114] Plugin optimizer for device_type GPU is enabled.\n"
     ]
    },
    {
     "name": "stdout",
     "output_type": "stream",
     "text": [
      "CPU times: user 13.6 s, sys: 4.31 s, total: 17.9 s\n",
      "Wall time: 16 s\n"
     ]
    }
   ],
   "source": [
    "%%time\n",
    "history = regression_model.fit(\n",
    "    x,\n",
    "    y_noisy,\n",
    "    epochs=500,\n",
    "    # Suppress logging.\n",
    "    verbose=0,\n",
    "    # Calculate validation results on 10% of the training data.\n",
    "    validation_split=0.1,\n",
    ")"
   ]
  },
  {
   "cell_type": "code",
   "execution_count": 24,
   "id": "e475c5b2-db51-4deb-8376-c924a955b6d4",
   "metadata": {},
   "outputs": [
    {
     "data": {
      "image/png": "[encoded data removed]",
      "text/plain": [
       "<Figure size 640x480 with 1 Axes>"
      ]
     },
     "metadata": {},
     "output_type": "display_data"
    }
   ],
   "source": [
    "plot_loss(history)"
   ]
  },
  {
   "cell_type": "code",
   "execution_count": 25,
   "id": "136a7367-8788-44f8-80c6-94a051205e73",
   "metadata": {},
   "outputs": [
    {
     "name": "stdout",
     "output_type": "stream",
     "text": [
      "4/4 [==============================] - 0s 9ms/step\n"
     ]
    },
    {
     "name": "stderr",
     "output_type": "stream",
     "text": [
      "2023-06-23 17:06:22.921089: I tensorflow/core/grappler/optimizers/custom_graph_optimizer_registry.cc:114] Plugin optimizer for device_type GPU is enabled.\n"
     ]
    },
    {
     "data": {
      "text/plain": [
       "<matplotlib.legend.Legend at 0x29ac56080>"
      ]
     },
     "execution_count": 25,
     "metadata": {},
     "output_type": "execute_result"
    },
    {
     "data": {
      "image/png": "[encoded data removed]",
      "text/plain": [
       "<Figure size 640x480 with 1 Axes>"
      ]
     },
     "metadata": {},
     "output_type": "display_data"
    }
   ],
   "source": [
    "y_predict = regression_model.predict(x)\n",
    "plt.plot(x, y_predict)\n",
    "plt.scatter(x, y_noisy)\n",
    "plt.legend([\"NN predictions\", \"data\"])"
   ]
  },
  {
   "cell_type": "code",
   "execution_count": 136,
   "id": "f2b451c6-60a6-4544-abd8-5739ebae31a2",
   "metadata": {
    "scrolled": true,
    "tags": []
   },
   "outputs": [
    {
     "data": {
      "text/plain": [
       "array([[-144.27345],\n",
       "       [-148.8225 ],\n",
       "       [-153.37155],\n",
       "       [-157.92061],\n",
       "       [-162.46967],\n",
       "       [-167.01872],\n",
       "       [-171.56776],\n",
       "       [-176.11696],\n",
       "       [-180.66658],\n",
       "       [-185.2162 ],\n",
       "       [-189.76587],\n",
       "       [-194.43214],\n",
       "       [-199.25209],\n",
       "       [-204.07207],\n",
       "       [-208.90233],\n",
       "       [-213.7428 ],\n",
       "       [-218.5833 ],\n",
       "       [-223.42374],\n",
       "       [-227.86525],\n",
       "       [-232.21788],\n",
       "       [-236.5984 ],\n",
       "       [-241.00691],\n",
       "       [-245.41544],\n",
       "       [-249.82396],\n",
       "       [-254.23251],\n",
       "       [-258.64105],\n",
       "       [-263.04956],\n",
       "       [-267.45807],\n",
       "       [-271.8666 ],\n",
       "       [-276.27518],\n",
       "       [-280.7175 ],\n",
       "       [-285.2173 ],\n",
       "       [-289.7207 ],\n",
       "       [-293.7738 ],\n",
       "       [-297.49005],\n",
       "       [-301.2063 ],\n",
       "       [-304.92255],\n",
       "       [-308.6388 ],\n",
       "       [-312.35522],\n",
       "       [-316.07578],\n",
       "       [-319.79633],\n",
       "       [-323.51685],\n",
       "       [-327.23737],\n",
       "       [-330.95792],\n",
       "       [-334.69012],\n",
       "       [-338.42386],\n",
       "       [-341.74136],\n",
       "       [-343.6358 ],\n",
       "       [-345.53027],\n",
       "       [-347.42465],\n",
       "       [-349.3191 ],\n",
       "       [-351.21466],\n",
       "       [-353.11017],\n",
       "       [-355.00574],\n",
       "       [-356.90125],\n",
       "       [-358.79678],\n",
       "       [-360.69235],\n",
       "       [-362.58783],\n",
       "       [-364.4834 ],\n",
       "       [-366.3789 ],\n",
       "       [-368.27444],\n",
       "       [-370.16998],\n",
       "       [-372.06552],\n",
       "       [-372.3964 ],\n",
       "       [-371.6712 ],\n",
       "       [-370.96515],\n",
       "       [-370.25916],\n",
       "       [-369.55313],\n",
       "       [-368.8471 ],\n",
       "       [-368.14108],\n",
       "       [-367.43506],\n",
       "       [-366.72906],\n",
       "       [-366.02307],\n",
       "       [-365.31702],\n",
       "       [-364.61102],\n",
       "       [-363.90503],\n",
       "       [-363.19897],\n",
       "       [-362.49295],\n",
       "       [-361.78693],\n",
       "       [-359.33725],\n",
       "       [-356.41803],\n",
       "       [-353.4981 ],\n",
       "       [-350.5782 ],\n",
       "       [-347.6568 ],\n",
       "       [-344.36682],\n",
       "       [-341.02692],\n",
       "       [-337.68707],\n",
       "       [-334.34717],\n",
       "       [-331.07043],\n",
       "       [-327.83563],\n",
       "       [-324.54883],\n",
       "       [-321.26202],\n",
       "       [-317.97864],\n",
       "       [-314.7217 ],\n",
       "       [-311.46475],\n",
       "       [-308.2078 ],\n",
       "       [-304.9508 ],\n",
       "       [-301.69388],\n",
       "       [-298.48697],\n",
       "       [-295.49146]], dtype=float32)"
      ]
     },
     "execution_count": 136,
     "metadata": {},
     "output_type": "execute_result"
    }
   ],
   "source": [
    "y_predict"
   ]
  },
  {
   "cell_type": "code",
   "execution_count": 137,
   "id": "b4a6ceea-70a0-4626-817e-7b716e73719e",
   "metadata": {},
   "outputs": [
    {
     "data": {
      "image/png": "[encoded data removed]",
      "text/plain": [
       "<Figure size 640x480 with 1 Axes>"
      ]
     },
     "metadata": {},
     "output_type": "display_data"
    }
   ],
   "source": [
    "input_interval = interval[8, 13]\n",
    "output_interval, penultimate_interval = propagate_interval(input_interval, regression_model)\n",
    "plot_intervals(input_interval, output_interval, x, y_noisy, y_predict)"
   ]
  },
  {
   "cell_type": "code",
   "execution_count": 138,
   "id": "8a840295-ddf9-4d1d-a225-3659d9f33728",
   "metadata": {},
   "outputs": [
    {
     "data": {
      "text/plain": [
       "[interval([-1286.6431789004696, 7731.808654349136])]"
      ]
     },
     "execution_count": 138,
     "metadata": {},
     "output_type": "execute_result"
    }
   ],
   "source": [
    "output_interval"
   ]
  },
  {
   "cell_type": "markdown",
   "id": "41210fd4-9fb3-47c1-8c8a-c76102c2e1c4",
   "metadata": {},
   "source": [
    "## Demo: Simple quadratic function"
   ]
  },
  {
   "cell_type": "code",
   "execution_count": 4,
   "id": "6bfff6c2-b2c5-4bc7-b6b0-643fa8bd1f91",
   "metadata": {
    "scrolled": true,
    "tags": []
   },
   "outputs": [
    {
     "data": {
      "image/png": "[encoded data removed]",
      "text/plain": [
       "<Figure size 640x480 with 1 Axes>"
      ]
     },
     "metadata": {},
     "output_type": "display_data"
    },
    {
     "name": "stdout",
     "output_type": "stream",
     "text": [
      "Metal device set to: Apple M1 Pro\n"
     ]
    },
    {
     "name": "stderr",
     "output_type": "stream",
     "text": [
      "2023-06-21 14:07:30.052896: I tensorflow/core/common_runtime/pluggable_device/pluggable_device_factory.cc:306] Could not identify NUMA node of platform GPU ID 0, defaulting to 0. Your kernel may not have been built with NUMA support.\n",
      "2023-06-21 14:07:30.053029: I tensorflow/core/common_runtime/pluggable_device/pluggable_device_factory.cc:272] Created TensorFlow device (/job:localhost/replica:0/task:0/device:GPU:0 with 0 MB memory) -> physical PluggableDevice (device: 0, name: METAL, pci bus id: <undefined>)\n",
      "2023-06-21 14:07:30.117151: W tensorflow/core/platform/profile_utils/cpu_utils.cc:128] Failed to get CPU frequency: 0 Hz\n",
      "2023-06-21 14:07:30.165366: I tensorflow/core/grappler/optimizers/custom_graph_optimizer_registry.cc:114] Plugin optimizer for device_type GPU is enabled.\n",
      "2023-06-21 14:07:30.177021: I tensorflow/core/grappler/optimizers/custom_graph_optimizer_registry.cc:114] Plugin optimizer for device_type GPU is enabled.\n",
      "2023-06-21 14:07:31.097798: I tensorflow/core/grappler/optimizers/custom_graph_optimizer_registry.cc:114] Plugin optimizer for device_type GPU is enabled.\n",
      "2023-06-21 14:07:33.097535: I tensorflow/core/grappler/optimizers/custom_graph_optimizer_registry.cc:114] Plugin optimizer for device_type GPU is enabled.\n"
     ]
    },
    {
     "name": "stdout",
     "output_type": "stream",
     "text": [
      "4/4 [==============================] - 0s 50ms/step\n"
     ]
    },
    {
     "name": "stderr",
     "output_type": "stream",
     "text": [
      "2023-06-21 14:07:36.470174: I tensorflow/core/grappler/optimizers/custom_graph_optimizer_registry.cc:114] Plugin optimizer for device_type GPU is enabled.\n"
     ]
    },
    {
     "data": {
      "image/png": "[encoded data removed]",
      "text/plain": [
       "<Figure size 640x480 with 1 Axes>"
      ]
     },
     "metadata": {},
     "output_type": "display_data"
    }
   ],
   "source": [
    "x = np.linspace(-10, 10, 100)\n",
    "y = x**2\n",
    "plt.scatter(x, y)\n",
    "plt.show()\n",
    "\n",
    "normalizer = layers.Normalization(\n",
    "    input_shape=[\n",
    "        1,\n",
    "    ],\n",
    "    axis=None,\n",
    ")\n",
    "normalizer.adapt(x)\n",
    "regression_model = tf.keras.Sequential(\n",
    "    [\n",
    "        normalizer, \n",
    "        layers.Dense(units=1, activation=\"linear\", input_shape=[1]),\n",
    "        layers.Dense(units=64, activation=\"relu\"),\n",
    "        layers.Dense(units=64, activation=\"relu\"),\n",
    "        layers.Dense(units=64, activation=\"relu\"),\n",
    "        # layers.Dense(units=10, activation=\"sigmoid\"),\n",
    "        layers.Dense(units=1, activation=\"linear\"),\n",
    "    ]\n",
    ")\n",
    "regression_model.compile(\n",
    "    optimizer=tf.keras.optimizers.Adam(learning_rate=0.1), loss=\"mean_squared_error\"\n",
    ")\n",
    "\n",
    "history = regression_model.fit(\n",
    "    x,\n",
    "    y,\n",
    "    epochs=100,\n",
    "    # Suppress logging.\n",
    "    verbose=0,\n",
    "    # Calculate validation results on 10% of the training data.\n",
    "    validation_split=0.1,\n",
    ")\n",
    "\n",
    "y_predict = regression_model.predict(x)\n",
    "plt.plot(x, y_predict, color=\"C1\")\n",
    "plt.scatter(x, y, color=\"C2\")\n",
    "plt.legend([\"NN predictions\", \"data\"])\n",
    "plt.show()"
   ]
  },
  {
   "cell_type": "code",
   "execution_count": 5,
   "id": "3422b7d8-7bf2-4732-83d6-255bd1d39252",
   "metadata": {},
   "outputs": [
    {
     "name": "stdout",
     "output_type": "stream",
     "text": [
      "1/1 [==============================] - 0s 256ms/step\n"
     ]
    },
    {
     "data": {
      "text/plain": [
       "array([[26.259274]], dtype=float32)"
      ]
     },
     "execution_count": 5,
     "metadata": {},
     "output_type": "execute_result"
    }
   ],
   "source": [
    "regression_model.predict([5.1])"
   ]
  },
  {
   "cell_type": "code",
   "execution_count": 6,
   "id": "a0e7d0b0-0206-4ca1-bedf-83ee216eb024",
   "metadata": {},
   "outputs": [
    {
     "ename": "IndexError",
     "evalue": "list index out of range",
     "output_type": "error",
     "traceback": [
      "\u001b[0;31m---------------------------------------------------------------------------\u001b[0m",
      "\u001b[0;31mIndexError\u001b[0m                                Traceback (most recent call last)",
      "Cell \u001b[0;32mIn[6], line 3\u001b[0m\n\u001b[1;32m      1\u001b[0m input_interval \u001b[38;5;241m=\u001b[39m interval[\u001b[38;5;241m-\u001b[39m\u001b[38;5;241m8\u001b[39m, \u001b[38;5;241m-\u001b[39m\u001b[38;5;241m5\u001b[39m]\n\u001b[1;32m      2\u001b[0m output_interval \u001b[38;5;241m=\u001b[39m propagate_interval(input_interval, regression_model)\n\u001b[0;32m----> 3\u001b[0m \u001b[43mplot_intervals\u001b[49m\u001b[43m(\u001b[49m\u001b[43minput_interval\u001b[49m\u001b[43m,\u001b[49m\u001b[43m \u001b[49m\u001b[43moutput_interval\u001b[49m\u001b[43m,\u001b[49m\u001b[43m \u001b[49m\u001b[43mx\u001b[49m\u001b[43m,\u001b[49m\u001b[43m \u001b[49m\u001b[43my\u001b[49m\u001b[43m,\u001b[49m\u001b[43m \u001b[49m\u001b[43my_predict\u001b[49m\u001b[43m,\u001b[49m\u001b[43m \u001b[49m\u001b[43mxlim\u001b[49m\u001b[38;5;241;43m=\u001b[39;49m\u001b[43m[\u001b[49m\u001b[38;5;241;43m-\u001b[39;49m\u001b[38;5;241;43m10\u001b[39;49m\u001b[43m,\u001b[49m\u001b[43m \u001b[49m\u001b[38;5;241;43m10\u001b[39;49m\u001b[43m]\u001b[49m\u001b[43m,\u001b[49m\u001b[43m \u001b[49m\u001b[43mylim\u001b[49m\u001b[38;5;241;43m=\u001b[39;49m\u001b[43m[\u001b[49m\u001b[38;5;241;43m-\u001b[39;49m\u001b[38;5;241;43m5\u001b[39;49m\u001b[43m,\u001b[49m\u001b[43m \u001b[49m\u001b[38;5;241;43m105\u001b[39;49m\u001b[43m]\u001b[49m\u001b[43m)\u001b[49m\n",
      "File \u001b[0;32m~/Dropbox (University of Michigan)/research/verified-ml/TFExperiments/safe_train.py:185\u001b[0m, in \u001b[0;36mplot_intervals\u001b[0;34m(input_interval, output_interval, xs, ys, y_predict, y_scipy, xlim, ylim)\u001b[0m\n\u001b[1;32m    183\u001b[0m     output_width \u001b[38;5;241m=\u001b[39m output_interval[\u001b[38;5;241m0\u001b[39m][\u001b[38;5;241m0\u001b[39m]\u001b[38;5;241m.\u001b[39msup \u001b[38;5;241m-\u001b[39m output_interval[\u001b[38;5;241m0\u001b[39m][\u001b[38;5;241m0\u001b[39m]\u001b[38;5;241m.\u001b[39minf\n\u001b[1;32m    184\u001b[0m \u001b[38;5;28;01melif\u001b[39;00m \u001b[38;5;28mtype\u001b[39m(output_interval[\u001b[38;5;241m0\u001b[39m]) \u001b[38;5;241m==\u001b[39m \u001b[38;5;28mlist\u001b[39m:\n\u001b[0;32m--> 185\u001b[0m     output_width \u001b[38;5;241m=\u001b[39m \u001b[43moutput_interval\u001b[49m\u001b[43m[\u001b[49m\u001b[38;5;241;43m0\u001b[39;49m\u001b[43m]\u001b[49m\u001b[43m[\u001b[49m\u001b[38;5;241;43m1\u001b[39;49m\u001b[43m]\u001b[49m \u001b[38;5;241m-\u001b[39m output_interval[\u001b[38;5;241m0\u001b[39m][\u001b[38;5;241m0\u001b[39m]\n\u001b[1;32m    186\u001b[0m interval_rect \u001b[38;5;241m=\u001b[39m matplotlib\u001b[38;5;241m.\u001b[39mpatches\u001b[38;5;241m.\u001b[39mRectangle(\n\u001b[1;32m    187\u001b[0m     (input_interval[\u001b[38;5;241m0\u001b[39m]\u001b[38;5;241m.\u001b[39minf, output_interval[\u001b[38;5;241m0\u001b[39m][\u001b[38;5;241m0\u001b[39m]\u001b[38;5;241m.\u001b[39minf), input_width, output_width\n\u001b[1;32m    188\u001b[0m )\n\u001b[1;32m    189\u001b[0m ax\u001b[38;5;241m.\u001b[39madd_collection(\n\u001b[1;32m    190\u001b[0m     matplotlib\u001b[38;5;241m.\u001b[39mcollections\u001b[38;5;241m.\u001b[39mPatchCollection(\n\u001b[1;32m    191\u001b[0m         [interval_rect], facecolor\u001b[38;5;241m=\u001b[39m\u001b[38;5;124m\"\u001b[39m\u001b[38;5;124mk\u001b[39m\u001b[38;5;124m\"\u001b[39m, alpha\u001b[38;5;241m=\u001b[39m\u001b[38;5;241m0.1\u001b[39m, edgecolor\u001b[38;5;241m=\u001b[39m\u001b[38;5;124m\"\u001b[39m\u001b[38;5;124mk\u001b[39m\u001b[38;5;124m\"\u001b[39m\n\u001b[1;32m    192\u001b[0m     )\n\u001b[1;32m    193\u001b[0m )\n",
      "\u001b[0;31mIndexError\u001b[0m: list index out of range"
     ]
    },
    {
     "data": {
      "image/png": "[encoded data removed]",
      "text/plain": [
       "<Figure size 640x480 with 1 Axes>"
      ]
     },
     "metadata": {},
     "output_type": "display_data"
    }
   ],
   "source": [
    "input_interval = interval[-8, -5]\n",
    "output_interval, _ = propagate_interval(input_interval, regression_model)\n",
    "plot_intervals(input_interval, output_interval, x, y, y_predict, xlim=[-10, 10], ylim=[-5, 105])"
   ]
  },
  {
   "cell_type": "code",
   "execution_count": null,
   "id": "022d3ecf-2bb8-4d82-b0d9-081b9b0273dd",
   "metadata": {},
   "outputs": [],
   "source": [
    "output_interval"
   ]
  },
  {
   "cell_type": "code",
   "execution_count": null,
   "id": "a606da5a-1223-445f-aa61-a0cbf502cbdb",
   "metadata": {},
   "outputs": [],
   "source": [
    "input_interval = interval[1, 2]"
   ]
  },
  {
   "cell_type": "code",
   "execution_count": null,
   "id": "4cf00629-b17a-4c4d-b2fe-09ed72108b48",
   "metadata": {},
   "outputs": [],
   "source": [
    "input_interval = 1"
   ]
  },
  {
   "cell_type": "code",
   "execution_count": 505,
   "id": "aca92691-55ae-46f6-b409-c3869ea1bc70",
   "metadata": {},
   "outputs": [
    {
     "data": {
      "text/plain": [
       "[<keras.layers.preprocessing.normalization.Normalization at 0x2dabc8ca0>,\n",
       " <keras.layers.core.dense.Dense at 0x2da8dbcd0>,\n",
       " <keras.layers.core.dense.Dense at 0x2e0edaaa0>,\n",
       " <keras.layers.core.dense.Dense at 0x2e0f46500>,\n",
       " <keras.layers.core.dense.Dense at 0x2db141d80>,\n",
       " <keras.layers.core.dense.Dense at 0x2dabc8d30>]"
      ]
     },
     "execution_count": 505,
     "metadata": {},
     "output_type": "execute_result"
    }
   ],
   "source": [
    "layers = regression_model.layers\n",
    "layers"
   ]
  },
  {
   "cell_type": "code",
   "execution_count": 506,
   "id": "e3975080-543d-4881-9f58-af86367f8c23",
   "metadata": {},
   "outputs": [
    {
     "data": {
      "text/plain": [
       "<keras.layers.preprocessing.normalization.Normalization at 0x2dabc8ca0>"
      ]
     },
     "execution_count": 506,
     "metadata": {},
     "output_type": "execute_result"
    }
   ],
   "source": [
    "layer = layers[0]\n",
    "layer"
   ]
  },
  {
   "cell_type": "code",
   "execution_count": 507,
   "id": "6288210b-cfb1-472e-9434-c62858e30cc5",
   "metadata": {},
   "outputs": [],
   "source": [
    "norm_mean, norm_var, _ = layer.get_weights()\n",
    "norm_std = np.sqrt(norm_var)"
   ]
  },
  {
   "cell_type": "code",
   "execution_count": 508,
   "id": "3c933aa8-7884-4f30-ba46-3d59884fc577",
   "metadata": {},
   "outputs": [
    {
     "data": {
      "text/plain": [
       "[0.17148156301557785]"
      ]
     },
     "execution_count": 508,
     "metadata": {},
     "output_type": "execute_result"
    }
   ],
   "source": [
    "norm_interval = [(input_interval - norm_mean) / norm_std]\n",
    "norm_interval"
   ]
  },
  {
   "cell_type": "code",
   "execution_count": 509,
   "id": "ec118a4c-834d-4b3e-b170-b2dc198ec631",
   "metadata": {},
   "outputs": [
    {
     "data": {
      "text/plain": [
       "<keras.layers.core.dense.Dense at 0x2da8dbcd0>"
      ]
     },
     "execution_count": 509,
     "metadata": {},
     "output_type": "execute_result"
    }
   ],
   "source": [
    "## first dense\n",
    "layer = layers[1]\n",
    "layer"
   ]
  },
  {
   "cell_type": "code",
   "execution_count": 510,
   "id": "4c0d29b3-c73a-43e4-b138-cd92f75ff619",
   "metadata": {},
   "outputs": [
    {
     "data": {
      "text/plain": [
       "array([[-1.3079324]], dtype=float32)"
      ]
     },
     "execution_count": 510,
     "metadata": {},
     "output_type": "execute_result"
    }
   ],
   "source": [
    "weight, bias = layer.get_weights()\n",
    "weight"
   ]
  },
  {
   "cell_type": "code",
   "execution_count": 511,
   "id": "957d1851-1a73-4425-8158-281e12a52d1a",
   "metadata": {},
   "outputs": [
    {
     "data": {
      "text/plain": [
       "array([-0.38841757], dtype=float32)"
      ]
     },
     "execution_count": 511,
     "metadata": {},
     "output_type": "execute_result"
    }
   ],
   "source": [
    "bias"
   ]
  },
  {
   "cell_type": "code",
   "execution_count": 512,
   "id": "82cee4de-b17b-4417-a69e-c6cbd33a1f40",
   "metadata": {},
   "outputs": [],
   "source": [
    "num_combinations = weight.shape[0]\n",
    "num_intervals = weight.shape[1]\n",
    "if num_combinations == 1 and num_intervals == 1:\n",
    "    if type(norm_interval) == list:\n",
    "        assert (\n",
    "            len(norm_interval) == 1\n",
    "        ), f\"Expected only one interval, got {len(current_interval)}\"\n",
    "        current_interval = norm_interval[0]\n",
    "    current_interval = [current_interval * float(weight) + float(bias)]"
   ]
  },
  {
   "cell_type": "code",
   "execution_count": 513,
   "id": "f5968c6b-7a99-4fd6-a1f2-a26a52fa8f64",
   "metadata": {},
   "outputs": [
    {
     "data": {
      "text/plain": [
       "[-0.612703860085968]"
      ]
     },
     "execution_count": 513,
     "metadata": {},
     "output_type": "execute_result"
    }
   ],
   "source": [
    "current_interval"
   ]
  },
  {
   "cell_type": "code",
   "execution_count": 514,
   "id": "0a509d14-b233-464b-86e3-8de8f903b829",
   "metadata": {},
   "outputs": [
    {
     "data": {
      "text/plain": [
       "'linear'"
      ]
     },
     "execution_count": 514,
     "metadata": {},
     "output_type": "execute_result"
    }
   ],
   "source": [
    "# linear activation, don't do anything\n",
    "layer.get_config()[\"activation\"]"
   ]
  },
  {
   "cell_type": "code",
   "execution_count": 515,
   "id": "31cb1173-bea0-4ce8-9c31-870b097230a4",
   "metadata": {},
   "outputs": [
    {
     "data": {
      "text/plain": [
       "array([[ 5.53364933e-01, -6.54815197e-01, -6.56215072e-01,\n",
       "         5.52920550e-02, -3.23366135e-01, -4.94543195e-01,\n",
       "         1.36461484e+00,  2.87311316e-01,  2.37846136e-01,\n",
       "        -7.22666919e-01,  8.51673841e-01, -1.06340609e-02,\n",
       "        -5.51456690e-01, -1.05066188e-01,  2.17355192e-01,\n",
       "         4.57032496e-04, -5.20570755e-01, -1.18076456e+00,\n",
       "        -1.51362646e+00, -6.76161349e-01,  4.40687746e-01,\n",
       "        -1.70330256e-02,  1.60660952e-01, -6.10813141e-01,\n",
       "         3.81981879e-02, -1.31078660e+00, -3.14615935e-01,\n",
       "        -8.73416007e-01,  1.17136908e+00,  1.16198814e+00,\n",
       "         2.07344472e-01, -2.61776656e-01,  2.25831404e-01,\n",
       "         4.12490398e-01,  6.28763199e-01,  2.53557950e-01,\n",
       "        -1.18629776e-01,  1.96111292e-01,  1.67588145e-01,\n",
       "         3.80946726e-01, -6.51951969e-01,  5.53743601e-01,\n",
       "        -8.92398283e-02, -2.87888229e-01, -2.13253424e-01,\n",
       "         3.49539995e-01,  1.01108646e+00,  3.50805849e-01,\n",
       "        -1.63587794e-01, -8.03030372e-01, -3.30389619e-01,\n",
       "        -1.01126182e+00,  1.68213263e-01,  1.53304666e-01,\n",
       "         2.21997052e-01,  7.38111138e-01,  2.07043201e-01,\n",
       "         1.56589478e-01,  1.32520223e+00,  2.51843691e-01,\n",
       "        -1.03193128e+00, -4.02934760e-01,  9.38673973e-01,\n",
       "        -3.25852811e-01]], dtype=float32)"
      ]
     },
     "execution_count": 515,
     "metadata": {},
     "output_type": "execute_result"
    }
   ],
   "source": [
    "layer = layers[2]\n",
    "weight, bias = layer.get_weights()\n",
    "weight"
   ]
  },
  {
   "cell_type": "code",
   "execution_count": 516,
   "id": "485daf0c-9ae5-48d3-b5ca-523a9119e03c",
   "metadata": {},
   "outputs": [
    {
     "data": {
      "text/plain": [
       "array([-1.1146241 , -1.2292122 , -1.2316979 , -0.8100648 , -0.7453926 ,\n",
       "       -0.92983425, -0.5251688 , -0.66004634, -0.7178856 , -1.2349885 ,\n",
       "       -1.2168758 , -0.9098792 , -1.0698729 , -1.0763694 , -0.69187474,\n",
       "       -0.8651386 , -1.0143259 , -1.5296626 , -0.97019464, -1.1262518 ,\n",
       "       -0.9903383 , -0.4686666 , -0.82293767, -1.1408186 , -0.4569568 ,\n",
       "       -1.4453247 , -0.815908  , -1.3803461 , -0.92776704, -0.7253735 ,\n",
       "       -0.6959139 , -0.5877921 , -0.4637546 , -1.0033581 , -1.0059334 ,\n",
       "       -0.6095763 , -0.39561892, -0.78611904, -0.92681366, -1.0232527 ,\n",
       "       -1.1477133 , -1.0316267 , -1.0321816 , -0.83589286, -0.6506589 ,\n",
       "       -0.81177825, -1.0620822 , -0.85078335, -0.48570117, -1.2546878 ,\n",
       "       -0.8179582 , -1.3889132 , -0.92291564, -0.3087277 , -0.9044249 ,\n",
       "       -1.1377658 , -0.5480678 , -0.34927112,  0.16649424, -0.6698921 ,\n",
       "       -1.4337294 , -1.1433983 , -1.1622066 , -0.88979155], dtype=float32)"
      ]
     },
     "execution_count": 516,
     "metadata": {},
     "output_type": "execute_result"
    }
   ],
   "source": [
    "bias"
   ]
  },
  {
   "cell_type": "code",
   "execution_count": 517,
   "id": "0d18a748-bcca-4786-a627-1307f0418883",
   "metadata": {},
   "outputs": [
    {
     "data": {
      "text/plain": [
       "1"
      ]
     },
     "execution_count": 517,
     "metadata": {},
     "output_type": "execute_result"
    }
   ],
   "source": [
    "num_combinations = weight.shape[0]\n",
    "num_intervals = weight.shape[1]\n",
    "num_combinations"
   ]
  },
  {
   "cell_type": "code",
   "execution_count": 518,
   "id": "a1519415-f57c-42f5-b270-ecb02c38156a",
   "metadata": {},
   "outputs": [
    {
     "data": {
      "text/plain": [
       "64"
      ]
     },
     "execution_count": 518,
     "metadata": {},
     "output_type": "execute_result"
    }
   ],
   "source": [
    "num_intervals"
   ]
  },
  {
   "cell_type": "code",
   "execution_count": 519,
   "id": "441b028b-2fdb-4061-b047-b967ade3647a",
   "metadata": {},
   "outputs": [],
   "source": [
    "intervals = [0] * num_intervals\n",
    "for i in range(num_combinations):\n",
    "    for j in range(num_intervals):\n",
    "        intervals[j] += current_interval[i] * float(weight[i, j])\n",
    "for j in range(num_intervals):\n",
    "    intervals[j] += float(bias[j])\n",
    "current_interval = intervals"
   ]
  },
  {
   "cell_type": "code",
   "execution_count": 520,
   "id": "ec6426e7-9f2f-4951-9de4-48921ef5a9dd",
   "metadata": {},
   "outputs": [
    {
     "data": {
      "text/plain": [
       "[-1.453672972848469,\n",
       " -0.8280043660395263,\n",
       " -0.8296324095207583,\n",
       " -0.8439424481702568,\n",
       " -0.5472649412080823,\n",
       " -0.6268257222201132,\n",
       " -1.361273559158973,\n",
       " -0.8360830911106247,\n",
       " -0.8636148591322664,\n",
       " -0.7922076400345059,\n",
       " -1.7386996417565426,\n",
       " -0.9033636774191889,\n",
       " -0.7319932136082501,\n",
       " -1.0119949460368753,\n",
       " -0.8250491074769135,\n",
       " -0.8654186159105397,\n",
       " -0.6953701461231172,\n",
       " -0.8062036078286683,\n",
       " -0.04278986529625717,\n",
       " -0.7119651482867879,\n",
       " -1.2603494084505864,\n",
       " -0.4582304125541912,\n",
       " -0.921375253027298,\n",
       " -0.7665710266844739,\n",
       " -0.48036098100225916,\n",
       " -0.6422006467877893,\n",
       " -0.6231416169018362,\n",
       " -0.8452007011158901,\n",
       " -1.6454693926581019,\n",
       " -1.4373281247788845,\n",
       " -0.8229546694778344,\n",
       " -0.427400530964263,\n",
       " -0.6021223674866321,\n",
       " -1.2560925846007625,\n",
       " -1.3911790429857627,\n",
       " -0.7649322197641252,\n",
       " -0.32293399391744926,\n",
       " -0.9062771892255927,\n",
       " -1.0294955651169397,\n",
       " -1.2566602548676653,\n",
       " -0.7482598157712905,\n",
       " -1.370907543090822,\n",
       " -0.9775040333320326,\n",
       " -0.6595026270048379,\n",
       " -0.519997709707275,\n",
       " -1.0259427516658917,\n",
       " -1.6815787507696185,\n",
       " -1.0657234458065985,\n",
       " -0.38547030087618483,\n",
       " -0.762667977616295,\n",
       " -0.6155271813198326,\n",
       " -0.7693091334445222,\n",
       " -1.0259805531452644,\n",
       " -0.40265807223853717,\n",
       " -1.0404433567292235,\n",
       " -1.5900093088258256,\n",
       " -0.6749239764438527,\n",
       " -0.44521409641616816,\n",
       " -0.6454622842597236,\n",
       " -0.8241976742133018,\n",
       " -0.8014611309043408,\n",
       " -0.8965186021859727,\n",
       " -1.7373358164507635,\n",
       " -0.6901402729263568]"
      ]
     },
     "execution_count": 520,
     "metadata": {},
     "output_type": "execute_result"
    }
   ],
   "source": [
    "current_interval"
   ]
  },
  {
   "cell_type": "code",
   "execution_count": 521,
   "id": "fa8eb22f-1e06-4143-a36e-5349610fdc17",
   "metadata": {},
   "outputs": [
    {
     "data": {
      "text/plain": [
       "True"
      ]
     },
     "execution_count": 521,
     "metadata": {},
     "output_type": "execute_result"
    }
   ],
   "source": [
    "isinstance(current_interval[0], float)"
   ]
  },
  {
   "cell_type": "code",
   "execution_count": 522,
   "id": "ad1ee5b2-fe63-492d-9274-67d8133ca95d",
   "metadata": {},
   "outputs": [],
   "source": [
    "for i in range(len(current_interval)):\n",
    "    if isinstance(current_interval[0], float):\n",
    "        current_interval[i] = max(current_interval[i], 0.)\n",
    "    else:\n",
    "        current_interval[i] &= interval[0, inf]\n",
    "        if current_interval[i] == interval():\n",
    "            current_interval[i] = interval[0, 0]"
   ]
  },
  {
   "cell_type": "code",
   "execution_count": 523,
   "id": "a45e05d1-c819-4db8-a0dd-7cfab2cb9195",
   "metadata": {},
   "outputs": [
    {
     "data": {
      "text/plain": [
       "[0.0,\n",
       " 0.0,\n",
       " 0.0,\n",
       " 0.0,\n",
       " 0.0,\n",
       " 0.0,\n",
       " 0.0,\n",
       " 0.0,\n",
       " 0.0,\n",
       " 0.0,\n",
       " 0.0,\n",
       " 0.0,\n",
       " 0.0,\n",
       " 0.0,\n",
       " 0.0,\n",
       " 0.0,\n",
       " 0.0,\n",
       " 0.0,\n",
       " 0.0,\n",
       " 0.0,\n",
       " 0.0,\n",
       " 0.0,\n",
       " 0.0,\n",
       " 0.0,\n",
       " 0.0,\n",
       " 0.0,\n",
       " 0.0,\n",
       " 0.0,\n",
       " 0.0,\n",
       " 0.0,\n",
       " 0.0,\n",
       " 0.0,\n",
       " 0.0,\n",
       " 0.0,\n",
       " 0.0,\n",
       " 0.0,\n",
       " 0.0,\n",
       " 0.0,\n",
       " 0.0,\n",
       " 0.0,\n",
       " 0.0,\n",
       " 0.0,\n",
       " 0.0,\n",
       " 0.0,\n",
       " 0.0,\n",
       " 0.0,\n",
       " 0.0,\n",
       " 0.0,\n",
       " 0.0,\n",
       " 0.0,\n",
       " 0.0,\n",
       " 0.0,\n",
       " 0.0,\n",
       " 0.0,\n",
       " 0.0,\n",
       " 0.0,\n",
       " 0.0,\n",
       " 0.0,\n",
       " 0.0,\n",
       " 0.0,\n",
       " 0.0,\n",
       " 0.0,\n",
       " 0.0,\n",
       " 0.0]"
      ]
     },
     "execution_count": 523,
     "metadata": {},
     "output_type": "execute_result"
    }
   ],
   "source": [
    "current_interval"
   ]
  },
  {
   "cell_type": "code",
   "execution_count": 524,
   "id": "4d5b8ea8-f5f6-40da-97b1-f84e5dc8c21c",
   "metadata": {},
   "outputs": [],
   "source": [
    "layer = layers[3]\n",
    "weight, bias = layer.get_weights()\n",
    "num_combinations = weight.shape[0]\n",
    "num_intervals = weight.shape[1]\n",
    "\n",
    "intervals = [0] * num_intervals\n",
    "for i in range(num_combinations):\n",
    "    for j in range(num_intervals):\n",
    "        intervals[j] += current_interval[i] * float(weight[i, j])\n",
    "for j in range(num_intervals):\n",
    "    intervals[j] += float(bias[j])\n",
    "current_interval = intervals"
   ]
  },
  {
   "cell_type": "code",
   "execution_count": 525,
   "id": "d7d8e734-36d4-49db-a508-016fc7436847",
   "metadata": {},
   "outputs": [
    {
     "data": {
      "text/plain": [
       "[-0.6005544662475586,\n",
       " -0.5531374216079712,\n",
       " -0.3369157910346985,\n",
       " -0.13380569219589233,\n",
       " -0.6005500555038452,\n",
       " -0.6005547642707825,\n",
       " -0.6005547642707825,\n",
       " -0.6005548238754272,\n",
       " -0.3661317825317383,\n",
       " -0.5313845872879028,\n",
       " -0.4827796220779419,\n",
       " -0.5381146669387817,\n",
       " -0.6005526185035706,\n",
       " -0.6005522608757019,\n",
       " -0.6005527973175049,\n",
       " -0.2658362090587616,\n",
       " -0.0031479354947805405,\n",
       " -0.5010706186294556,\n",
       " -0.6005548238754272,\n",
       " -0.600554347038269,\n",
       " -0.22846491634845734,\n",
       " -0.6005532145500183,\n",
       " -0.573142409324646,\n",
       " -0.6005548238754272,\n",
       " -0.19556251168251038,\n",
       " -0.30964195728302,\n",
       " -0.6005548238754272,\n",
       " -0.6005548238754272,\n",
       " -0.6236506700515747,\n",
       " -0.3306633234024048,\n",
       " -0.36600184440612793,\n",
       " -0.534702479839325,\n",
       " -0.5097086429595947,\n",
       " -0.2718375325202942,\n",
       " -0.6005547642707825,\n",
       " 1.8613003492355347,\n",
       " -0.514345109462738,\n",
       " -0.600553572177887,\n",
       " -0.600554883480072,\n",
       " -0.0023048827424645424,\n",
       " -0.006488699931651354,\n",
       " -0.6416646242141724,\n",
       " -0.24102289974689484,\n",
       " -0.0011000281665474176,\n",
       " -0.23126213252544403,\n",
       " 0.0,\n",
       " -0.19653348624706268,\n",
       " -0.6005541682243347,\n",
       " -0.5558875203132629,\n",
       " -0.6005549430847168,\n",
       " -0.6005476117134094,\n",
       " -0.2565024197101593,\n",
       " -0.6005537509918213,\n",
       " -0.6005539298057556,\n",
       " -0.6005544662475586,\n",
       " -0.790543258190155,\n",
       " -0.34818142652511597,\n",
       " 0.04282551258802414,\n",
       " -0.4878292977809906,\n",
       " -0.28891417384147644,\n",
       " -0.19200702011585236,\n",
       " -0.0024575807619839907,\n",
       " -0.5346901416778564,\n",
       " -0.600554347038269]"
      ]
     },
     "execution_count": 525,
     "metadata": {},
     "output_type": "execute_result"
    }
   ],
   "source": [
    "current_interval"
   ]
  },
  {
   "cell_type": "code",
   "execution_count": 526,
   "id": "1c14aee8-af74-4e70-aa5b-8fa9971fa02b",
   "metadata": {},
   "outputs": [],
   "source": [
    "for i in range(len(current_interval)):\n",
    "    if isinstance(current_interval[0], float):\n",
    "        current_interval[i] = max(current_interval[i], 0.)\n",
    "    else:\n",
    "        current_interval[i] &= interval[0, inf]\n",
    "        if current_interval[i] == interval():\n",
    "            current_interval[i] = interval[0, 0]"
   ]
  },
  {
   "cell_type": "code",
   "execution_count": 527,
   "id": "40e0b297-efec-4f18-95f5-55da98c10507",
   "metadata": {},
   "outputs": [
    {
     "data": {
      "text/plain": [
       "[-1.2181422648293698,\n",
       " -0.5077909740952191,\n",
       " -1.7467534384942467,\n",
       " -0.7353968391215284,\n",
       " -0.5693606547903096,\n",
       " -0.927321301824962,\n",
       " -0.6705740563172446,\n",
       " -1.5494473587101416,\n",
       " -0.632691319076629,\n",
       " -0.3461941851763728,\n",
       " 0.013129077763349706,\n",
       " -0.910552749897402,\n",
       " -0.4402778449839031,\n",
       " -0.11347651013322632,\n",
       " -0.6461128052759149,\n",
       " -0.4077931659323899,\n",
       " -0.023888789249949305,\n",
       " -0.26867887717518313,\n",
       " -0.6678681836302971,\n",
       " -0.2925771696273698,\n",
       " -0.9971620712322029,\n",
       " -0.3805759809008018,\n",
       " -0.9271697517700568,\n",
       " -1.4318948762889407,\n",
       " 0.02921149209836149,\n",
       " -0.7089079188022005,\n",
       " -1.0567346969738103,\n",
       " 0.017479195205606146,\n",
       " -0.7875900046086959,\n",
       " -0.06027193502120998,\n",
       " -0.9018098269963373,\n",
       " -0.9005298109227957,\n",
       " -0.12790881387209885,\n",
       " -0.27025057805734054,\n",
       " -0.7202427687305613,\n",
       " -0.2375375085563629,\n",
       " -0.10229992141649352,\n",
       " -0.2568461158405704,\n",
       " -0.5600013254342855,\n",
       " -0.21642006860300667,\n",
       " 0.061710709394000585,\n",
       " -0.606840548989628,\n",
       " -1.0495606689802948,\n",
       " -0.2445340496653694,\n",
       " -0.8802773702762812,\n",
       " 0.00856977638241363,\n",
       " -0.07803995833123722,\n",
       " -1.6967827005335119,\n",
       " -0.07397499270123475,\n",
       " 5.362879472697113,\n",
       " -0.2808148511304691,\n",
       " -0.4041074284698887,\n",
       " -0.6241002170409711,\n",
       " -0.5568747661199933,\n",
       " -1.7962051559757166,\n",
       " -0.0016869872083133397,\n",
       " -1.0338881144290117,\n",
       " -0.473689821180869,\n",
       " -0.06534125883913233,\n",
       " -0.49146272292496196,\n",
       " -0.34180616596979685,\n",
       " -0.02900241856251018,\n",
       " -0.12769332296743818,\n",
       " -1.2971767788955901]"
      ]
     },
     "execution_count": 527,
     "metadata": {},
     "output_type": "execute_result"
    }
   ],
   "source": [
    "layer = layers[4]\n",
    "weight, bias = layer.get_weights()\n",
    "num_combinations = weight.shape[0]\n",
    "num_intervals = weight.shape[1]\n",
    "\n",
    "intervals = [0] * num_intervals\n",
    "for i in range(num_combinations):\n",
    "    for j in range(num_intervals):\n",
    "        intervals[j] += current_interval[i] * float(weight[i, j])\n",
    "for j in range(num_intervals):\n",
    "    intervals[j] += float(bias[j])\n",
    "current_interval = intervals\n",
    "current_interval"
   ]
  },
  {
   "cell_type": "code",
   "execution_count": 529,
   "id": "242a685d-4381-4d99-b19b-8f97be8d1720",
   "metadata": {},
   "outputs": [],
   "source": [
    "for i in range(len(current_interval)):\n",
    "    if isinstance(current_interval[0], float):\n",
    "        current_interval[i] = max(current_interval[i], 0.)\n",
    "    else:\n",
    "        current_interval[i] &= interval[0, inf]\n",
    "        if current_interval[i] == interval():\n",
    "            current_interval[i] = interval[0, 0]"
   ]
  },
  {
   "cell_type": "code",
   "execution_count": 530,
   "id": "f73109fa-01d8-4005-8e58-de8a4f0b40c9",
   "metadata": {},
   "outputs": [
    {
     "data": {
      "text/plain": [
       "[0.4841068435002094]"
      ]
     },
     "execution_count": 530,
     "metadata": {},
     "output_type": "execute_result"
    }
   ],
   "source": [
    "layer = layers[5]\n",
    "weight, bias = layer.get_weights()\n",
    "num_combinations = weight.shape[0]\n",
    "num_intervals = weight.shape[1]\n",
    "\n",
    "intervals = [0] * num_intervals\n",
    "for i in range(num_combinations):\n",
    "    for j in range(num_intervals):\n",
    "        intervals[j] += current_interval[i] * float(weight[i, j])\n",
    "for j in range(num_intervals):\n",
    "    intervals[j] += float(bias[j])\n",
    "current_interval = intervals\n",
    "current_interval"
   ]
  },
  {
   "cell_type": "code",
   "execution_count": null,
   "id": "3fed0067-e8bf-4449-964a-73338c49ac0e",
   "metadata": {},
   "outputs": [],
   "source": []
  }
 ],
 "metadata": {
  "kernelspec": {
   "display_name": "Python 3 (ipykernel)",
   "language": "python",
   "name": "python3"
  },
  "language_info": {
   "codemirror_mode": {
    "name": "ipython",
    "version": 3
   },
   "file_extension": ".py",
   "mimetype": "text/x-python",
   "name": "python",
   "nbconvert_exporter": "python",
   "pygments_lexer": "ipython3",
   "version": "3.10.9"
  }
 },
 "nbformat": 4,
 "nbformat_minor": 5
}
