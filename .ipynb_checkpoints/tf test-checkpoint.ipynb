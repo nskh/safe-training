{
 "cells": [
  {
   "cell_type": "markdown",
   "id": "afd7207c",
   "metadata": {},
   "source": [
    "## Imports"
   ]
  },
  {
   "cell_type": "code",
   "execution_count": 2,
   "id": "e4d30ace",
   "metadata": {},
   "outputs": [
    {
     "ename": "ModuleNotFoundError",
     "evalue": "No module named 'tensorflow'",
     "output_type": "error",
     "traceback": [
      "\u001b[0;31m---------------------------------------------------------------------------\u001b[0m",
      "\u001b[0;31mModuleNotFoundError\u001b[0m                       Traceback (most recent call last)",
      "Cell \u001b[0;32mIn[2], line 4\u001b[0m\n\u001b[1;32m      1\u001b[0m get_ipython()\u001b[38;5;241m.\u001b[39mrun_line_magic(\u001b[38;5;124m'\u001b[39m\u001b[38;5;124mload_ext\u001b[39m\u001b[38;5;124m'\u001b[39m, \u001b[38;5;124m'\u001b[39m\u001b[38;5;124mautoreload\u001b[39m\u001b[38;5;124m'\u001b[39m)\n\u001b[1;32m      2\u001b[0m get_ipython()\u001b[38;5;241m.\u001b[39mrun_line_magic(\u001b[38;5;124m'\u001b[39m\u001b[38;5;124mautoreload\u001b[39m\u001b[38;5;124m'\u001b[39m, \u001b[38;5;124m'\u001b[39m\u001b[38;5;124m2\u001b[39m\u001b[38;5;124m'\u001b[39m)\n\u001b[0;32m----> 4\u001b[0m \u001b[38;5;28;01mimport\u001b[39;00m \u001b[38;5;21;01mtensorflow\u001b[39;00m \u001b[38;5;28;01mas\u001b[39;00m \u001b[38;5;21;01mtf\u001b[39;00m\n\u001b[1;32m      5\u001b[0m \u001b[38;5;28;01mfrom\u001b[39;00m \u001b[38;5;21;01mtensorflow\u001b[39;00m \u001b[38;5;28;01mimport\u001b[39;00m keras\n\u001b[1;32m      6\u001b[0m \u001b[38;5;28;01mfrom\u001b[39;00m \u001b[38;5;21;01mtensorflow\u001b[39;00m\u001b[38;5;21;01m.\u001b[39;00m\u001b[38;5;21;01mkeras\u001b[39;00m \u001b[38;5;28;01mimport\u001b[39;00m layers\n",
      "\u001b[0;31mModuleNotFoundError\u001b[0m: No module named 'tensorflow'"
     ]
    }
   ],
   "source": [
    "%load_ext autoreload\n",
    "%autoreload 2\n",
    "\n",
    "import tensorflow as tf\n",
    "from tensorflow import keras\n",
    "from tensorflow.keras import layers\n",
    "\n",
    "# TODO get interactive plotting working in jupyterlab\n",
    "%matplotlib inline\n",
    "import matplotlib\n",
    "import matplotlib.pyplot as plt\n",
    "import numpy as np\n",
    "import scipy\n",
    "\n",
    "from interval import interval, inf, imath\n",
    "\n",
    "from safe_train import *"
   ]
  },
  {
   "cell_type": "markdown",
   "id": "efff1136",
   "metadata": {},
   "source": [
    "## CIFAR example"
   ]
  },
  {
   "cell_type": "code",
   "execution_count": 3,
   "id": "7f9c03fb",
   "metadata": {},
   "outputs": [],
   "source": [
    "# cifar = tf.keras.datasets.cifar100\n",
    "# (x_train, y_train), (x_test, y_test) = cifar.load_data()\n",
    "# model = tf.keras.applications.ResNet50(\n",
    "#     include_top=True,\n",
    "#     weights=None,\n",
    "#     input_shape=(32, 32, 3),\n",
    "#     classes=100,)"
   ]
  },
  {
   "cell_type": "code",
   "execution_count": 101,
   "id": "c1c082e3",
   "metadata": {},
   "outputs": [],
   "source": [
    "# loss_fn = tf.keras.losses.SparseCategoricalCrossentropy(from_logits=True)\n",
    "# model.compile(optimizer=\"adam\", loss=loss_fn, metrics=[\"accuracy\"])\n",
    "# model.fit(x_train, y_train, epochs=5, batch_size=64)"
   ]
  },
  {
   "cell_type": "code",
   "execution_count": 102,
   "id": "42a9228d",
   "metadata": {},
   "outputs": [],
   "source": [
    "# model.name"
   ]
  },
  {
   "cell_type": "markdown",
   "id": "219338da",
   "metadata": {},
   "source": [
    "## OLS example"
   ]
  },
  {
   "cell_type": "code",
   "execution_count": 433,
   "id": "5190085d-a2b2-4832-87c4-50fd0534411d",
   "metadata": {},
   "outputs": [
    {
     "data": {
      "image/png": "[encoded data removed]",
      "text/plain": [
       "<Figure size 640x480 with 1 Axes>"
      ]
     },
     "metadata": {},
     "output_type": "display_data"
    }
   ],
   "source": [
    "x, y = generate_data()\n",
    "plt.figure()\n",
    "plt.scatter(x,y)\n",
    "plt.xlabel(\"x\")\n",
    "plt.ylabel(\"y\")\n",
    "plt.show()"
   ]
  },
  {
   "cell_type": "code",
   "execution_count": null,
   "id": "312e4a80-c704-4883-bb7e-26c24914bfa3",
   "metadata": {},
   "outputs": [],
   "source": []
  },
  {
   "cell_type": "code",
   "execution_count": 360,
   "id": "9dce05b7",
   "metadata": {},
   "outputs": [],
   "source": [
    "# # TODO add more datapoints\n",
    "\n",
    "# # x = np.array([5, 15, 25, 35, 45, 55])\n",
    "# NOISE_STD = 2\n",
    "# M = 0.5\n",
    "# B = 5\n",
    "# x = np.linspace(5, 55, 30)\n",
    "# y_func = lambda x: M * x + B \n",
    "# y_noisy = lambda x: y_func(x) + np.random.normal(0, NOISE_STD, np.shape(x))\n",
    "# # y = np.array([5, 20, 14, 32, 22, 38])\n",
    "# y = y_noisy(x)\n",
    "\n",
    "# plt.figure()\n",
    "# plt.scatter(x,y)\n",
    "# plt.xlabel(\"x\")\n",
    "# plt.ylabel(\"y\")\n",
    "# plt.show()"
   ]
  },
  {
   "cell_type": "code",
   "execution_count": 434,
   "id": "06491109",
   "metadata": {},
   "outputs": [
    {
     "name": "stderr",
     "output_type": "stream",
     "text": [
      "2023-04-06 23:25:53.879045: I tensorflow/core/grappler/optimizers/custom_graph_optimizer_registry.cc:114] Plugin optimizer for device_type GPU is enabled.\n",
      "2023-04-06 23:25:53.892119: I tensorflow/core/grappler/optimizers/custom_graph_optimizer_registry.cc:114] Plugin optimizer for device_type GPU is enabled.\n"
     ]
    }
   ],
   "source": [
    "normalizer = tf.keras.layers.Normalization(input_shape=[1,], axis=None)\n",
    "normalizer.adapt(x)"
   ]
  },
  {
   "cell_type": "code",
   "execution_count": 435,
   "id": "c989b515",
   "metadata": {},
   "outputs": [
    {
     "data": {
      "text/plain": [
       "array([30.000002], dtype=float32)"
      ]
     },
     "execution_count": 435,
     "metadata": {},
     "output_type": "execute_result"
    }
   ],
   "source": [
    "normalizer.mean.numpy()"
   ]
  },
  {
   "cell_type": "code",
   "execution_count": 436,
   "id": "6dcec120",
   "metadata": {},
   "outputs": [
    {
     "data": {
      "text/plain": [
       "array([222.70117], dtype=float32)"
      ]
     },
     "execution_count": 436,
     "metadata": {},
     "output_type": "execute_result"
    }
   ],
   "source": [
    "normalizer.variance.numpy()"
   ]
  },
  {
   "cell_type": "code",
   "execution_count": 364,
   "id": "b7ca5ed4",
   "metadata": {},
   "outputs": [],
   "source": [
    "regression_model = tf.keras.Sequential([\n",
    "    normalizer,\n",
    "    layers.Dense(units=1),\n",
    "    layers.Dense(units=10),\n",
    "    layers.Dense(units=1),\n",
    "])"
   ]
  },
  {
   "cell_type": "code",
   "execution_count": 365,
   "id": "005d4877",
   "metadata": {},
   "outputs": [
    {
     "name": "stdout",
     "output_type": "stream",
     "text": [
      "Model: \"sequential_7\"\n",
      "_________________________________________________________________\n",
      " Layer (type)                Output Shape              Param #   \n",
      "=================================================================\n",
      " normalization_6 (Normalizat  (None, 1)                3         \n",
      " ion)                                                            \n",
      "                                                                 \n",
      " dense_11 (Dense)            (None, 1)                 2         \n",
      "                                                                 \n",
      " dense_12 (Dense)            (None, 10)                20        \n",
      "                                                                 \n",
      " dense_13 (Dense)            (None, 1)                 11        \n",
      "                                                                 \n",
      "=================================================================\n",
      "Total params: 36\n",
      "Trainable params: 33\n",
      "Non-trainable params: 3\n",
      "_________________________________________________________________\n"
     ]
    }
   ],
   "source": [
    "regression_model.summary()"
   ]
  },
  {
   "cell_type": "code",
   "execution_count": 366,
   "id": "e9e89b77",
   "metadata": {},
   "outputs": [
    {
     "name": "stdout",
     "output_type": "stream",
     "text": [
      "1/1 [==============================] - 0s 168ms/step\n"
     ]
    },
    {
     "name": "stderr",
     "output_type": "stream",
     "text": [
      "2023-04-06 14:27:52.683600: I tensorflow/core/grappler/optimizers/custom_graph_optimizer_registry.cc:114] Plugin optimizer for device_type GPU is enabled.\n"
     ]
    },
    {
     "data": {
      "text/plain": [
       "array([[-1.1011231 ],\n",
       "       [-1.0251833 ],\n",
       "       [-0.949244  ],\n",
       "       [-0.8733043 ],\n",
       "       [-0.797365  ],\n",
       "       [-0.7214254 ],\n",
       "       [-0.6454859 ],\n",
       "       [-0.5695464 ],\n",
       "       [-0.4936068 ],\n",
       "       [-0.41766745],\n",
       "       [-0.34172788],\n",
       "       [-0.26578838],\n",
       "       [-0.18984884],\n",
       "       [-0.11390933],\n",
       "       [-0.03796981],\n",
       "       [ 0.03796963],\n",
       "       [ 0.11390925],\n",
       "       [ 0.18984869],\n",
       "       [ 0.2657881 ],\n",
       "       [ 0.34172767],\n",
       "       [ 0.41766715],\n",
       "       [ 0.49360675],\n",
       "       [ 0.5695462 ],\n",
       "       [ 0.6454858 ],\n",
       "       [ 0.7214253 ],\n",
       "       [ 0.79736465],\n",
       "       [ 0.8733043 ],\n",
       "       [ 0.9492437 ],\n",
       "       [ 1.0251833 ],\n",
       "       [ 1.1011229 ]], dtype=float32)"
      ]
     },
     "execution_count": 366,
     "metadata": {},
     "output_type": "execute_result"
    }
   ],
   "source": [
    "regression_model.predict(x)"
   ]
  },
  {
   "cell_type": "markdown",
   "id": "e40d0b2c",
   "metadata": {},
   "source": [
    "### Training"
   ]
  },
  {
   "cell_type": "code",
   "execution_count": 367,
   "id": "dc1495ed",
   "metadata": {},
   "outputs": [],
   "source": [
    "regression_model.compile(\n",
    "    optimizer=tf.keras.optimizers.Adam(learning_rate=0.1),\n",
    "    loss='mean_squared_error'\n",
    ")"
   ]
  },
  {
   "cell_type": "code",
   "execution_count": 368,
   "id": "e260d9cf",
   "metadata": {},
   "outputs": [
    {
     "name": "stderr",
     "output_type": "stream",
     "text": [
      "2023-04-06 14:27:56.115288: I tensorflow/core/grappler/optimizers/custom_graph_optimizer_registry.cc:114] Plugin optimizer for device_type GPU is enabled.\n",
      "2023-04-06 14:27:56.435509: I tensorflow/core/grappler/optimizers/custom_graph_optimizer_registry.cc:114] Plugin optimizer for device_type GPU is enabled.\n"
     ]
    },
    {
     "name": "stdout",
     "output_type": "stream",
     "text": [
      "CPU times: user 15.6 s, sys: 5.26 s, total: 20.9 s\n",
      "Wall time: 19.7 s\n"
     ]
    }
   ],
   "source": [
    "%%time\n",
    "history = regression_model.fit(\n",
    "    x,\n",
    "    y,\n",
    "    epochs=1000,\n",
    "    # Suppress logging.\n",
    "    verbose=0,\n",
    "    # Calculate validation results on 20% of the training data.\n",
    "    validation_split = 0.2)"
   ]
  },
  {
   "cell_type": "code",
   "execution_count": 369,
   "id": "2700dbbc",
   "metadata": {},
   "outputs": [
    {
     "data": {
      "image/png": "[encoded data removed]",
      "text/plain": [
       "<Figure size 640x480 with 1 Axes>"
      ]
     },
     "metadata": {},
     "output_type": "display_data"
    }
   ],
   "source": [
    "def plot_loss(history):\n",
    "    plt.figure()\n",
    "    plt.plot(history.history['loss'], label='loss')\n",
    "    plt.plot(history.history['val_loss'], label='val_loss')\n",
    "    plt.xlabel('Epoch')\n",
    "    plt.ylabel('Error')\n",
    "    plt.legend()\n",
    "    plt.grid(True)\n",
    "    plt.show()\n",
    "\n",
    "plot_loss(history)"
   ]
  },
  {
   "cell_type": "code",
   "execution_count": 370,
   "id": "0997fd33",
   "metadata": {},
   "outputs": [
    {
     "name": "stdout",
     "output_type": "stream",
     "text": [
      "1/1 [==============================] - 0s 55ms/step\n"
     ]
    },
    {
     "name": "stderr",
     "output_type": "stream",
     "text": [
      "2023-04-06 14:28:35.511757: I tensorflow/core/grappler/optimizers/custom_graph_optimizer_registry.cc:114] Plugin optimizer for device_type GPU is enabled.\n"
     ]
    },
    {
     "data": {
      "text/plain": [
       "array([[ 6.353011 ],\n",
       "       [ 7.3323555],\n",
       "       [ 8.311697 ],\n",
       "       [ 9.29104  ],\n",
       "       [10.270383 ],\n",
       "       [11.249725 ],\n",
       "       [12.229069 ],\n",
       "       [13.208411 ],\n",
       "       [14.187755 ],\n",
       "       [15.167096 ],\n",
       "       [16.146439 ],\n",
       "       [17.125782 ],\n",
       "       [18.105127 ],\n",
       "       [19.084469 ],\n",
       "       [20.063812 ],\n",
       "       [21.043156 ],\n",
       "       [22.0225   ],\n",
       "       [23.00184  ],\n",
       "       [23.981186 ],\n",
       "       [24.960526 ],\n",
       "       [25.939869 ],\n",
       "       [26.919214 ],\n",
       "       [27.898558 ],\n",
       "       [28.877901 ],\n",
       "       [29.857243 ],\n",
       "       [30.836582 ],\n",
       "       [31.815928 ],\n",
       "       [32.79527  ],\n",
       "       [33.774612 ],\n",
       "       [34.753956 ]], dtype=float32)"
      ]
     },
     "execution_count": 370,
     "metadata": {},
     "output_type": "execute_result"
    }
   ],
   "source": [
    "ys = regression_model.predict(x)\n",
    "ys"
   ]
  },
  {
   "cell_type": "code",
   "execution_count": 371,
   "id": "0f070937",
   "metadata": {},
   "outputs": [
    {
     "data": {
      "image/png": "[encoded data removed]",
      "text/plain": [
       "<Figure size 640x480 with 1 Axes>"
      ]
     },
     "metadata": {},
     "output_type": "display_data"
    }
   ],
   "source": [
    "plt.figure()\n",
    "plt.plot(x, ys)\n",
    "plt.scatter(x, y, color=\"C1\")\n",
    "plt.legend([\"predictions\", \"data\"])\n",
    "plt.show()"
   ]
  },
  {
   "cell_type": "code",
   "execution_count": 372,
   "id": "0b5e6a85",
   "metadata": {},
   "outputs": [
    {
     "data": {
      "text/plain": [
       "array([3.86520803, 0.54816637])"
      ]
     },
     "execution_count": 372,
     "metadata": {},
     "output_type": "execute_result"
    }
   ],
   "source": [
    "popt, pcov = scipy.optimize.curve_fit(lambda x, b0, b1: b0 + b1*x, x, y)\n",
    "popt"
   ]
  },
  {
   "cell_type": "code",
   "execution_count": 373,
   "id": "e63cce15",
   "metadata": {},
   "outputs": [
    {
     "data": {
      "image/png": "[encoded data removed]",
      "text/plain": [
       "<Figure size 640x480 with 1 Axes>"
      ]
     },
     "metadata": {},
     "output_type": "display_data"
    }
   ],
   "source": [
    "y_scipy = x * popt[1] + popt[0]\n",
    "plt.figure()\n",
    "plt.plot(x, ys)\n",
    "plt.scatter(x, y, color=\"C1\")\n",
    "plt.plot(x, y_scipy, color=\"C2\")\n",
    "plt.legend([\"predictions\", \"data\", \"scipy\"])\n",
    "plt.show()"
   ]
  },
  {
   "cell_type": "markdown",
   "id": "b36e44e2-cc92-4d04-8424-1004f920090f",
   "metadata": {},
   "source": [
    "## With functions:"
   ]
  },
  {
   "cell_type": "code",
   "execution_count": 111,
   "id": "cf7982a2-fd2a-49a0-adc4-f12ecb18628a",
   "metadata": {},
   "outputs": [
    {
     "data": {
      "image/png": "[encoded data removed]",
      "text/plain": [
       "<Figure size 640x480 with 1 Axes>"
      ]
     },
     "metadata": {},
     "output_type": "display_data"
    }
   ],
   "source": [
    "x, y = generate_data()\n",
    "plt.figure()\n",
    "plt.scatter(x, y)\n",
    "plt.show()"
   ]
  },
  {
   "cell_type": "code",
   "execution_count": 144,
   "id": "4e1a1ccf-6600-4d5a-9e83-e1cfc9ff46f2",
   "metadata": {},
   "outputs": [
    {
     "name": "stdout",
     "output_type": "stream",
     "text": [
      "WARNING:tensorflow:5 out of the last 5 calls to <function PreprocessingLayer.make_adapt_function.<locals>.adapt_step at 0x36d2753f0> triggered tf.function retracing. Tracing is expensive and the excessive number of tracings could be due to (1) creating @tf.function repeatedly in a loop, (2) passing tensors with different shapes, (3) passing Python objects instead of tensors. For (1), please define your @tf.function outside of the loop. For (2), @tf.function has reduce_retracing=True option that can avoid unnecessary retracing. For (3), please refer to https://www.tensorflow.org/guide/function#controlling_retracing and https://www.tensorflow.org/api_docs/python/tf/function for  more details.\n"
     ]
    },
    {
     "name": "stderr",
     "output_type": "stream",
     "text": [
      "2023-04-03 08:46:17.982160: I tensorflow/core/grappler/optimizers/custom_graph_optimizer_registry.cc:114] Plugin optimizer for device_type GPU is enabled.\n",
      "2023-04-03 08:46:17.995003: I tensorflow/core/grappler/optimizers/custom_graph_optimizer_registry.cc:114] Plugin optimizer for device_type GPU is enabled.\n",
      "2023-04-03 08:46:18.179908: I tensorflow/core/grappler/optimizers/custom_graph_optimizer_registry.cc:114] Plugin optimizer for device_type GPU is enabled.\n",
      "2023-04-03 08:46:18.397751: I tensorflow/core/grappler/optimizers/custom_graph_optimizer_registry.cc:114] Plugin optimizer for device_type GPU is enabled.\n"
     ]
    },
    {
     "data": {
      "image/png": "[encoded data removed]",
      "text/plain": [
       "<Figure size 640x480 with 1 Axes>"
      ]
     },
     "metadata": {},
     "output_type": "display_data"
    }
   ],
   "source": [
    "model, history = train_single_node_nn(x, y)\n",
    "plot_loss(history)"
   ]
  },
  {
   "cell_type": "code",
   "execution_count": 145,
   "id": "b5f38a54-5b50-43db-b6af-ed7a7bb1e4ec",
   "metadata": {},
   "outputs": [
    {
     "name": "stdout",
     "output_type": "stream",
     "text": [
      "1/1 [==============================] - 0s 42ms/step\n"
     ]
    },
    {
     "name": "stderr",
     "output_type": "stream",
     "text": [
      "2023-04-03 08:46:42.066870: I tensorflow/core/grappler/optimizers/custom_graph_optimizer_registry.cc:114] Plugin optimizer for device_type GPU is enabled.\n"
     ]
    },
    {
     "data": {
      "image/png": "[encoded data removed]",
      "text/plain": [
       "<Figure size 640x480 with 1 Axes>"
      ]
     },
     "metadata": {},
     "output_type": "display_data"
    }
   ],
   "source": [
    "plot_predictions(model, x, y, [0, 60], [0, 60])"
   ]
  },
  {
   "cell_type": "code",
   "execution_count": 146,
   "id": "ab603f79-43e8-49f6-9444-137d3a05c816",
   "metadata": {},
   "outputs": [
    {
     "name": "stdout",
     "output_type": "stream",
     "text": [
      "1/1 [==============================] - 0s 12ms/step\n"
     ]
    }
   ],
   "source": [
    "# neural network values\n",
    "y_predict = model.predict(x)\n",
    "# scipy values\n",
    "popt, _ = scipy.optimize.curve_fit(lambda x, b0, b1: b0 + b1 * x, x, y)\n",
    "y_scipy = x * popt[1] + popt[0]"
   ]
  },
  {
   "cell_type": "code",
   "execution_count": 147,
   "id": "3cd51d44-089b-4bca-a124-4274bf242814",
   "metadata": {},
   "outputs": [
    {
     "data": {
      "image/png": "[encoded data removed]",
      "text/plain": [
       "<Figure size 640x480 with 1 Axes>"
      ]
     },
     "metadata": {},
     "output_type": "display_data"
    }
   ],
   "source": [
    "input_interval = interval[20, 40]\n",
    "output_interval = propagate_interval(input_interval, model)\n",
    "plot_intervals(input_interval, output_interval, x, y, y_predict, y_scipy)"
   ]
  },
  {
   "cell_type": "markdown",
   "id": "9acd15f5",
   "metadata": {},
   "source": [
    "## Viewing weights"
   ]
  },
  {
   "cell_type": "code",
   "execution_count": 199,
   "id": "a8e2f643",
   "metadata": {},
   "outputs": [
    {
     "name": "stdout",
     "output_type": "stream",
     "text": [
      "{'name': 'normalization_5', 'trainable': True, 'batch_input_shape': (None, 1), 'dtype': 'float32', 'axis': (), 'mean': None, 'variance': None}\n",
      "[30.000002, 222.70117, 30]\n",
      "{'name': 'dense_8', 'trainable': True, 'dtype': 'float32', 'units': 1, 'activation': 'linear', 'use_bias': True, 'kernel_initializer': {'class_name': 'GlorotUniform', 'config': {'seed': None}}, 'bias_initializer': {'class_name': 'Zeros', 'config': {}}, 'kernel_regularizer': None, 'bias_regularizer': None, 'activity_regularizer': None, 'kernel_constraint': None, 'bias_constraint': None}\n",
      "[array([[1.3976517]], dtype=float32), array([1.6543617], dtype=float32)]\n",
      "{'name': 'dense_9', 'trainable': True, 'dtype': 'float32', 'units': 2, 'activation': 'linear', 'use_bias': True, 'kernel_initializer': {'class_name': 'GlorotUniform', 'config': {'seed': None}}, 'bias_initializer': {'class_name': 'Zeros', 'config': {}}, 'kernel_regularizer': None, 'bias_regularizer': None, 'activity_regularizer': None, 'kernel_constraint': None, 'bias_constraint': None}\n",
      "[array([[-0.20082377,  2.231667  ]], dtype=float32), array([-2.0730622,  2.1335998], dtype=float32)]\n",
      "{'name': 'dense_10', 'trainable': True, 'dtype': 'float32', 'units': 1, 'activation': 'linear', 'use_bias': True, 'kernel_initializer': {'class_name': 'GlorotUniform', 'config': {'seed': None}}, 'bias_initializer': {'class_name': 'Zeros', 'config': {}}, 'kernel_regularizer': None, 'bias_regularizer': None, 'activity_regularizer': None, 'kernel_constraint': None, 'bias_constraint': None}\n",
      "[array([[-1.7784145],\n",
      "       [ 2.2886565]], dtype=float32), array([2.1636846], dtype=float32)]\n"
     ]
    }
   ],
   "source": [
    "for layer in regression_model.layers: print(layer.get_config()); print(layer.get_weights())"
   ]
  },
  {
   "cell_type": "markdown",
   "id": "9a71299d",
   "metadata": {},
   "source": [
    "## Interval arithmetic"
   ]
  },
  {
   "cell_type": "code",
   "execution_count": 261,
   "id": "22bf7340",
   "metadata": {},
   "outputs": [
    {
     "data": {
      "text/plain": [
       "interval([10.0, 40.0])"
      ]
     },
     "execution_count": 261,
     "metadata": {},
     "output_type": "execute_result"
    }
   ],
   "source": [
    "input_interval = interval[10, 40]\n",
    "input_interval"
   ]
  },
  {
   "cell_type": "code",
   "execution_count": 279,
   "id": "5213080e-7bf6-4fb4-86fd-ddef32f77d7f",
   "metadata": {},
   "outputs": [
    {
     "data": {
      "text/plain": [
       "interval([-1.3401974324779955, 0.6700985245222355])"
      ]
     },
     "execution_count": 279,
     "metadata": {},
     "output_type": "execute_result"
    }
   ],
   "source": [
    "norm_interval = (input_interval - norm_mean) / norm_std\n",
    "norm_interval"
   ]
  },
  {
   "cell_type": "code",
   "execution_count": 288,
   "id": "760ae8d3-0c09-4861-adc6-067df895abff",
   "metadata": {},
   "outputs": [
    {
     "data": {
      "text/plain": [
       "array([[1.2399263 , 5.45611963]])"
      ]
     },
     "execution_count": 288,
     "metadata": {},
     "output_type": "execute_result"
    }
   ],
   "source": [
    "weight, bias = model.layers[1].get_weights()\n",
    "output_interval = weight[0, 0] * norm_interval + bias[0]\n",
    "output_interval"
   ]
  },
  {
   "cell_type": "code",
   "execution_count": 266,
   "id": "c6f51f17-bcec-4412-aa63-0f995fedbb29",
   "metadata": {},
   "outputs": [],
   "source": [
    "weight2, bias2 = model.layers[2].get_weights()\n",
    "output_interval *= weight2\n",
    "output_interval += bias2"
   ]
  },
  {
   "cell_type": "code",
   "execution_count": 130,
   "id": "b360e76f-dd8a-453f-880f-2d215184b000",
   "metadata": {},
   "outputs": [
    {
     "data": {
      "image/png": "[encoded data removed]",
      "text/plain": [
       "<Figure size 640x480 with 1 Axes>"
      ]
     },
     "metadata": {},
     "output_type": "display_data"
    }
   ],
   "source": [
    "fig = plt.figure()\n",
    "ax = fig.gca()\n",
    "\n",
    "input_width = input_interval[0].sup - input_interval[0].inf\n",
    "output_width = output_interval[0][1] - output_interval[0][0]\n",
    "interval_rect = matplotlib.patches.Rectangle((input_interval[0].inf, output_interval[0][0]), input_width, output_width)\n",
    "ax.add_collection(matplotlib.collections.PatchCollection([interval_rect], facecolor='k', alpha=0.1, edgecolor='k'))\n",
    "ax.set_xlim([0, 50])\n",
    "ax.set_ylim([0, 50])\n",
    "\n",
    "plt.plot(x, ys)\n",
    "plt.plot(x, y_scipy, color=\"C1\")\n",
    "plt.scatter(x, y, color=\"C2\")\n",
    "plt.legend([\"NN\", \"OLS\", \"data\"])\n",
    "plt.show()"
   ]
  },
  {
   "cell_type": "code",
   "execution_count": null,
   "id": "86b42240-77f6-4b24-850a-7717e6a3b19a",
   "metadata": {},
   "outputs": [],
   "source": []
  },
  {
   "cell_type": "code",
   "execution_count": 97,
   "id": "1e84ad4e-35e8-4d66-8259-50daeca89ccc",
   "metadata": {},
   "outputs": [
    {
     "name": "stdout",
     "output_type": "stream",
     "text": [
      "Epoch 1/5\n"
     ]
    },
    {
     "name": "stderr",
     "output_type": "stream",
     "text": [
      "2023-04-02 19:15:13.930749: I tensorflow/core/grappler/optimizers/custom_graph_optimizer_registry.cc:114] Plugin optimizer for device_type GPU is enabled.\n"
     ]
    },
    {
     "name": "stdout",
     "output_type": "stream",
     "text": [
      "782/782 [==============================] - 69s 83ms/step - loss: 4.8316 - accuracy: 0.0631\n",
      "Epoch 2/5\n",
      "782/782 [==============================] - 62s 79ms/step - loss: 4.2200 - accuracy: 0.1010\n",
      "Epoch 3/5\n",
      "782/782 [==============================] - 62s 79ms/step - loss: 3.9156 - accuracy: 0.1314\n",
      "Epoch 4/5\n",
      "782/782 [==============================] - 62s 79ms/step - loss: 3.5639 - accuracy: 0.1886\n",
      "Epoch 5/5\n",
      "782/782 [==============================] - 63s 80ms/step - loss: 3.6209 - accuracy: 0.1895\n"
     ]
    },
    {
     "data": {
      "text/plain": [
       "<keras.callbacks.History at 0x30f9e7b20>"
      ]
     },
     "execution_count": 97,
     "metadata": {},
     "output_type": "execute_result"
    }
   ],
   "source": [
    "# import tensorflow as tf\n",
    "# from tensorflow.keras.optimizers.legacy import Adam\n",
    "\n",
    "# cifar = tf.keras.datasets.cifar100\n",
    "# (x_train, y_train), (x_test, y_test) = cifar.load_data()\n",
    "# model = tf.keras.applications.ResNet50(\n",
    "#     include_top=True,\n",
    "#     weights=None,\n",
    "#     input_shape=(32, 32, 3),\n",
    "#     classes=100,)\n",
    "\n",
    "# loss_fn = tf.keras.losses.SparseCategoricalCrossentropy(from_logits=True)\n",
    "# # Instantiate legacy Adam optimizer\n",
    "# model.compile(optimizer=Adam(), loss=loss_fn, metrics=[\"accuracy\"])\n",
    "# model.fit(x_train, y_train, epochs=5, batch_size=64)\n"
   ]
  },
  {
   "cell_type": "markdown",
   "id": "fa18aeff-a464-4ba3-a8f5-88222eca376b",
   "metadata": {},
   "source": [
    "## Multi-node"
   ]
  },
  {
   "cell_type": "code",
   "execution_count": 374,
   "id": "5b606edf-023c-44f1-b13c-d2a9c2f79939",
   "metadata": {},
   "outputs": [
    {
     "data": {
      "text/plain": [
       "interval([10.0, 40.0])"
      ]
     },
     "execution_count": 374,
     "metadata": {},
     "output_type": "execute_result"
    }
   ],
   "source": [
    "input_interval = interval[10, 40]\n",
    "input_interval"
   ]
  },
  {
   "cell_type": "code",
   "execution_count": 375,
   "id": "328dea3b-40ff-4fca-a275-be96564b6646",
   "metadata": {},
   "outputs": [
    {
     "data": {
      "text/plain": [
       "[interval([6.005117461103091, 29.421660062525902])]"
      ]
     },
     "execution_count": 375,
     "metadata": {},
     "output_type": "execute_result"
    }
   ],
   "source": [
    "# testing with utility\n",
    "propagate_interval(input_interval, regression_model)"
   ]
  },
  {
   "cell_type": "code",
   "execution_count": 376,
   "id": "347a4ceb-009b-406a-979d-cd8082f33674",
   "metadata": {},
   "outputs": [],
   "source": [
    "norm_mean, norm_var, norm_n = regression_model.layers[0].get_weights()\n",
    "norm_std = np.sqrt(norm_var)"
   ]
  },
  {
   "cell_type": "code",
   "execution_count": 377,
   "id": "bdf26c4c-22cf-4920-b92d-c8fdc95fc4c8",
   "metadata": {},
   "outputs": [
    {
     "data": {
      "text/plain": [
       "interval([-1.3401974324779955, 0.6700985245222355])"
      ]
     },
     "execution_count": 377,
     "metadata": {},
     "output_type": "execute_result"
    }
   ],
   "source": [
    "norm_interval = (input_interval - norm_mean) / norm_std\n",
    "norm_interval"
   ]
  },
  {
   "cell_type": "code",
   "execution_count": 378,
   "id": "da633f5c-5700-49e0-bf99-e27c4eeefd83",
   "metadata": {},
   "outputs": [
    {
     "data": {
      "text/plain": [
       "array([[2.6016767]], dtype=float32)"
      ]
     },
     "execution_count": 378,
     "metadata": {},
     "output_type": "execute_result"
    }
   ],
   "source": [
    "weight1, bias1 = regression_model.layers[1].get_weights()\n",
    "weight1"
   ]
  },
  {
   "cell_type": "code",
   "execution_count": 379,
   "id": "40c27be2-b5e5-4f91-b8e5-b560e233bfb9",
   "metadata": {},
   "outputs": [
    {
     "data": {
      "text/plain": [
       "(1, 1)"
      ]
     },
     "execution_count": 379,
     "metadata": {},
     "output_type": "execute_result"
    }
   ],
   "source": [
    "weight1.shape"
   ]
  },
  {
   "cell_type": "code",
   "execution_count": 380,
   "id": "4f386b48-9ccc-4b58-b642-4f5a6febc029",
   "metadata": {},
   "outputs": [
    {
     "data": {
      "text/plain": [
       "array([-0.24839507], dtype=float32)"
      ]
     },
     "execution_count": 380,
     "metadata": {},
     "output_type": "execute_result"
    }
   ],
   "source": [
    "bias1"
   ]
  },
  {
   "cell_type": "code",
   "execution_count": 381,
   "id": "e5f823d5-8d9d-4c09-8afe-efb990851d3e",
   "metadata": {},
   "outputs": [
    {
     "data": {
      "text/plain": [
       "array([[-3.73515551,  1.49498465]])"
      ]
     },
     "execution_count": 381,
     "metadata": {},
     "output_type": "execute_result"
    }
   ],
   "source": [
    "interval1 = weight1[0,0] * norm_interval + bias1[0]\n",
    "interval1"
   ]
  },
  {
   "cell_type": "code",
   "execution_count": 382,
   "id": "d7af2b45-394a-498e-a95a-8515da2f977f",
   "metadata": {},
   "outputs": [
    {
     "data": {
      "text/plain": [
       "interval([-3.7351555072611164, 1.4949846491950993])"
      ]
     },
     "execution_count": 382,
     "metadata": {},
     "output_type": "execute_result"
    }
   ],
   "source": [
    "interval1 = float(weight1) * norm_interval + float(bias1)\n",
    "interval1"
   ]
  },
  {
   "cell_type": "code",
   "execution_count": null,
   "id": "7cb876d4-b712-4e4f-afbc-527f455379bb",
   "metadata": {},
   "outputs": [],
   "source": []
  },
  {
   "cell_type": "code",
   "execution_count": null,
   "id": "5332483e-fa10-4ab2-84b0-da6a28296be9",
   "metadata": {},
   "outputs": [],
   "source": []
  },
  {
   "cell_type": "code",
   "execution_count": 383,
   "id": "58cbaf24-a30c-492c-92f7-670c25ed2a49",
   "metadata": {},
   "outputs": [
    {
     "data": {
      "text/plain": [
       "array([[ 0.16121994,  0.8129365 , -0.01987398,  0.02010121,  0.38604748,\n",
       "         0.53929716, -0.33083647, -0.14903614,  0.35253435, -0.5190458 ]],\n",
       "      dtype=float32)"
      ]
     },
     "execution_count": 383,
     "metadata": {},
     "output_type": "execute_result"
    }
   ],
   "source": [
    "weight2, bias2 = regression_model.layers[2].get_weights()\n",
    "weight2"
   ]
  },
  {
   "cell_type": "code",
   "execution_count": 384,
   "id": "5eb31b28-6b38-4d32-abb9-0e142a5e223d",
   "metadata": {},
   "outputs": [
    {
     "data": {
      "text/plain": [
       "array([ 1.3726412,  1.3830839, -1.4682345, -1.4515332,  1.1157389,\n",
       "        1.4429001,  1.496465 , -1.3949412,  1.380997 , -1.4535339],\n",
       "      dtype=float32)"
      ]
     },
     "execution_count": 384,
     "metadata": {},
     "output_type": "execute_result"
    }
   ],
   "source": [
    "bias2"
   ]
  },
  {
   "cell_type": "code",
   "execution_count": 385,
   "id": "f4d80df9-e181-41b4-8973-c825fb504dd3",
   "metadata": {},
   "outputs": [
    {
     "data": {
      "text/plain": [
       "(1, 10)"
      ]
     },
     "execution_count": 385,
     "metadata": {},
     "output_type": "execute_result"
    }
   ],
   "source": [
    "# unpack weight2 to propagate to two different intervals\n",
    "weight2.shape"
   ]
  },
  {
   "cell_type": "code",
   "execution_count": 389,
   "id": "aff0e793-8a14-471d-b2cb-436b7b27b7df",
   "metadata": {},
   "outputs": [
    {
     "data": {
      "text/plain": [
       "interval([0.7704596605496317, 1.613662540618123])"
      ]
     },
     "execution_count": 389,
     "metadata": {},
     "output_type": "execute_result"
    }
   ],
   "source": [
    "interval2_0 = interval1 * weight2[0, 0] + bias2[0]\n",
    "interval2_0"
   ]
  },
  {
   "cell_type": "code",
   "execution_count": 390,
   "id": "035c165f-9526-4cdc-b082-68321d526ec1",
   "metadata": {},
   "outputs": [
    {
     "data": {
      "text/plain": [
       "interval([-1.6533602487530406, 2.5984115051193992])"
      ]
     },
     "execution_count": 390,
     "metadata": {},
     "output_type": "execute_result"
    }
   ],
   "source": [
    "interval2_1 = interval1 * weight2[0, 1] + bias2[1]\n",
    "interval2_1"
   ]
  },
  {
   "cell_type": "code",
   "execution_count": 391,
   "id": "ad6073c7-f5c3-4ebf-a164-7b4de7ed941d",
   "metadata": {},
   "outputs": [
    {
     "data": {
      "text/plain": [
       "array([[ 1.2797909],\n",
       "       [ 1.2696681],\n",
       "       [-1.59171  ],\n",
       "       [-1.525649 ],\n",
       "       [ 0.9253794],\n",
       "       [ 1.4764364],\n",
       "       [ 1.7497294],\n",
       "       [-1.3376071],\n",
       "       [ 1.2899771],\n",
       "       [-1.5219781]], dtype=float32)"
      ]
     },
     "execution_count": 391,
     "metadata": {},
     "output_type": "execute_result"
    }
   ],
   "source": [
    "weight3, bias3 = regression_model.layers[3].get_weights()\n",
    "weight3"
   ]
  },
  {
   "cell_type": "code",
   "execution_count": 392,
   "id": "4c2a89e5-9907-48ee-889f-978f9f2c93c5",
   "metadata": {},
   "outputs": [
    {
     "data": {
      "text/plain": [
       "array([1.6576817], dtype=float32)"
      ]
     },
     "execution_count": 392,
     "metadata": {},
     "output_type": "execute_result"
    }
   ],
   "source": [
    "bias3"
   ]
  },
  {
   "cell_type": "code",
   "execution_count": 393,
   "id": "eec4479d-f7b0-4e89-9952-70a57f46c686",
   "metadata": {},
   "outputs": [
    {
     "data": {
      "text/plain": [
       "(10, 1)"
      ]
     },
     "execution_count": 393,
     "metadata": {},
     "output_type": "execute_result"
    }
   ],
   "source": [
    "# combine two intervals with weight3\n",
    "weight3.shape"
   ]
  },
  {
   "cell_type": "code",
   "execution_count": 394,
   "id": "467f028a-7fe0-4da0-bb8e-8d0050a53ac1",
   "metadata": {},
   "outputs": [
    {
     "data": {
      "text/plain": [
       "1.2797909"
      ]
     },
     "execution_count": 394,
     "metadata": {},
     "output_type": "execute_result"
    }
   ],
   "source": [
    "weight3[0, 0]"
   ]
  },
  {
   "cell_type": "code",
   "execution_count": 395,
   "id": "7f83a386-9d58-409f-9759-4a0536a85843",
   "metadata": {},
   "outputs": [
    {
     "data": {
      "text/plain": [
       "1.2696681"
      ]
     },
     "execution_count": 395,
     "metadata": {},
     "output_type": "execute_result"
    }
   ],
   "source": [
    "weight3[1, 0]"
   ]
  },
  {
   "cell_type": "code",
   "execution_count": 396,
   "id": "a46311ee-91f9-4fa7-ab41-a047e6bdce28",
   "metadata": {},
   "outputs": [
    {
     "data": {
      "text/plain": [
       "interval([0.5444901798402015, 7.021952508305306])"
      ]
     },
     "execution_count": 396,
     "metadata": {},
     "output_type": "execute_result"
    }
   ],
   "source": [
    "interval3 = 0\n",
    "interval3 += interval2_0 * weight3[0, 0] + interval2_1 * weight3[1, 0] + bias3\n",
    "interval3"
   ]
  },
  {
   "cell_type": "markdown",
   "id": "ddb77f3d-2c53-44b7-8245-45811c477ab5",
   "metadata": {},
   "source": [
    "## Curved paths"
   ]
  },
  {
   "cell_type": "code",
   "execution_count": 443,
   "id": "df7a64e7-dc91-472a-8510-8d139b15c56c",
   "metadata": {},
   "outputs": [
    {
     "data": {
      "text/plain": [
       "<matplotlib.collections.PathCollection at 0x3aa670be0>"
      ]
     },
     "execution_count": 443,
     "metadata": {},
     "output_type": "execute_result"
    },
    {
     "data": {
      "image/png": "[encoded data removed]",
      "text/plain": [
       "<Figure size 640x480 with 1 Axes>"
      ]
     },
     "metadata": {},
     "output_type": "display_data"
    }
   ],
   "source": [
    "x = np.linspace(5, 15, 100)\n",
    "y = 0.5 * x ** 3 - 9 * x ** 2 + 5*x\n",
    "plt.scatter(x, y)"
   ]
  },
  {
   "cell_type": "code",
   "execution_count": 450,
   "id": "1e69ce0b-af78-4488-ab96-d7b4351deb1c",
   "metadata": {},
   "outputs": [
    {
     "data": {
      "text/plain": [
       "<matplotlib.collections.PathCollection at 0x3b2cea5f0>"
      ]
     },
     "execution_count": 450,
     "metadata": {},
     "output_type": "execute_result"
    },
    {
     "data": {
      "image/png": "[encoded data removed]",
      "text/plain": [
       "<Figure size 640x480 with 1 Axes>"
      ]
     },
     "metadata": {},
     "output_type": "display_data"
    }
   ],
   "source": [
    "x = np.linspace(-10, 10, 100)\n",
    "y = x**2\n",
    "plt.scatter(x, y)"
   ]
  },
  {
   "cell_type": "code",
   "execution_count": 454,
   "id": "bcd619de-3bb2-473e-a73c-b17dcee4d220",
   "metadata": {},
   "outputs": [
    {
     "data": {
      "text/plain": [
       "<matplotlib.collections.PathCollection at 0x3aa62b2b0>"
      ]
     },
     "execution_count": 454,
     "metadata": {},
     "output_type": "execute_result"
    },
    {
     "data": {
      "image/png": "[encoded data removed]",
      "text/plain": [
       "<Figure size 640x480 with 1 Axes>"
      ]
     },
     "metadata": {},
     "output_type": "display_data"
    }
   ],
   "source": [
    "y_noisy = y + np.random.randn(*x.shape) * 3\n",
    "plt.scatter(x, y_noisy)"
   ]
  },
  {
   "cell_type": "code",
   "execution_count": 455,
   "id": "d78fdd80-0b2e-4f5b-8a9e-df6c5824b4ed",
   "metadata": {},
   "outputs": [
    {
     "name": "stderr",
     "output_type": "stream",
     "text": [
      "2023-04-06 23:27:32.426830: I tensorflow/core/grappler/optimizers/custom_graph_optimizer_registry.cc:114] Plugin optimizer for device_type GPU is enabled.\n",
      "2023-04-06 23:27:32.439464: I tensorflow/core/grappler/optimizers/custom_graph_optimizer_registry.cc:114] Plugin optimizer for device_type GPU is enabled.\n"
     ]
    },
    {
     "data": {
      "text/plain": [
       "{'name': 'normalization_18',\n",
       " 'trainable': True,\n",
       " 'batch_input_shape': (None, 1),\n",
       " 'dtype': 'float32',\n",
       " 'axis': (),\n",
       " 'mean': None,\n",
       " 'variance': None}"
      ]
     },
     "execution_count": 455,
     "metadata": {},
     "output_type": "execute_result"
    }
   ],
   "source": [
    "normalizer = layers.Normalization(\n",
    "    input_shape=[\n",
    "        1,\n",
    "    ],\n",
    "    axis=None,\n",
    ")\n",
    "normalizer.adapt(x)\n",
    "normalizer.get_config()"
   ]
  },
  {
   "cell_type": "code",
   "execution_count": 456,
   "id": "78c9425e-5418-4d8f-ab66-ef8f30223f86",
   "metadata": {},
   "outputs": [
    {
     "data": {
      "text/plain": [
       "<tf.Tensor: shape=(1,), dtype=float32, numpy=array([2.682209e-07], dtype=float32)>"
      ]
     },
     "execution_count": 456,
     "metadata": {},
     "output_type": "execute_result"
    }
   ],
   "source": [
    "normalizer.mean"
   ]
  },
  {
   "cell_type": "code",
   "execution_count": 457,
   "id": "d0309f35-5d87-4d34-bf2c-528d6820b0da",
   "metadata": {},
   "outputs": [
    {
     "data": {
      "text/plain": [
       "<tf.Tensor: shape=(1,), dtype=float32, numpy=array([34.006733], dtype=float32)>"
      ]
     },
     "execution_count": 457,
     "metadata": {},
     "output_type": "execute_result"
    }
   ],
   "source": [
    "normalizer.variance"
   ]
  },
  {
   "cell_type": "code",
   "execution_count": 1,
   "id": "2c5d4a72-5ae3-446b-a380-9f115500e100",
   "metadata": {},
   "outputs": [
    {
     "ename": "NameError",
     "evalue": "name 'layers' is not defined",
     "output_type": "error",
     "traceback": [
      "\u001b[0;31m---------------------------------------------------------------------------\u001b[0m",
      "\u001b[0;31mNameError\u001b[0m                                 Traceback (most recent call last)",
      "Cell \u001b[0;32mIn[1], line 1\u001b[0m\n\u001b[0;32m----> 1\u001b[0m normalizer \u001b[38;5;241m=\u001b[39m \u001b[43mlayers\u001b[49m\u001b[38;5;241m.\u001b[39mNormalization(\n\u001b[1;32m      2\u001b[0m     input_shape\u001b[38;5;241m=\u001b[39m[\n\u001b[1;32m      3\u001b[0m         \u001b[38;5;241m1\u001b[39m,\n\u001b[1;32m      4\u001b[0m     ],\n\u001b[1;32m      5\u001b[0m     axis\u001b[38;5;241m=\u001b[39m\u001b[38;5;28;01mNone\u001b[39;00m,\n\u001b[1;32m      6\u001b[0m )\n\u001b[1;32m      7\u001b[0m normalizer\u001b[38;5;241m.\u001b[39madapt(x)\n\u001b[1;32m      8\u001b[0m regression_model \u001b[38;5;241m=\u001b[39m tf\u001b[38;5;241m.\u001b[39mkeras\u001b[38;5;241m.\u001b[39mSequential(\n\u001b[1;32m      9\u001b[0m     [\n\u001b[1;32m     10\u001b[0m         normalizer, \n\u001b[0;32m   (...)\u001b[0m\n\u001b[1;32m     16\u001b[0m     ]\n\u001b[1;32m     17\u001b[0m )\n",
      "\u001b[0;31mNameError\u001b[0m: name 'layers' is not defined"
     ]
    }
   ],
   "source": [
    "normalizer = layers.Normalization(\n",
    "    input_shape=[\n",
    "        1,\n",
    "    ],\n",
    "    axis=None,\n",
    ")\n",
    "normalizer.adapt(x)\n",
    "regression_model = tf.keras.Sequential(\n",
    "    [\n",
    "        normalizer, \n",
    "        layers.Dense(units=1, activation=\"sigmoid\"),\n",
    "        layers.Dense(units=10, activation=\"sigmoid\"),\n",
    "        layers.Dense(units=10, activation=\"sigmoid\"),\n",
    "        layers.Dense(units=10, activation=\"sigmoid\"),\n",
    "        layers.Dense(units=1, activation=\"sigmoid\"),\n",
    "    ]\n",
    ")\n",
    "regression_model.compile(\n",
    "    optimizer=tf.keras.optimizers.Adam(learning_rate=0.1), loss=\"mean_squared_error\"\n",
    ")\n",
    "history = regression_model.fit(\n",
    "    x,\n",
    "    y,\n",
    "    epochs=500,\n",
    "    # Suppress logging.\n",
    "    verbose=0,\n",
    "    # Calculate validation results on 20% of the training data.\n",
    "    validation_split=0.1,\n",
    ")"
   ]
  },
  {
   "cell_type": "code",
   "execution_count": 473,
   "id": "e475c5b2-db51-4deb-8376-c924a955b6d4",
   "metadata": {},
   "outputs": [
    {
     "data": {
      "image/png": "[encoded data removed]",
      "text/plain": [
       "<Figure size 640x480 with 1 Axes>"
      ]
     },
     "metadata": {},
     "output_type": "display_data"
    }
   ],
   "source": [
    "plot_loss(history)"
   ]
  },
  {
   "cell_type": "code",
   "execution_count": 474,
   "id": "136a7367-8788-44f8-80c6-94a051205e73",
   "metadata": {},
   "outputs": [
    {
     "name": "stdout",
     "output_type": "stream",
     "text": [
      "4/4 [==============================] - 0s 14ms/step\n"
     ]
    },
    {
     "name": "stderr",
     "output_type": "stream",
     "text": [
      "2023-04-06 23:35:10.621063: I tensorflow/core/grappler/optimizers/custom_graph_optimizer_registry.cc:114] Plugin optimizer for device_type GPU is enabled.\n"
     ]
    },
    {
     "data": {
      "text/plain": [
       "<matplotlib.legend.Legend at 0x3ced1a650>"
      ]
     },
     "execution_count": 474,
     "metadata": {},
     "output_type": "execute_result"
    },
    {
     "data": {
      "image/png": "[encoded data removed]",
      "text/plain": [
       "<Figure size 640x480 with 1 Axes>"
      ]
     },
     "metadata": {},
     "output_type": "display_data"
    }
   ],
   "source": [
    "y_predict = regression_model.predict(x)\n",
    "plt.plot(x, y_predict)\n",
    "plt.scatter(x, y)\n",
    "plt.legend([\"NN predictions\", \"data\"])"
   ]
  },
  {
   "cell_type": "code",
   "execution_count": 475,
   "id": "f2b451c6-60a6-4544-abd8-5739ebae31a2",
   "metadata": {},
   "outputs": [
    {
     "data": {
      "text/plain": [
       "array([[0.9999938],\n",
       "       [0.9999938],\n",
       "       [0.9999938],\n",
       "       [0.9999938],\n",
       "       [0.9999938],\n",
       "       [0.9999938],\n",
       "       [0.9999938],\n",
       "       [0.9999938],\n",
       "       [0.9999938],\n",
       "       [0.9999938],\n",
       "       [0.9999938],\n",
       "       [0.9999938],\n",
       "       [0.9999938],\n",
       "       [0.9999938],\n",
       "       [0.9999938],\n",
       "       [0.9999938],\n",
       "       [0.9999938],\n",
       "       [0.9999938],\n",
       "       [0.9999938],\n",
       "       [0.9999938],\n",
       "       [0.9999938],\n",
       "       [0.9999938],\n",
       "       [0.9999938],\n",
       "       [0.9999938],\n",
       "       [0.9999938],\n",
       "       [0.9999938],\n",
       "       [0.9999938],\n",
       "       [0.9999938],\n",
       "       [0.9999938],\n",
       "       [0.9999938],\n",
       "       [0.9999938],\n",
       "       [0.9999938],\n",
       "       [0.9999938],\n",
       "       [0.9999938],\n",
       "       [0.9999938],\n",
       "       [0.9999938],\n",
       "       [0.9999938],\n",
       "       [0.9999938],\n",
       "       [0.9999938],\n",
       "       [0.9999938],\n",
       "       [0.9999938],\n",
       "       [0.9999938],\n",
       "       [0.9999938],\n",
       "       [0.9999938],\n",
       "       [0.9999938],\n",
       "       [0.9999938],\n",
       "       [0.9999938],\n",
       "       [0.9999938],\n",
       "       [0.9999938],\n",
       "       [0.9999938],\n",
       "       [0.9999938],\n",
       "       [0.9999938],\n",
       "       [0.9999938],\n",
       "       [0.9999938],\n",
       "       [0.9999938],\n",
       "       [0.9999938],\n",
       "       [0.9999938],\n",
       "       [0.9999938],\n",
       "       [0.9999938],\n",
       "       [0.9999938],\n",
       "       [0.9999938],\n",
       "       [0.9999938],\n",
       "       [0.9999938],\n",
       "       [0.9999938],\n",
       "       [0.9999938],\n",
       "       [0.9999938],\n",
       "       [0.9999938],\n",
       "       [0.9999938],\n",
       "       [0.9999938],\n",
       "       [0.9999938],\n",
       "       [0.9999938],\n",
       "       [0.9999938],\n",
       "       [0.9999938],\n",
       "       [0.9999938],\n",
       "       [0.9999938],\n",
       "       [0.9999938],\n",
       "       [0.9999938],\n",
       "       [0.9999938],\n",
       "       [0.9999938],\n",
       "       [0.9999938],\n",
       "       [0.9999938],\n",
       "       [0.9999938],\n",
       "       [0.9999938],\n",
       "       [0.9999938],\n",
       "       [0.9999938],\n",
       "       [0.9999938],\n",
       "       [0.9999938],\n",
       "       [0.9999938],\n",
       "       [0.9999938],\n",
       "       [0.9999938],\n",
       "       [0.9999938],\n",
       "       [0.9999938],\n",
       "       [0.9999938],\n",
       "       [0.9999938],\n",
       "       [0.9999938],\n",
       "       [0.9999938],\n",
       "       [0.9999938],\n",
       "       [0.9999938],\n",
       "       [0.9999938],\n",
       "       [0.9999938]], dtype=float32)"
      ]
     },
     "execution_count": 475,
     "metadata": {},
     "output_type": "execute_result"
    }
   ],
   "source": [
    "y_predict"
   ]
  }
 ],
 "metadata": {
  "kernelspec": {
   "display_name": "Python 3 (ipykernel)",
   "language": "python",
   "name": "python3"
  },
  "language_info": {
   "codemirror_mode": {
    "name": "ipython",
    "version": 3
   },
   "file_extension": ".py",
   "mimetype": "text/x-python",
   "name": "python",
   "nbconvert_exporter": "python",
   "pygments_lexer": "ipython3",
   "version": "3.11.0"
  }
 },
 "nbformat": 4,
 "nbformat_minor": 5
}
